{
 "cells": [
  {
   "cell_type": "code",
   "execution_count": null,
   "metadata": {},
   "outputs": [],
   "source": [
    "from pyspark.sql import SparkSession\n",
    "from pyspark.sql.functions import explode\n",
    "from pyspark.sql.functions import split"
   ]
  },
  {
   "cell_type": "code",
   "execution_count": null,
   "metadata": {},
   "outputs": [],
   "source": [
    "def toUri(path):\n",
    "    \"\"\"Return file:// URL from a filename.\"\"\"\n",
    "    path = os.path.abspath(os.path.expanduser(os.path.expandvars(path)))\n",
    "    return pathlib.Path(path).as_uri()"
   ]
  },
  {
   "cell_type": "markdown",
   "metadata": {},
   "source": [
    "## Es necesario tener HDFS arrancado (start-dfs.sh)"
   ]
  },
  {
   "cell_type": "code",
   "execution_count": null,
   "metadata": {},
   "outputs": [],
   "source": [
    "spark = SparkSession \\\n",
    "    .builder \\\n",
    "    .appName(\"StructuredNetworkWordCount\") \\\n",
    "    .getOrCreate()"
   ]
  },
  {
   "cell_type": "code",
   "execution_count": null,
   "metadata": {},
   "outputs": [],
   "source": [
    "lines = spark \\\n",
    "    .readStream \\\n",
    "    .load( format=\"socket\",\n",
    "           host=\"localhost\",\n",
    "           port=9997\n",
    "         )\n",
    "\n",
    "words = lines.select(\n",
    "    explode(split(lines.value, \"b\")).alias('word')\n",
    ")\n",
    "\n",
    "\n",
    "wordCounts = words.groupBy('word').count()"
   ]
  },
  {
   "cell_type": "markdown",
   "metadata": {},
   "source": [
    "Ejecutar en terminar nc -lk 9999 y escribir algo"
   ]
  },
  {
   "cell_type": "code",
   "execution_count": null,
   "metadata": {},
   "outputs": [],
   "source": [
    "#Conexion a Socket\n",
    "#muestra el resultado en la consola donde se ejecuto pyspark\n",
    "query = wordCounts \\\n",
    "    .writeStream \\\n",
    "    .outputMode(\"complete\") \\\n",
    "    .format(\"console\") \\\n",
    "    .start()"
   ]
  },
  {
   "cell_type": "code",
   "execution_count": null,
   "metadata": {},
   "outputs": [],
   "source": [
    "#manda el resultado a un topic de kafka\n",
    "#Creamos topic\n",
    "#kafka-topics.sh --zookeeper 127.0.0.1:2181 --topic updates --create --partitions 3 --replication-factor 2\n",
    "#Consumidor\n",
    "#kafka-console-consumer.sh --bootstrap-server 127.0.0.1:9092 --topic updates\n",
    "words2 = lines.select(\n",
    "        explode(split(lines.value, \" \")).alias('value')#Se tiene que llamar value para poder mandarlo a kafka\n",
    ")\n",
    "\n",
    "query = words2 \\\n",
    "    .writeStream \\\n",
    "    .format(\"kafka\")  \\\n",
    "    .option(\"kafka.bootstrap.servers\", \"localhost:9092\") \\\n",
    "    .option(\"topic\", \"updates\") \\\n",
    "    .option(\"checkpointLocation\", \"/tmp2\") \\\n",
    "    .start()\n",
    "\n",
    "try:\n",
    "    query.awaitTermination()\n",
    "except:\n",
    "    pass"
   ]
  },
  {
   "cell_type": "code",
   "execution_count": null,
   "metadata": {},
   "outputs": [],
   "source": [
    "#Guarda en tabla en memoria y consulta con SparkSQL\n",
    "query = wordCounts \\\n",
    "    .writeStream \\\n",
    "    .queryName(\"aggregates\") \\\n",
    "    .outputMode(\"complete\") \\\n",
    "    .format(\"memory\") \\\n",
    "    .start()\n",
    "\n",
    "\n",
    "\n",
    "try:\n",
    "    query.awaitTermination()\n",
    "except:\n",
    "    pass"
   ]
  },
  {
   "cell_type": "code",
   "execution_count": null,
   "metadata": {},
   "outputs": [],
   "source": [
    "spark.sql(\"select * from aggregates\").show()"
   ]
  }
 ],
 "metadata": {
  "kernelspec": {
   "display_name": "Python 3",
   "language": "python",
   "name": "python3"
  },
  "language_info": {
   "codemirror_mode": {
    "name": "ipython",
    "version": 3
   },
   "file_extension": ".py",
   "mimetype": "text/x-python",
   "name": "python",
   "nbconvert_exporter": "python",
   "pygments_lexer": "ipython3",
   "version": "3.7.3"
  }
 },
 "nbformat": 4,
 "nbformat_minor": 4
}
