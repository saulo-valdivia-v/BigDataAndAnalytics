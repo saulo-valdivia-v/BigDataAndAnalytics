{
 "cells": [
  {
   "cell_type": "code",
   "execution_count": 1,
   "metadata": {},
   "outputs": [],
   "source": [
    "import findspark\n",
    "findspark.init(\"/home/ubuntu/bigdata/apps/spark\")\n",
    "\n",
    "from pyspark import SparkContext\n",
    "from pyspark.streaming import StreamingContext"
   ]
  },
  {
   "cell_type": "code",
   "execution_count": 2,
   "metadata": {},
   "outputs": [],
   "source": [
    "sc.stop()\n",
    "sc = SparkContext(appName=\"NetWordCountStateWindow\")\n",
    "ssc = StreamingContext(sc, 100)"
   ]
  },
  {
   "cell_type": "markdown",
   "metadata": {},
   "source": [
    "### Es necesario tener HDFS arrancado, guarda información (sólo si no ponemos ruta local)"
   ]
  },
  {
   "cell_type": "code",
   "execution_count": 7,
   "metadata": {
    "scrolled": true
   },
   "outputs": [],
   "source": [
    "    # To maintain status info we need to use checkpoints. This way, if our\n",
    "    # application fails it will be able to resume operations correctly\n",
    "    # later on, using the updated information\n",
    "    checkpointDir = \"file:///home/ubuntu/bigdata/apps/spark/checkpoint\"\n",
    "    ssc.checkpoint(checkpointDir)  # create dir for checkpoint archives\n",
    "    #ssc.checkpoint(\"/tmp/checkpoint\")  # Necesario HDFS\n",
    "\n",
    "    lines = ssc.socketTextStream(\"localhost\", 9997)\n",
    "    counts = lines.flatMap(lambda line: line.split(\"b\"))\\\n",
    "              .map(lambda word: (word, 1))\\\n",
    "              .reduceByKeyAndWindow(lambda x,y: x+y, lambda x, y: x-y, 604800, 600)              \n",
    "    \n",
    "    counts.pprint()\n",
    "\n",
    "    #ssc.start()\n",
    "    #ssc.awaitTermination()"
   ]
  },
  {
   "cell_type": "code",
   "execution_count": 6,
   "metadata": {
    "scrolled": false
   },
   "outputs": [
    {
     "name": "stdout",
     "output_type": "stream",
     "text": [
      "-------------------------------------------\n",
      "Time: 2021-03-27 17:19:24\n",
      "-------------------------------------------\n",
      "('hola', 3)\n",
      "('adios', 1)\n",
      "\n",
      "-------------------------------------------\n",
      "Time: 2021-03-27 17:19:36\n",
      "-------------------------------------------\n",
      "('hola', 4)\n",
      "('adios', 1)\n",
      "\n",
      "-------------------------------------------\n",
      "Time: 2021-03-27 17:19:48\n",
      "-------------------------------------------\n",
      "('hola', 4)\n",
      "('adios', 1)\n",
      "\n",
      "-------------------------------------------\n",
      "Time: 2021-03-27 17:20:00\n",
      "-------------------------------------------\n",
      "('hola', 1)\n",
      "\n",
      "-------------------------------------------\n",
      "Time: 2021-03-27 17:20:12\n",
      "-------------------------------------------\n",
      "\n",
      "-------------------------------------------\n",
      "Time: 2021-03-27 17:20:24\n",
      "-------------------------------------------\n",
      "\n",
      "-------------------------------------------\n",
      "Time: 2021-03-27 17:20:36\n",
      "-------------------------------------------\n",
      "('hola', 2)\n",
      "('adios', 1)\n",
      "\n",
      "-------------------------------------------\n",
      "Time: 2021-03-27 17:20:48\n",
      "-------------------------------------------\n",
      "('hola', 2)\n",
      "('adios', 1)\n",
      "\n",
      "-------------------------------------------\n",
      "Time: 2021-03-27 17:21:00\n",
      "-------------------------------------------\n",
      "('hola', 2)\n",
      "('adios', 1)\n",
      "\n",
      "-------------------------------------------\n",
      "Time: 2021-03-27 17:21:12\n",
      "-------------------------------------------\n",
      "\n",
      "-------------------------------------------\n",
      "Time: 2021-03-27 17:21:24\n",
      "-------------------------------------------\n",
      "\n"
     ]
    }
   ],
   "source": [
    "ssc.start()\n"
   ]
  },
  {
   "cell_type": "code",
   "execution_count": 7,
   "metadata": {},
   "outputs": [],
   "source": [
    "ssc.stop()\n",
    "sc.stop()\n"
   ]
  }
 ],
 "metadata": {
  "kernelspec": {
   "display_name": "Python 3",
   "language": "python",
   "name": "python3"
  },
  "language_info": {
   "codemirror_mode": {
    "name": "ipython",
    "version": 3
   },
   "file_extension": ".py",
   "mimetype": "text/x-python",
   "name": "python",
   "nbconvert_exporter": "python",
   "pygments_lexer": "ipython3",
   "version": "3.7.3"
  }
 },
 "nbformat": 4,
 "nbformat_minor": 2
}
