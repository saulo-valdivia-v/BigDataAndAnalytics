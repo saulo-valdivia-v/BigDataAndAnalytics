{
 "cells": [
  {
   "cell_type": "code",
   "execution_count": 1,
   "metadata": {},
   "outputs": [],
   "source": [
    "ruta = \"file:////home/ubuntu/bigdata/examples/spark/sparkSQL/data\"\n",
    "\n",
    "datosCoches = spark.read.format('csv') \\\n",
    "            .option('header','true') \\\n",
    "            .option('inferSchema','true') \\\n",
    "            .option('delimiter', ';') \\\n",
    "            .load(ruta + \"/dataset_coches.csv\")"
   ]
  },
  {
   "cell_type": "code",
   "execution_count": 2,
   "metadata": {},
   "outputs": [
    {
     "name": "stdout",
     "output_type": "stream",
     "text": [
      "+--------------------+----+---------+------------+----------+------+------------+-----+------+\n",
      "|                 Car| MPG|Cylinders|Displacement|Horsepower|Weight|Acceleration|Model|Origin|\n",
      "+--------------------+----+---------+------------+----------+------+------------+-----+------+\n",
      "|Chevrolet Chevell...|18.0|        8|       307.0|     130.0|  3504|        12.0|   70|    US|\n",
      "|   Buick Skylark 320|15.0|        8|       350.0|     165.0|  3693|        11.5|   70|    US|\n",
      "|  Plymouth Satellite|18.0|        8|       318.0|     150.0|  3436|        11.0|   70|    US|\n",
      "|       AMC Rebel SST|16.0|        8|       304.0|     150.0|  3433|        12.0|   70|    US|\n",
      "|         Ford Torino|17.0|        8|       302.0|     140.0|  3449|        10.5|   70|    US|\n",
      "+--------------------+----+---------+------------+----------+------+------------+-----+------+\n",
      "only showing top 5 rows\n",
      "\n"
     ]
    }
   ],
   "source": [
    "datosCoches.show(5)"
   ]
  },
  {
   "cell_type": "code",
   "execution_count": 6,
   "metadata": {},
   "outputs": [
    {
     "name": "stdout",
     "output_type": "stream",
     "text": [
      "+--------------------+---------+\n",
      "|                 Car|Cylinders|\n",
      "+--------------------+---------+\n",
      "|Citroen DS-21 Pallas|        4|\n",
      "|Volkswagen 1131 D...|        4|\n",
      "|         Peugeot 504|        4|\n",
      "|         Audi 100 LS|        4|\n",
      "|            Saab 99e|        4|\n",
      "|            BMW 2002|        4|\n",
      "|Volkswagen Super ...|        4|\n",
      "|           Opel 1900|        4|\n",
      "|         Peugeot 304|        4|\n",
      "|           Fiat 124B|        4|\n",
      "|Volkswagen Model 111|        4|\n",
      "|   Volkswagen Type 3|        4|\n",
      "|     Volvo 145e (sw)|        4|\n",
      "| Volkswagen 411 (sw)|        4|\n",
      "|    Peugeot 504 (sw)|        4|\n",
      "|     Renault 12 (sw)|        4|\n",
      "|Volkswagen Super ...|        4|\n",
      "|Fiat 124 Sport Coupe|        4|\n",
      "|            Fiat 128|        4|\n",
      "|          Opel Manta|        4|\n",
      "+--------------------+---------+\n",
      "only showing top 20 rows\n",
      "\n"
     ]
    }
   ],
   "source": [
    "from pyspark.sql.functions import count, desc, avg\n",
    "\n",
    "europeCars = datosCoches.where(\"Origin == 'Europe'\")\n",
    "selectEropeCars = europeCars.select(europeCars['Car'].alias('Car'), europeCars['Cylinders'].alias('Cylinders'))\n",
    "\n",
    "selectEropeCars.show()"
   ]
  },
  {
   "cell_type": "code",
   "execution_count": 13,
   "metadata": {},
   "outputs": [],
   "source": [
    "datosCoches.createOrReplaceTempView(\"carsSQL\")"
   ]
  },
  {
   "cell_type": "code",
   "execution_count": 14,
   "metadata": {},
   "outputs": [
    {
     "name": "stdout",
     "output_type": "stream",
     "text": [
      "+--------------------+---------+\n",
      "|                 Car|Cylinders|\n",
      "+--------------------+---------+\n",
      "|Citroen DS-21 Pallas|        4|\n",
      "|Volkswagen 1131 D...|        4|\n",
      "|         Peugeot 504|        4|\n",
      "|         Audi 100 LS|        4|\n",
      "|            Saab 99e|        4|\n",
      "|            BMW 2002|        4|\n",
      "|Volkswagen Super ...|        4|\n",
      "|           Opel 1900|        4|\n",
      "|         Peugeot 304|        4|\n",
      "|           Fiat 124B|        4|\n",
      "|Volkswagen Model 111|        4|\n",
      "|   Volkswagen Type 3|        4|\n",
      "|     Volvo 145e (sw)|        4|\n",
      "| Volkswagen 411 (sw)|        4|\n",
      "|    Peugeot 504 (sw)|        4|\n",
      "|     Renault 12 (sw)|        4|\n",
      "|Volkswagen Super ...|        4|\n",
      "|Fiat 124 Sport Coupe|        4|\n",
      "|            Fiat 128|        4|\n",
      "|          Opel Manta|        4|\n",
      "+--------------------+---------+\n",
      "only showing top 20 rows\n",
      "\n"
     ]
    }
   ],
   "source": [
    "rset = spark.sql(\"SELECT Car, Cylinders FROM carsSQL where Origin == 'Europe'\")\n",
    "rset.show()"
   ]
  },
  {
   "cell_type": "code",
   "execution_count": 16,
   "metadata": {},
   "outputs": [
    {
     "name": "stdout",
     "output_type": "stream",
     "text": [
      "+------+-----+\n",
      "|Origin|Total|\n",
      "+------+-----+\n",
      "|Europe|   73|\n",
      "|    US|  254|\n",
      "| Japan|   79|\n",
      "+------+-----+\n",
      "\n"
     ]
    }
   ],
   "source": [
    "datos2 = datosCoches.groupBy(datosCoches['Origin']) \\\n",
    "        .agg(count(datosCoches['Origin']).alias('Total'))\n",
    "\n",
    "datos2.show(5)"
   ]
  },
  {
   "cell_type": "code",
   "execution_count": 17,
   "metadata": {},
   "outputs": [
    {
     "name": "stdout",
     "output_type": "stream",
     "text": [
      "+------+-----+\n",
      "|Origin|Total|\n",
      "+------+-----+\n",
      "|Europe|   73|\n",
      "|    US|  254|\n",
      "| Japan|   79|\n",
      "+------+-----+\n",
      "\n"
     ]
    }
   ],
   "source": [
    "rset = spark.sql(\"SELECT Origin, count(*) as Total FROM carsSQL group by Origin\")\n",
    "rset.show()"
   ]
  }
 ],
 "metadata": {
  "kernelspec": {
   "display_name": "Python 3",
   "language": "python",
   "name": "python3"
  },
  "language_info": {
   "codemirror_mode": {
    "name": "ipython",
    "version": 3
   },
   "file_extension": ".py",
   "mimetype": "text/x-python",
   "name": "python",
   "nbconvert_exporter": "python",
   "pygments_lexer": "ipython3",
   "version": "3.7.3"
  }
 },
 "nbformat": 4,
 "nbformat_minor": 2
}
