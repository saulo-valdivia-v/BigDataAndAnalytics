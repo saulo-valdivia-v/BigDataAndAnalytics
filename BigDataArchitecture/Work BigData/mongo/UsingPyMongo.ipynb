{
 "cells": [
  {
   "cell_type": "markdown",
   "metadata": {},
   "source": [
    "# Documentación de pymongo\n",
    "\n",
    "La documentación está en la url <https://pymongo.readthedocs.io/en/stable/api/pymongo/index.html>\n",
    "\n",
    "# First steps with MongoDB and PyMongo\n",
    "\n",
    "\n",
    "*   Connection to Mongo\n",
    "*   Basic database, collection management\n",
    "*   CRUD  one document\n",
    "*   CRUD  many documents"
   ]
  },
  {
   "cell_type": "markdown",
   "metadata": {},
   "source": [
    "# 1. Import PyMongo and establish connection\n",
    "\n",
    "Tenemos que asegurarnos de que tenemos instalados los módulos necesarios\n",
    "\n",
    "`conda install pymongo`\n",
    "\n",
    "Habitualmente se crean diferentes environments para diferentes herramientas o proyectos, aunque no es objetivo de este curso.\n",
    "\n",
    "Antes de arrancar jupyter nos podemos crear un environment para mongo con las siguientes instrucciones:\n",
    "\n",
    "`conda create -n mongo --clone base\n",
    "conda activate mongo\n",
    "conda install pymongo\n",
    "`\n",
    "\n",
    "Una vez instalado podemos ejecutar `jupyter-lab` para arrancarlo\n",
    "\n",
    "Con la siguiente instrucción nos aseguramos de estar utilizando el environment creado para mongo, esta instrucción lista todos los environments y nos indica con un `*` cuál está activo"
   ]
  },
  {
   "cell_type": "code",
   "execution_count": 1,
   "metadata": {},
   "outputs": [
    {
     "name": "stdout",
     "output_type": "stream",
     "text": [
      "# conda environments:\n",
      "#\n",
      "base                     /home/template/miniconda3\n",
      "mongo                 *  /home/template/miniconda3/envs/mongo\n",
      "\n"
     ]
    }
   ],
   "source": [
    "!conda env list"
   ]
  },
  {
   "cell_type": "code",
   "execution_count": 2,
   "metadata": {},
   "outputs": [],
   "source": [
    "from pymongo import MongoClient\n",
    "\n",
    "client = MongoClient('mongodb://localhost:27017/')"
   ]
  },
  {
   "cell_type": "code",
   "execution_count": 3,
   "metadata": {},
   "outputs": [
    {
     "name": "stdout",
     "output_type": "stream",
     "text": [
      "['Curso', 'admin', 'config', 'curso2', 'datos_lecturer', 'local', 'test']\n"
     ]
    }
   ],
   "source": [
    "print(client.list_database_names())"
   ]
  },
  {
   "cell_type": "code",
   "execution_count": 4,
   "metadata": {},
   "outputs": [
    {
     "data": {
      "text/plain": [
       "<pymongo.results.InsertManyResult at 0x7efd3fd72c40>"
      ]
     },
     "execution_count": 4,
     "metadata": {},
     "output_type": "execute_result"
    }
   ],
   "source": [
    "cars = [ {'name': 'Audi', 'price': 52642},\n",
    "    {'name': 'Mercedes', 'price': 57127},\n",
    "    {'name': 'Skoda', 'price': 9000},\n",
    "    {'name': 'Volvo', 'price': 29000},\n",
    "    {'name': 'Bentley', 'price': 350000},\n",
    "    {'name': 'Citroen', 'price': 21000},\n",
    "    {'name': 'Hummer', 'price': 41400},\n",
    "    {'name': 'Volkswagen', 'price': 21600} ]\n",
    "\n",
    "db = client.Curso\n",
    "db.cars.drop()\n",
    "db.cars.insert_many(cars)"
   ]
  },
  {
   "cell_type": "code",
   "execution_count": 5,
   "metadata": {},
   "outputs": [
    {
     "data": {
      "text/plain": [
       "[{'name': 'gimnasioescritura',\n",
       "  'type': 'collection',\n",
       "  'options': {},\n",
       "  'info': {'readOnly': False,\n",
       "   'uuid': UUID('0379c071-4dfa-4e0c-b569-6d499911902a')},\n",
       "  'idIndex': {'v': 2, 'key': {'_id': 1}, 'name': '_id_'}},\n",
       " {'name': 'ejercicioGimnasio',\n",
       "  'type': 'collection',\n",
       "  'options': {},\n",
       "  'info': {'readOnly': False,\n",
       "   'uuid': UUID('19550f58-1c85-43a3-9e4a-8f4e573f5b86')},\n",
       "  'idIndex': {'v': 2, 'key': {'_id': 1}, 'name': '_id_'}},\n",
       " {'name': 'Prueba',\n",
       "  'type': 'collection',\n",
       "  'options': {},\n",
       "  'info': {'readOnly': False,\n",
       "   'uuid': UUID('2001bcd9-e9d5-494b-9538-3c981da79cf6')},\n",
       "  'idIndex': {'v': 2, 'key': {'_id': 1}, 'name': '_id_'}},\n",
       " {'name': 'cars',\n",
       "  'type': 'collection',\n",
       "  'options': {},\n",
       "  'info': {'readOnly': False,\n",
       "   'uuid': UUID('453ed38d-5da5-488b-9ccc-89ab6c9c7c27')},\n",
       "  'idIndex': {'v': 2, 'key': {'_id': 1}, 'name': '_id_'}},\n",
       " {'name': 'puntuaciones3',\n",
       "  'type': 'collection',\n",
       "  'options': {},\n",
       "  'info': {'readOnly': False,\n",
       "   'uuid': UUID('4da17ece-e0d7-403d-a4c2-583bab1a4361')},\n",
       "  'idIndex': {'v': 2, 'key': {'_id': 1}, 'name': '_id_'}},\n",
       " {'name': 'tareas',\n",
       "  'type': 'collection',\n",
       "  'options': {},\n",
       "  'info': {'readOnly': False,\n",
       "   'uuid': UUID('6ad424a4-8ba4-4b46-9a08-43e4438e6a22')},\n",
       "  'idIndex': {'v': 2, 'key': {'_id': 1}, 'name': '_id_'}},\n",
       " {'name': 'lecturer',\n",
       "  'type': 'collection',\n",
       "  'options': {},\n",
       "  'info': {'readOnly': False,\n",
       "   'uuid': UUID('9dbf16c7-16be-46d0-ba14-c6219314fc7b')},\n",
       "  'idIndex': {'v': 2, 'key': {'_id': 1}, 'name': '_id_'}},\n",
       " {'name': 'gimnasio',\n",
       "  'type': 'collection',\n",
       "  'options': {},\n",
       "  'info': {'readOnly': False,\n",
       "   'uuid': UUID('cb936646-22d3-4a3c-a4d0-b084c2a7ed7d')},\n",
       "  'idIndex': {'v': 2, 'key': {'_id': 1}, 'name': '_id_'}},\n",
       " {'name': 'alumnos',\n",
       "  'type': 'collection',\n",
       "  'options': {},\n",
       "  'info': {'readOnly': False,\n",
       "   'uuid': UUID('de37634a-85ed-468d-a5fc-22ff8f8ec38e')},\n",
       "  'idIndex': {'v': 2, 'key': {'_id': 1}, 'name': '_id_'}}]"
      ]
     },
     "execution_count": 5,
     "metadata": {},
     "output_type": "execute_result"
    }
   ],
   "source": [
    "db = client.Curso\n",
    "list (db.list_collections())"
   ]
  },
  {
   "cell_type": "markdown",
   "metadata": {},
   "source": [
    "### Statistics"
   ]
  },
  {
   "cell_type": "code",
   "execution_count": 6,
   "metadata": {},
   "outputs": [
    {
     "name": "stdout",
     "output_type": "stream",
     "text": [
      "{'db': 'Curso', 'collections': 9, 'views': 0, 'objects': 2512, 'avgObjSize': 148.8483280254777, 'dataSize': 373907.0, 'storageSize': 348160.0, 'indexes': 9, 'indexSize': 192512.0, 'totalSize': 540672.0, 'scaleFactor': 1.0, 'fsUsedSize': 9220476928.0, 'fsTotalSize': 53660876800.0, 'ok': 1.0}\n"
     ]
    }
   ],
   "source": [
    "status = db.command(\"dbstats\")\n",
    "print(status)"
   ]
  },
  {
   "cell_type": "code",
   "execution_count": 7,
   "metadata": {},
   "outputs": [
    {
     "name": "stdout",
     "output_type": "stream",
     "text": [
      "There are 8 cars\n",
      "{'_id': ObjectId('60465f37280ef665fe5760e4'), 'name': 'Audi', 'price': 52642}\n",
      "====================\n",
      "{'_id': ObjectId('60465f37280ef665fe5760e5'), 'name': 'Mercedes', 'price': 57127}\n",
      "====================\n",
      "{'_id': ObjectId('60465f37280ef665fe5760e6'), 'name': 'Skoda', 'price': 9000}\n",
      "====================\n",
      "====================\n",
      "{'_id': ObjectId('60465f37280ef665fe5760e4'), 'name': 'Audi', 'price': 52642}\n",
      "{'_id': ObjectId('60465f37280ef665fe5760e5'), 'name': 'Mercedes', 'price': 57127}\n",
      "{'_id': ObjectId('60465f37280ef665fe5760e6'), 'name': 'Skoda', 'price': 9000}\n",
      "[{'_id': ObjectId('60465f37280ef665fe5760e7'), 'name': 'Volvo', 'price': 29000}, {'_id': ObjectId('60465f37280ef665fe5760e8'), 'name': 'Bentley', 'price': 350000}, {'_id': ObjectId('60465f37280ef665fe5760e9'), 'name': 'Citroen', 'price': 21000}, {'_id': ObjectId('60465f37280ef665fe5760ea'), 'name': 'Hummer', 'price': 41400}, {'_id': ObjectId('60465f37280ef665fe5760eb'), 'name': 'Volkswagen', 'price': 21600}]\n"
     ]
    }
   ],
   "source": [
    "cars = db.cars.find()\n",
    "#print(\"There are {} cars\".format(num_cars))\n",
    "n_cars = db.cars.estimated_document_count()\n",
    "#n_cars = db.cars.count_documents({})\n",
    "#n_cars = cars.count()\n",
    "print(\"There are {} cars\".format(n_cars))\n",
    "\n",
    "print(cars.next())\n",
    "print(\"====================\")\n",
    "print(cars.next())\n",
    "print(\"====================\")\n",
    "print(cars.next())\n",
    "\n",
    "print(\"====================\")\n",
    "print(\"====================\")\n",
    "cars.rewind()\n",
    "\n",
    "print(cars.next())\n",
    "print(cars.next())\n",
    "print(cars.next())    \n",
    "\n",
    "print(list(cars))"
   ]
  },
  {
   "cell_type": "markdown",
   "metadata": {},
   "source": [
    "### Access fields"
   ]
  },
  {
   "cell_type": "code",
   "execution_count": 8,
   "metadata": {},
   "outputs": [
    {
     "name": "stdout",
     "output_type": "stream",
     "text": [
      "<class 'pymongo.cursor.Cursor'>\n",
      "Audi 52642\n",
      "Mercedes 57127\n",
      "Skoda 9000\n",
      "Volvo 29000\n",
      "Bentley 350000\n",
      "Citroen 21000\n",
      "Hummer 41400\n",
      "Volkswagen 21600\n"
     ]
    }
   ],
   "source": [
    "cars = db.cars.find()\n",
    "print(type(cars))\n",
    "\n",
    "for car in cars:\n",
    "    print('{0} {1}'.format(car['name'], car['price']))"
   ]
  },
  {
   "cell_type": "code",
   "execution_count": 54,
   "metadata": {},
   "outputs": [
    {
     "name": "stdout",
     "output_type": "stream",
     "text": [
      "{'name': 'Audi', 'price': 52642}\n",
      "{'name': 'Mercedes', 'price': 57127}\n",
      "{'name': 'Skoda', 'price': 9000}\n",
      "{'name': 'Volvo', 'price': 29000}\n",
      "{'name': 'Bentley', 'price': 350000}\n",
      "{'name': 'Citroen', 'price': 21000}\n",
      "{'name': 'Hummer', 'price': 41400}\n",
      "{'name': 'Volkswagen', 'price': 21600}\n"
     ]
    }
   ],
   "source": [
    "cars = db.cars.find( {} , {'name':True,'price':True, '_id': False})\n",
    "for car in cars:\n",
    "    print(car)"
   ]
  },
  {
   "cell_type": "markdown",
   "metadata": {},
   "source": [
    "### Find one"
   ]
  },
  {
   "cell_type": "code",
   "execution_count": 9,
   "metadata": {},
   "outputs": [
    {
     "name": "stdout",
     "output_type": "stream",
     "text": [
      "<class 'dict'>\n",
      "{'_id': ObjectId('60465f37280ef665fe5760e4'), 'name': 'Audi', 'price': 52642}\n",
      "Audi\n",
      "{'_id': ObjectId('60465f37280ef665fe5760e7'), 'name': 'Volvo', 'price': 29000}\n"
     ]
    }
   ],
   "source": [
    "car = db.cars.find_one()\n",
    "print(type(car))\n",
    "print(car)\n",
    "print (car[\"name\"])\n",
    "\n",
    "car = db.cars.find_one({'name': 'Volvo'})\n",
    "print(car)\n"
   ]
  },
  {
   "cell_type": "markdown",
   "metadata": {},
   "source": [
    "### Filter"
   ]
  },
  {
   "cell_type": "code",
   "execution_count": 10,
   "metadata": {},
   "outputs": [
    {
     "name": "stdout",
     "output_type": "stream",
     "text": [
      "Audi\n",
      "Mercedes\n",
      "Bentley\n"
     ]
    }
   ],
   "source": [
    "expensive_cars = db.cars.find({'price': {'$gt': 50000}})\n",
    "\n",
    "for ecar in expensive_cars:\n",
    "    print(ecar['name'])\n"
   ]
  },
  {
   "cell_type": "code",
   "execution_count": 11,
   "metadata": {},
   "outputs": [
    {
     "name": "stdout",
     "output_type": "stream",
     "text": [
      "[{'_id': ObjectId('60465f37280ef665fe5760e6'), 'name': 'Skoda', 'price': 9000}]\n"
     ]
    }
   ],
   "source": [
    "\n",
    "cars = db.cars.find().where('this.price<15000 && this.name == \"Skoda\"')\n",
    "#print(db.cars.find().where.__doc__)\n",
    "\n",
    "print(list(cars))"
   ]
  },
  {
   "cell_type": "code",
   "execution_count": 12,
   "metadata": {},
   "outputs": [
    {
     "name": "stdout",
     "output_type": "stream",
     "text": [
      "Skoda: 9000\n",
      "Volvo: 29000\n",
      "Bentley: 350000\n"
     ]
    }
   ],
   "source": [
    "cars = db.cars.find().skip(2).limit(3)\n",
    "\n",
    "for car in cars:\n",
    "    print('{0}: {1}'.format(car['name'], car['price']))"
   ]
  },
  {
   "cell_type": "code",
   "execution_count": 13,
   "metadata": {},
   "outputs": [
    {
     "name": "stdout",
     "output_type": "stream",
     "text": [
      "ASCENDING=1, DESCENDING=-1\n",
      "Bentley 350000\n",
      "Mercedes 57127\n",
      "Audi 52642\n",
      "Hummer 41400\n",
      "Volvo 29000\n",
      "Volkswagen 21600\n",
      "Citroen 21000\n",
      "Skoda 9000\n"
     ]
    }
   ],
   "source": [
    "from pymongo import DESCENDING, ASCENDING\n",
    "print (f'ASCENDING={ASCENDING}, DESCENDING={DESCENDING}')\n",
    "cars = db.cars.find().sort(\"price\", DESCENDING)\n",
    "\n",
    "for car in cars:\n",
    "    print('{0} {1}'.format(car['name'], car['price']))"
   ]
  },
  {
   "cell_type": "markdown",
   "metadata": {},
   "source": [
    "### Update"
   ]
  },
  {
   "cell_type": "code",
   "execution_count": 64,
   "metadata": {},
   "outputs": [
    {
     "name": "stdout",
     "output_type": "stream",
     "text": [
      "[{'_id': ObjectId('603e2d33b0a78acf46b94c75'), 'name': 'Audi', 'price': 52642, 'luxury_car': True}, {'_id': ObjectId('603e2d33b0a78acf46b94c76'), 'name': 'Mercedes', 'price': 57127, 'luxury_car': True}, {'_id': ObjectId('603e2d33b0a78acf46b94c77'), 'name': 'Skoda', 'price': 9000}, {'_id': ObjectId('603e2d33b0a78acf46b94c78'), 'name': 'Volvo', 'price': 29000}, {'_id': ObjectId('603e2d33b0a78acf46b94c79'), 'name': 'Bentley', 'price': 350000, 'luxury_car': True}, {'_id': ObjectId('603e2d33b0a78acf46b94c7a'), 'name': 'Citroen', 'price': 21000}, {'_id': ObjectId('603e2d33b0a78acf46b94c7b'), 'name': 'Hummer', 'price': 41400}, {'_id': ObjectId('603e2d33b0a78acf46b94c7c'), 'name': 'Volkswagen', 'price': 21600}]\n"
     ]
    }
   ],
   "source": [
    "car_collection = db.cars \n",
    "car_collection.update_many( {'price': {'$gt': 50000}}, {\"$set\" : { \"luxury_car\" : True }})\n",
    "\n",
    "cars = db.cars.find()\n",
    "print(list(cars))"
   ]
  },
  {
   "cell_type": "markdown",
   "metadata": {},
   "source": [
    "### Delete"
   ]
  },
  {
   "cell_type": "code",
   "execution_count": 65,
   "metadata": {},
   "outputs": [
    {
     "name": "stdout",
     "output_type": "stream",
     "text": [
      "[{'_id': ObjectId('603e2d33b0a78acf46b94c75'), 'name': 'Audi', 'price': 52642, 'luxury_car': True}, {'_id': ObjectId('603e2d33b0a78acf46b94c76'), 'name': 'Mercedes', 'price': 57127, 'luxury_car': True}, {'_id': ObjectId('603e2d33b0a78acf46b94c79'), 'name': 'Bentley', 'price': 350000, 'luxury_car': True}]\n"
     ]
    }
   ],
   "source": [
    "car_collection = db.cars \n",
    "car_collection.delete_many( {\"luxury_car\": {\"$exists\": False}})\n",
    "\n",
    "cars = db.cars.find()\n",
    "print(list(cars))"
   ]
  }
 ],
 "metadata": {
  "kernelspec": {
   "display_name": "Python 3",
   "language": "python",
   "name": "python3"
  },
  "language_info": {
   "codemirror_mode": {
    "name": "ipython",
    "version": 3
   },
   "file_extension": ".py",
   "mimetype": "text/x-python",
   "name": "python",
   "nbconvert_exporter": "python",
   "pygments_lexer": "ipython3",
   "version": "3.8.5"
  }
 },
 "nbformat": 4,
 "nbformat_minor": 4
}
