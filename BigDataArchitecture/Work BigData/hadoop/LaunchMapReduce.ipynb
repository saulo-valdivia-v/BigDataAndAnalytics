{
 "cells": [
  {
   "cell_type": "markdown",
   "metadata": {},
   "source": [
    "## lanzar word count desde file system de linux"
   ]
  },
  {
   "cell_type": "markdown",
   "metadata": {},
   "source": [
    "Antes de lanzar estos procesos deben estar arrancados los servicios de hdfs y yarn\n",
    "* `start-dfs.sh`\n",
    "* `start-yarn.sh`"
   ]
  },
  {
   "cell_type": "markdown",
   "metadata": {},
   "source": [
    "El Quijote lo podemos copiar a la carpeta data desde hdfs `/user/prog/el_quijote.txt`  \n",
    "Para descargar el fichero de movielens ir a la url https://files.grouplens.org/datasets/movielens/ml-latest-small.zip y descomprimir el directorio en la carpeta data"
   ]
  },
  {
   "cell_type": "code",
   "execution_count": 1,
   "metadata": {},
   "outputs": [],
   "source": [
    "import importlib"
   ]
  },
  {
   "cell_type": "code",
   "execution_count": 2,
   "metadata": {},
   "outputs": [
    {
     "name": "stderr",
     "output_type": "stream",
     "text": [
      "No configs specified for inline runner\n"
     ]
    },
    {
     "name": "stdout",
     "output_type": "stream",
     "text": [
      "El resultado es  chars --> 2092336\n",
      "El resultado es  lines --> 38062\n",
      "El resultado es  words --> 389719\n"
     ]
    }
   ],
   "source": [
    "#mr_job = MRWordCounter(args=['-r', 'emr'])\n",
    "import MRWordCount\n",
    "mr_job = MRWordCount.MRWordCount(args=['./data/quijote.txt'])\n",
    "with mr_job.make_runner() as runner:\n",
    "     runner.run()\n",
    "     for key, value in mr_job.parse_output(runner.cat_output()):\n",
    "         print ('El resultado es ',key,'-->',value)\n"
   ]
  },
  {
   "cell_type": "markdown",
   "metadata": {},
   "source": [
    "## lanzar word count desde hdfs"
   ]
  },
  {
   "cell_type": "code",
   "execution_count": 4,
   "metadata": {},
   "outputs": [
    {
     "name": "stderr",
     "output_type": "stream",
     "text": [
      "No configs specified for hadoop runner\n"
     ]
    },
    {
     "name": "stdout",
     "output_type": "stream",
     "text": [
      "El resultado es  chars --> 1036211\n",
      "El resultado es  lines --> 2186\n",
      "El resultado es  words --> 187018\n"
     ]
    },
    {
     "name": "stderr",
     "output_type": "stream",
     "text": [
      "STDERR: 2021-03-10 13:48:44,645 INFO sasl.SaslDataTransferClient: SASL encryption trust check: localHostTrusted = false, remoteHostTrusted = false\n"
     ]
    }
   ],
   "source": [
    "mr_job2 = MRWordCount.MRWordCount(args=['-r','hadoop','hdfs:///user/prog/el_quijote.txt'])\n",
    "with mr_job2.make_runner() as runner:\n",
    "     runner.run()\n",
    "     for key, value in mr_job2.parse_output(runner.cat_output()):\n",
    "         print ('El resultado es ',key,'-->',value)"
   ]
  },
  {
   "cell_type": "markdown",
   "metadata": {},
   "source": [
    "# lanzar rating counter desde local file system"
   ]
  },
  {
   "cell_type": "code",
   "execution_count": 5,
   "metadata": {},
   "outputs": [
    {
     "name": "stderr",
     "output_type": "stream",
     "text": [
      "No configs specified for inline runner\n"
     ]
    },
    {
     "name": "stdout",
     "output_type": "stream",
     "text": [
      "El rating 0.5 aparece 1370 veces\n",
      "El rating 1.0 aparece 2811 veces\n",
      "El rating 1.5 aparece 1791 veces\n",
      "El rating 2.0 aparece 7551 veces\n",
      "El rating 2.5 aparece 5550 veces\n",
      "El rating 3.0 aparece 20047 veces\n",
      "El rating 3.5 aparece 13136 veces\n",
      "El rating 4.0 aparece 26818 veces\n",
      "El rating 4.5 aparece 8551 veces\n",
      "El rating 5.0 aparece 13211 veces\n"
     ]
    }
   ],
   "source": [
    "import MRatingcounter\n",
    "mr_job3 = MRatingcounter.MRRatingCounter(args=['./data/ml-latest-small/ratings.csv'])\n",
    "with mr_job3.make_runner() as runner:\n",
    "     runner.run()\n",
    "     for key, value in mr_job3.parse_output(runner.cat_output()):\n",
    "         print (\"El rating {} aparece {} veces\".format(key,value))"
   ]
  },
  {
   "cell_type": "code",
   "execution_count": 8,
   "metadata": {},
   "outputs": [
    {
     "name": "stderr",
     "output_type": "stream",
     "text": [
      "No configs specified for inline runner\n"
     ]
    },
    {
     "name": "stdout",
     "output_type": "stream",
     "text": [
      "['como'] aparece 2270 veces\n"
     ]
    }
   ],
   "source": [
    "import MostFreqWord\n",
    "#importlib.reload(MostFreqWord)\n",
    "\n",
    "mr_job3 = MostFreqWord.MRMostFreqWord(args=['./data/quijote.txt'])\n",
    "with mr_job3.make_runner() as runner:\n",
    "     runner.run()\n",
    "     for key, value in mr_job3.parse_output(runner.cat_output()):\n",
    "         print (\"{} aparece {} veces\".format(value,key))"
   ]
  }
 ],
 "metadata": {
  "kernelspec": {
   "display_name": "Python 3",
   "language": "python",
   "name": "python3"
  },
  "language_info": {
   "codemirror_mode": {
    "name": "ipython",
    "version": 3
   },
   "file_extension": ".py",
   "mimetype": "text/x-python",
   "name": "python",
   "nbconvert_exporter": "python",
   "pygments_lexer": "ipython3",
   "version": "3.8.5"
  }
 },
 "nbformat": 4,
 "nbformat_minor": 4
}
