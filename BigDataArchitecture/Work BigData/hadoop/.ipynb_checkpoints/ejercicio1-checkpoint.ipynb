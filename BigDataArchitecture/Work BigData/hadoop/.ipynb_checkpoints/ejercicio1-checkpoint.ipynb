{
 "cells": [
  {
   "cell_type": "markdown",
   "metadata": {},
   "source": [
    "# Ejercicio 1\n",
    "El objetivo es familiarizarse con la creación de directorios y copia de ficheros a hdfs\n",
    "\n",
    "### Crea el directorio *ejercicio1* en la home del usuario.  \n",
    "Si lo necesitas puedes consultar la ayuda del comando `mkdir` con `hdfs dfs -help mkdir`\n",
    "Recuerda que dentro de los notebook, para ejecutar un comando del sistema operativo hay que anteponerle el `!`"
   ]
  },
  {
   "cell_type": "code",
   "execution_count": 23,
   "metadata": {},
   "outputs": [
    {
     "name": "stdout",
     "output_type": "stream",
     "text": [
      "Found 2 items\r\n",
      "drwxr-xr-x   - template supergroup          0 2021-03-10 17:09 ejercicio1\r\n",
      "drwxr-xr-x   - template supergroup          0 2020-12-10 07:29 tmp\r\n"
     ]
    }
   ],
   "source": [
    "!hdfs dfs -mkdir /ejercicio11\n",
    "!hdfs dfs -ls "
   ]
  },
  {
   "cell_type": "code",
   "execution_count": 28,
   "metadata": {},
   "outputs": [
    {
     "name": "stdout",
     "output_type": "stream",
     "text": [
      "Found 2 items\r\n",
      "-rw-r--r--   1 template supergroup    1060259 2021-03-10 17:44 /ejercicio11/el_quijote.txt\r\n",
      "-rw-r--r--   1 template supergroup         75 2021-03-10 17:36 /ejercicio11/prueba.txt\r\n"
     ]
    }
   ],
   "source": [
    "!hdfs dfs -ls /ejercicio11"
   ]
  },
  {
   "cell_type": "markdown",
   "metadata": {},
   "source": [
    "### Copia el fichero `/home/template/Downloads/el_quijote.txt` de linux al directorio que hemos creado\n",
    "Busca en la ayuda el comando hdfs `put` o `copyFromLocal`, son equivalente"
   ]
  },
  {
   "cell_type": "code",
   "execution_count": 27,
   "metadata": {},
   "outputs": [
    {
     "name": "stdout",
     "output_type": "stream",
     "text": [
      "2021-03-10 17:44:53,286 INFO sasl.SaslDataTransferClient: SASL encryption trust check: localHostTrusted = false, remoteHostTrusted = false\r\n"
     ]
    }
   ],
   "source": [
    "#!hdfs dfs -put prueba.txt /ejercicio11/prueba.txt\n",
    "!hdfs dfs -put /home/template/Downloads/el_quijote.txt /ejercicio11/el_quijote.txt"
   ]
  },
  {
   "cell_type": "markdown",
   "metadata": {},
   "source": [
    "### Utiliza el comando `appendToFile` para añadir el fichero `~/Downloads/bank.csv` de linux al fichero quijote.txt que hemos copiado a hdfs"
   ]
  },
  {
   "cell_type": "code",
   "execution_count": 30,
   "metadata": {},
   "outputs": [
    {
     "name": "stdout",
     "output_type": "stream",
     "text": [
      "2021-03-10 17:51:37,129 INFO sasl.SaslDataTransferClient: SASL encryption trust check: localHostTrusted = false, remoteHostTrusted = false\r\n"
     ]
    }
   ],
   "source": [
    "!hdfs dfs -appendToFile ~/Downloads/bank.csv /ejercicio11/el_quijote.txt"
   ]
  },
  {
   "cell_type": "code",
   "execution_count": 31,
   "metadata": {},
   "outputs": [
    {
     "name": "stdout",
     "output_type": "stream",
     "text": [
      "Found 2 items\r\n",
      "-rw-r--r--   1 template supergroup    1521733 2021-03-10 17:51 /ejercicio11/el_quijote.txt\r\n",
      "-rw-r--r--   1 template supergroup         75 2021-03-10 17:36 /ejercicio11/prueba.txt\r\n"
     ]
    }
   ],
   "source": [
    "!hdfs dfs -ls /ejercicio11"
   ]
  },
  {
   "cell_type": "markdown",
   "metadata": {},
   "source": [
    "### Investiga en la ayuda el comando ls de hdfs y busca la opción -r. Utilizala para listar el contenido del directorio /user/template de hdfs"
   ]
  },
  {
   "cell_type": "code",
   "execution_count": null,
   "metadata": {},
   "outputs": [],
   "source": []
  },
  {
   "cell_type": "markdown",
   "metadata": {},
   "source": [
    "### Copia todo el directorio ejercicio1 desde hdfs al directorio ~/work-bigdata\n",
    "Observa el resultado, como el directorio work-bigdata está compartido entre la máquina virtual y vuestro sistema, podéis ver"
   ]
  },
  {
   "cell_type": "code",
   "execution_count": null,
   "metadata": {},
   "outputs": [],
   "source": [
    "\n"
   ]
  },
  {
   "cell_type": "markdown",
   "metadata": {},
   "source": [
    "### Borrar el fichero quijote2.txt que está en el directorio /user/template/ejercicio1/ de hdfs\n",
    "Utiliza el comando `rm`, recuerda que puedes investigar la ayuda"
   ]
  },
  {
   "cell_type": "code",
   "execution_count": null,
   "metadata": {},
   "outputs": [],
   "source": []
  },
  {
   "cell_type": "markdown",
   "metadata": {},
   "source": [
    "### Investiga en la ayuda del comando `rm` y elige la opción adecuada para borrar el directorio `ejercicio1` y todo su contenido\n",
    "Aprovecha también para borrar la copia que habíamos dejado en `~/work-bigdata`"
   ]
  },
  {
   "cell_type": "code",
   "execution_count": null,
   "metadata": {},
   "outputs": [],
   "source": []
  },
  {
   "cell_type": "markdown",
   "metadata": {},
   "source": [
    "### Información sobre bloque y réplicas"
   ]
  },
  {
   "cell_type": "code",
   "execution_count": 4,
   "metadata": {},
   "outputs": [
    {
     "name": "stdout",
     "output_type": "stream",
     "text": [
      "-stat [format] <path> ... :\n",
      "  Print statistics about the file/directory at <path>\n",
      "  in the specified format. Format accepts permissions in\n",
      "  octal (%a) and symbolic (%A), filesize in\n",
      "  bytes (%b), type (%F), group name of owner (%g),\n",
      "  name (%n), block size (%o), replication (%r), user name\n",
      "  of owner (%u), access date (%x, %X).\n",
      "  modification date (%y, %Y).\n",
      "  %x and %y show UTC date as \"yyyy-MM-dd HH:mm:ss\" and\n",
      "  %X and %Y show milliseconds since January 1, 1970 UTC.\n",
      "  If the format is not specified, %y is used by default.\n"
     ]
    }
   ],
   "source": [
    "!hdfs dfs -help stat []"
   ]
  },
  {
   "cell_type": "code",
   "execution_count": 17,
   "metadata": {},
   "outputs": [
    {
     "name": "stdout",
     "output_type": "stream",
     "text": [
      "quijote.txt Tamaño fichero:1060259, blk size 134217728, replicas 1\n",
      "quijote2.txt Tamaño fichero:2120518, blk size 134217728, replicas 1\n"
     ]
    }
   ],
   "source": [
    "!hdfs dfs -stat \"%n Tamaño fichero:%b, blk size %o, replicas %r\" ejercicio1/*"
   ]
  }
 ],
 "metadata": {
  "kernelspec": {
   "display_name": "Python 3",
   "language": "python",
   "name": "python3"
  },
  "language_info": {
   "codemirror_mode": {
    "name": "ipython",
    "version": 3
   },
   "file_extension": ".py",
   "mimetype": "text/x-python",
   "name": "python",
   "nbconvert_exporter": "python",
   "pygments_lexer": "ipython3",
   "version": "3.8.5"
  }
 },
 "nbformat": 4,
 "nbformat_minor": 4
}
