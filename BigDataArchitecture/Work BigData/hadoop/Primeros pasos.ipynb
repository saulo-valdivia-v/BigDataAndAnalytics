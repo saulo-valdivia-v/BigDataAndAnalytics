{
 "cells": [
  {
   "cell_type": "markdown",
   "metadata": {},
   "source": [
    "# Primeros pasos\n",
    "## Arrancar el servicio de HDFS\n",
    "Recuerda que para ejecutar estos comandos debemos tener arrancado el servicios de hdfs. Este servicio se debe arrancar cada vez que apagamos y encendemos la máquina virtual, y queda activo hasta que lo paremos o que se apague la máquina"
   ]
  },
  {
   "cell_type": "code",
   "execution_count": 1,
   "metadata": {},
   "outputs": [
    {
     "name": "stdout",
     "output_type": "stream",
     "text": [
      "Starting namenodes on [localhost]\n",
      "Starting datanodes\n",
      "Starting secondary namenodes [localhost.localdomain]\n"
     ]
    }
   ],
   "source": [
    "#Arrancar el servicio HDFS\n",
    "!start-dfs.sh"
   ]
  },
  {
   "cell_type": "code",
   "execution_count": 1,
   "metadata": {},
   "outputs": [
    {
     "name": "stdout",
     "output_type": "stream",
     "text": [
      "Stopping namenodes on [localhost]\n",
      "Stopping datanodes\n",
      "Stopping secondary namenodes [localhost.localdomain]\n"
     ]
    }
   ],
   "source": [
    "#Parar el servicio HDFS\n",
    "#!stop-dfs.sh"
   ]
  },
  {
   "cell_type": "markdown",
   "metadata": {},
   "source": [
    "## Familiarizarse con los comandos\n",
    "Tenemos comandos de ayuda"
   ]
  },
  {
   "cell_type": "code",
   "execution_count": 2,
   "metadata": {},
   "outputs": [
    {
     "name": "stdout",
     "output_type": "stream",
     "text": [
      "-h: Unknown command\r\n",
      "Usage: hadoop fs [generic options]\r\n",
      "\t[-appendToFile <localsrc> ... <dst>]\r\n",
      "\t[-cat [-ignoreCrc] <src> ...]\r\n",
      "\t[-checksum <src> ...]\r\n",
      "\t[-chgrp [-R] GROUP PATH...]\r\n",
      "\t[-chmod [-R] <MODE[,MODE]... | OCTALMODE> PATH...]\r\n",
      "\t[-chown [-R] [OWNER][:[GROUP]] PATH...]\r\n",
      "\t[-copyFromLocal [-f] [-p] [-l] [-d] [-t <thread count>] <localsrc> ... <dst>]\r\n",
      "\t[-copyToLocal [-f] [-p] [-ignoreCrc] [-crc] <src> ... <localdst>]\r\n",
      "\t[-count [-q] [-h] [-v] [-t [<storage type>]] [-u] [-x] [-e] <path> ...]\r\n",
      "\t[-cp [-f] [-p | -p[topax]] [-d] <src> ... <dst>]\r\n",
      "\t[-createSnapshot <snapshotDir> [<snapshotName>]]\r\n",
      "\t[-deleteSnapshot <snapshotDir> <snapshotName>]\r\n",
      "\t[-df [-h] [<path> ...]]\r\n",
      "\t[-du [-s] [-h] [-v] [-x] <path> ...]\r\n",
      "\t[-expunge [-immediate]]\r\n",
      "\t[-find <path> ... <expression> ...]\r\n",
      "\t[-get [-f] [-p] [-ignoreCrc] [-crc] <src> ... <localdst>]\r\n",
      "\t[-getfacl [-R] <path>]\r\n",
      "\t[-getfattr [-R] {-n name | -d} [-e en] <path>]\r\n",
      "\t[-getmerge [-nl] [-skip-empty-file] <src> <localdst>]\r\n",
      "\t[-head <file>]\r\n",
      "\t[-help [cmd ...]]\r\n",
      "\t[-ls [-C] [-d] [-h] [-q] [-R] [-t] [-S] [-r] [-u] [-e] [<path> ...]]\r\n",
      "\t[-mkdir [-p] <path> ...]\r\n",
      "\t[-moveFromLocal <localsrc> ... <dst>]\r\n",
      "\t[-moveToLocal <src> <localdst>]\r\n",
      "\t[-mv <src> ... <dst>]\r\n",
      "\t[-put [-f] [-p] [-l] [-d] <localsrc> ... <dst>]\r\n",
      "\t[-renameSnapshot <snapshotDir> <oldName> <newName>]\r\n",
      "\t[-rm [-f] [-r|-R] [-skipTrash] [-safely] <src> ...]\r\n",
      "\t[-rmdir [--ignore-fail-on-non-empty] <dir> ...]\r\n",
      "\t[-setfacl [-R] [{-b|-k} {-m|-x <acl_spec>} <path>]|[--set <acl_spec> <path>]]\r\n",
      "\t[-setfattr {-n name [-v value] | -x name} <path>]\r\n",
      "\t[-setrep [-R] [-w] <rep> <path> ...]\r\n",
      "\t[-stat [format] <path> ...]\r\n",
      "\t[-tail [-f] [-s <sleep interval>] <file>]\r\n",
      "\t[-test -[defswrz] <path>]\r\n",
      "\t[-text [-ignoreCrc] <src> ...]\r\n",
      "\t[-touch [-a] [-m] [-t TIMESTAMP ] [-c] <path> ...]\r\n",
      "\t[-touchz <path> ...]\r\n",
      "\t[-truncate [-w] <length> <path> ...]\r\n",
      "\t[-usage [cmd ...]]\r\n",
      "\r\n",
      "Generic options supported are:\r\n",
      "-conf <configuration file>        specify an application configuration file\r\n",
      "-D <property=value>               define a value for a given property\r\n",
      "-fs <file:///|hdfs://namenode:port> specify default filesystem URL to use, overrides 'fs.defaultFS' property from configurations.\r\n",
      "-jt <local|resourcemanager:port>  specify a ResourceManager\r\n",
      "-files <file1,...>                specify a comma-separated list of files to be copied to the map reduce cluster\r\n",
      "-libjars <jar1,...>               specify a comma-separated list of jar files to be included in the classpath\r\n",
      "-archives <archive1,...>          specify a comma-separated list of archives to be unarchived on the compute machines\r\n",
      "\r\n",
      "The general command line syntax is:\r\n",
      "command [genericOptions] [commandOptions]\r\n",
      "\r\n"
     ]
    }
   ],
   "source": [
    "!hdfs dfs -h"
   ]
  },
  {
   "cell_type": "markdown",
   "metadata": {},
   "source": [
    "## Path absolutos y relativos\n",
    "Recordad que el sistema de ficheros de HDFS no es el mismo que el de la máquina virtual linux.  \n",
    "Cuando una dirección empieza por `/` indica que el path es absoluto, cuando la dirección **no empieza** por `/` significa que es un path relativo al *home del usuario*\n",
    "\n",
    "Este es el contenido del directorio raíz:"
   ]
  },
  {
   "cell_type": "code",
   "execution_count": 3,
   "metadata": {},
   "outputs": [
    {
     "name": "stdout",
     "output_type": "stream",
     "text": [
      "Found 2 items\r\n",
      "drwxr-xr-x   - template supergroup          0 2020-08-04 17:18 /tmp\r\n",
      "drwxr-xr-x   - template supergroup          0 2021-03-10 16:14 /user\r\n"
     ]
    }
   ],
   "source": [
    "!hdfs dfs -ls /"
   ]
  },
  {
   "cell_type": "markdown",
   "metadata": {},
   "source": [
    "Este es el contenido del *home del usuario*. Nuestro usuario es **template**"
   ]
  },
  {
   "cell_type": "code",
   "execution_count": 4,
   "metadata": {},
   "outputs": [
    {
     "name": "stdout",
     "output_type": "stream",
     "text": [
      "Found 1 items\r\n",
      "drwxr-xr-x   - template supergroup          0 2020-12-10 07:29 tmp\r\n"
     ]
    }
   ],
   "source": [
    "!hdfs dfs -ls"
   ]
  },
  {
   "cell_type": "markdown",
   "metadata": {},
   "source": [
    "Que equivale a:"
   ]
  },
  {
   "cell_type": "code",
   "execution_count": 5,
   "metadata": {},
   "outputs": [
    {
     "name": "stdout",
     "output_type": "stream",
     "text": [
      "Found 1 items\r\n",
      "drwxr-xr-x   - template supergroup          0 2020-12-10 07:29 /user/template/tmp\r\n"
     ]
    }
   ],
   "source": [
    "!hdfs dfs -ls /user/template"
   ]
  },
  {
   "cell_type": "markdown",
   "metadata": {},
   "source": [
    "Siempre que ejecutemos una acción debemos poner correctamente el path que necesitamos\n",
    "\n",
    "Esta acción crea un directorio en el home de template"
   ]
  },
  {
   "cell_type": "code",
   "execution_count": 6,
   "metadata": {},
   "outputs": [
    {
     "name": "stdout",
     "output_type": "stream",
     "text": [
      "Found 2 items\r\n",
      "drwxr-xr-x   - template supergroup          0 2021-03-10 16:55 nuevoDir\r\n",
      "drwxr-xr-x   - template supergroup          0 2020-12-10 07:29 tmp\r\n"
     ]
    }
   ],
   "source": [
    "!hdfs dfs -mkdir nuevoDir\n",
    "!hdfs dfs -ls "
   ]
  },
  {
   "cell_type": "code",
   "execution_count": 7,
   "metadata": {},
   "outputs": [
    {
     "name": "stdout",
     "output_type": "stream",
     "text": [
      "Found 1 items\r\n",
      "drwxr-xr-x   - template supergroup          0 2020-12-10 07:29 tmp\r\n"
     ]
    }
   ],
   "source": [
    "#Lo borramos\n",
    "!hdfs dfs -rmdir nuevoDir\n",
    "!hdfs dfs -ls"
   ]
  },
  {
   "cell_type": "code",
   "execution_count": 8,
   "metadata": {},
   "outputs": [
    {
     "name": "stdout",
     "output_type": "stream",
     "text": [
      "Found 3 items\n",
      "drwxr-xr-x   - template supergroup          0 2021-03-10 16:59 /nuevoDirRaiz\n",
      "drwxr-xr-x   - template supergroup          0 2020-08-04 17:18 /tmp\n",
      "drwxr-xr-x   - template supergroup          0 2021-03-10 16:14 /user\n",
      "Found 1 items\n",
      "drwxr-xr-x   - template supergroup          0 2020-12-10 07:29 tmp\n"
     ]
    }
   ],
   "source": [
    "#Creamos un nuevo directorio en el directorio raíz\n",
    "!hdfs dfs -mkdir /nuevoDirRaiz\n",
    "!hdfs dfs -ls /\n",
    "!hdfs dfs -ls"
   ]
  },
  {
   "cell_type": "code",
   "execution_count": 9,
   "metadata": {},
   "outputs": [
    {
     "name": "stdout",
     "output_type": "stream",
     "text": [
      "Found 3 items\r\n",
      "drwxr-xr-x   - template supergroup          0 2021-03-10 16:59 /nuevoDirRaiz\r\n",
      "drwxr-xr-x   - template supergroup          0 2020-08-04 17:18 /tmp\r\n",
      "drwxr-xr-x   - template supergroup          0 2021-03-10 16:14 /user\r\n"
     ]
    }
   ],
   "source": [
    "#Lo borramos\n",
    "!hdfs dfs -ls /"
   ]
  },
  {
   "cell_type": "markdown",
   "metadata": {},
   "source": [
    "## Ver la ayuda de los comandos HDFS\n",
    "\n",
    "Anteriormente vimos `!hdfs dfs -h` para obtener la ayuda general de HDFS  \n",
    "Para obtener ayuda de un comando de hdfs utilizamos:  \n",
    "`!hdfs dfs -help <command>`"
   ]
  },
  {
   "cell_type": "code",
   "execution_count": 10,
   "metadata": {},
   "outputs": [
    {
     "name": "stdout",
     "output_type": "stream",
     "text": [
      "-copyFromLocal [-f] [-p] [-l] [-d] [-t <thread count>] <localsrc> ... <dst> :\n",
      "  Copy files from the local file system into fs. Copying fails if the file already\n",
      "  exists, unless the -f flag is given.\n",
      "  Flags:\n",
      "                                                                                 \n",
      "  -p                 Preserves access and modification times, ownership and the  \n",
      "                     mode.                                                       \n",
      "  -f                 Overwrites the destination if it already exists.            \n",
      "  -t <thread count>  Number of threads to be used, default is 1.                 \n",
      "  -l                 Allow DataNode to lazily persist the file to disk. Forces   \n",
      "                     replication factor of 1. This flag will result in reduced   \n",
      "                     durability. Use with care.                                  \n",
      "  -d                 Skip creation of temporary file(<dst>._COPYING_).           \n"
     ]
    }
   ],
   "source": [
    "!hdfs dfs -help copyFromLocal"
   ]
  }
 ],
 "metadata": {
  "kernelspec": {
   "display_name": "Python 3",
   "language": "python",
   "name": "python3"
  },
  "language_info": {
   "codemirror_mode": {
    "name": "ipython",
    "version": 3
   },
   "file_extension": ".py",
   "mimetype": "text/x-python",
   "name": "python",
   "nbconvert_exporter": "python",
   "pygments_lexer": "ipython3",
   "version": "3.8.5"
  }
 },
 "nbformat": 4,
 "nbformat_minor": 4
}
