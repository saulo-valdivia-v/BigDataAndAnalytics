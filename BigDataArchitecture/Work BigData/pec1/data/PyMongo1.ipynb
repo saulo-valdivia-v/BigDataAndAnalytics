{
 "cells": [
  {
   "cell_type": "code",
   "execution_count": 13,
   "metadata": {},
   "outputs": [],
   "source": [
    "from pymongo import MongoClient\n",
    "import pandas as pd\n",
    "import csv\n",
    "\n",
    "# DB connectivity\n",
    "client = MongoClient('localhost', 27017)\n",
    "database = client['Curso']\n",
    "collection = database['PruebaH01']\n",
    "\n",
    "# Function to parse csv to dictionary\n",
    "def csv_to_json(filename):\n",
    "    data = pd.read_csv(filename)    \n",
    "    return data.to_dict('records')\n",
    "\n",
    "# Final insert statement\n",
    "dic = csv_to_json('output1.csv')\n",
    "\n",
    "for item in dic:\n",
    "    if(item['H01'] == 'H01'):\n",
    "        dic.remove(item)\n",
    "        \n",
    "for item in dic:\n",
    "    if(item['H01'] == ''):\n",
    "        print(item)\n",
    "\n",
    "\n",
    "#collection.insert_many(csv_to_json('output1.csv'))\n",
    "#collection.insert_many(dic)"
   ]
  }
 ],
 "metadata": {
  "kernelspec": {
   "display_name": "Python 3",
   "language": "python",
   "name": "python3"
  },
  "language_info": {
   "codemirror_mode": {
    "name": "ipython",
    "version": 3
   },
   "file_extension": ".py",
   "mimetype": "text/x-python",
   "name": "python",
   "nbconvert_exporter": "python",
   "pygments_lexer": "ipython3",
   "version": "3.8.5"
  }
 },
 "nbformat": 4,
 "nbformat_minor": 4
}
