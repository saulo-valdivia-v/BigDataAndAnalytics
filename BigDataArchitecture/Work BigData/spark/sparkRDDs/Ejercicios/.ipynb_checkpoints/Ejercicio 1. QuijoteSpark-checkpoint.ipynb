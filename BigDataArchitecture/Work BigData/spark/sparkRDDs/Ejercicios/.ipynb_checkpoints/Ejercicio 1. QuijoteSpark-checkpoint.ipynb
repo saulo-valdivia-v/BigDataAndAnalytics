{
 "cells": [
  {
   "cell_type": "markdown",
   "metadata": {},
   "source": [
    "# Ejercicio\n",
    "\n",
    "1. Leer el fichero Quijote.txt de HDFS del directorio books\n",
    "2. Contar cuantas veces aparece cada palabra dentro del libro quitando los signos de punturacion\n",
    "3. Obtener cuantas veces aparecen los siguientes personajes: \"Quijote\",\"Sancho\",\"Dulcinea\",\"Rocinante\",\"Rucio\",\"Nicolás\",\"Palomeque\",\"Maritornes\",\"Quijana\", \"Sansón\", \"Galgo\"\n",
    "\n",
    "4. Sacar los tres personajes que más se "
   ]
  },
  {
   "cell_type": "code",
   "execution_count": 6,
   "metadata": {},
   "outputs": [],
   "source": [
    "import findspark\n",
    "findspark.init(\"/home/ubuntu/bigdata/apps/spark-3.0.1\")\n",
    "import pyspark"
   ]
  },
  {
   "cell_type": "markdown",
   "metadata": {},
   "source": [
    "## 1. Leemos el fichero Quijote.txt del directorio de HDFS"
   ]
  },
  {
   "cell_type": "code",
   "execution_count": 7,
   "metadata": {},
   "outputs": [
    {
     "name": "stdout",
     "output_type": "stream",
     "text": [
      "['The Project Gutenberg EBook of Don Quijote, by Miguel de Cervantes Saavedra']\n",
      "37861\n"
     ]
    }
   ],
   "source": [
    "rdd_quijote = sc.textFile(\"books/Quijote.txt\")\n",
    "print(rdd_quijote.take(1))\n",
    "print(rdd_quijote.count())"
   ]
  },
  {
   "cell_type": "markdown",
   "metadata": {},
   "source": [
    "## 2. Tratamos la información "
   ]
  },
  {
   "cell_type": "code",
   "execution_count": 8,
   "metadata": {},
   "outputs": [],
   "source": [
    "not_empty_lines = rdd_quijote.filter(lambda line: len(line.strip())>0)\n",
    "words = not_empty_lines.flatMap(lambda line: line.split(' '))\n"
   ]
  },
  {
   "cell_type": "code",
   "execution_count": null,
   "metadata": {},
   "outputs": [],
   "source": [
    "#Alternativa 1\n",
    "word_map = words.map(lambda palabra: (palabra.strip(\";.:?,\\\"[]#()\"), 1))\n",
    "reduce = word_map.reduceByKey(lambda c, b: c + b)"
   ]
  },
  {
   "cell_type": "code",
   "execution_count": 11,
   "metadata": {},
   "outputs": [
    {
     "data": {
      "text/plain": [
       "'prueba'"
      ]
     },
     "execution_count": 11,
     "metadata": {},
     "output_type": "execute_result"
    }
   ],
   "source": [
    "#Prueba para ver el funcionamiento de strip\n",
    "\"()..prueba.,?#[]\\\"¿\".strip(\";.:?,\\\"[]#()¿\")"
   ]
  },
  {
   "cell_type": "code",
   "execution_count": 26,
   "metadata": {},
   "outputs": [
    {
     "name": "stdout",
     "output_type": "stream",
     "text": [
      "words.countByValue()\n"
     ]
    }
   ],
   "source": [
    "#Alternativa 2.\n",
    "reduce = words.map(lambda palabra: palabra.strip(\";.:?,\\\"[]#()\") ).countByValue()"
   ]
  },
  {
   "cell_type": "code",
   "execution_count": 10,
   "metadata": {},
   "outputs": [],
   "source": [
    "reduce.saveAsTextFile(\"/resultQuijoteRDD\")#Guarda en HDFS pero no con el formatoo que queremos"
   ]
  },
  {
   "cell_type": "code",
   "execution_count": 9,
   "metadata": {},
   "outputs": [],
   "source": [
    "reduce2= reduce.map(lambda tupla: tupla[0]+\",\"+str(tupla[1]))"
   ]
  },
  {
   "cell_type": "code",
   "execution_count": null,
   "metadata": {},
   "outputs": [],
   "source": [
    "reduce2.saveAsTextFile(\"/resultQuijoteRDD_CSV\")#Guarda en HDFS en formato csv"
   ]
  },
  {
   "cell_type": "code",
   "execution_count": 23,
   "metadata": {},
   "outputs": [
    {
     "name": "stdout",
     "output_type": "stream",
     "text": [
      "[('The', 12), ('Project', 80), ('EBook', 1), ('of', 107), ('Don', 96), ('Quijote,', 531), ('Miguel', 21), ('is', 25), ('use', 11), ('anyone', 4), ('anywhere', 2), ('at', 15), ('no', 5611), ('restrictions', 2), ('whatsoever.', 2), ('', 3574), ('may', 15), ('it,', 3), ('give', 3), ('away', 2), ('re-use', 2), ('this', 37), ('online', 4), ('Author:', 1), ('Posting', 1), ('Date:', 2), ('27,', 1), ('2010', 1), ('#2000]', 1), ('Language:', 1), ('***', 6), ('OF', 10), ('THIS', 5), ('GUTENBERG', 3), ('an', 6), ('anonymous', 2), ('new', 5), ('HTML', 2), ('Joaquin', 2), ('Cuenca', 4), ('hidalgo', 46), ('don', 2533), ('Mancha', 37), ('Yo,', 26), ('del', 2464), ('señor,', 170), ('los', 4680), ('que', 19429), ('residen', 2), ('en', 7898), ('su', 3319), ('y', 15894), ('habiendo', 84), ('visto', 200), ('señores', 69), ('intitulado', 5), ('compuesto', 10), ('tasaron', 2), ('cada', 214), ('pliego', 9), ('tres', 212), ('maravedís', 11), ('medio;', 3), ('el', 7957), ('cual', 534), ('al', 1696), ('docientos', 19), ('vender', 8), ('papel;', 1), ('para', 1419), ('este', 609), ('pueda', 75), ('vender,', 6), ('Y,', 312), ('dello', 9), ('conste,', 1), ('mes', 20), ('deciembre', 1), ('mil', 183), ('años.', 14), ('Andrada.', 1), ('DE', 31), ('LAS', 1), ('ERRATAS', 2), ('Este', 18), ('cosa', 380), ('original;', 2), ('lo', 3387), ('correcto,', 1), ('En', 247), ('Colegio', 1), ('Madre', 5), ('Universidad', 2), ('Alcalá,', 2), ('diciembre', 1), ('1604', 1), ('licenciado', 30), ('EL', 5), ('REY', 1), ('Por', 60)]\n"
     ]
    }
   ],
   "source": [
    "print(reduce.take(100))"
   ]
  },
  {
   "cell_type": "code",
   "execution_count": 23,
   "metadata": {},
   "outputs": [
    {
     "name": "stdout",
     "output_type": "stream",
     "text": [
      "[('The', 12), ('Project', 80), ('EBook', 1), ('of', 107), ('Don', 96), ('Quijote,', 531), ('Miguel', 21), ('is', 25), ('use', 11), ('anyone', 4), ('anywhere', 2), ('at', 15), ('no', 5611), ('restrictions', 2), ('whatsoever.', 2), ('', 3574), ('may', 15), ('it,', 3), ('give', 3), ('away', 2), ('re-use', 2), ('this', 37), ('online', 4), ('Author:', 1), ('Posting', 1), ('Date:', 2), ('27,', 1), ('2010', 1), ('#2000]', 1), ('Language:', 1), ('***', 6), ('OF', 10), ('THIS', 5), ('GUTENBERG', 3), ('an', 6), ('anonymous', 2), ('new', 5), ('HTML', 2), ('Joaquin', 2), ('Cuenca', 4), ('hidalgo', 46), ('don', 2533), ('Mancha', 37), ('Yo,', 26), ('del', 2464), ('señor,', 170), ('los', 4680), ('que', 19429), ('residen', 2), ('en', 7898), ('su', 3319), ('y', 15894), ('habiendo', 84), ('visto', 200), ('señores', 69), ('intitulado', 5), ('compuesto', 10), ('tasaron', 2), ('cada', 214), ('pliego', 9), ('tres', 212), ('maravedís', 11), ('medio;', 3), ('el', 7957), ('cual', 534), ('al', 1696), ('docientos', 19), ('vender', 8), ('papel;', 1), ('para', 1419), ('este', 609), ('pueda', 75), ('vender,', 6), ('Y,', 312), ('dello', 9), ('conste,', 1), ('mes', 20), ('deciembre', 1), ('mil', 183), ('años.', 14), ('Andrada.', 1), ('DE', 31), ('LAS', 1), ('ERRATAS', 2), ('Este', 18), ('cosa', 380), ('original;', 2), ('lo', 3387), ('correcto,', 1), ('En', 247), ('Colegio', 1), ('Madre', 5), ('Universidad', 2), ('Alcalá,', 2), ('diciembre', 1), ('1604', 1), ('licenciado', 30), ('EL', 5), ('REY', 1), ('Por', 60)]\n"
     ]
    }
   ],
   "source": [
    "print(reduce2.take(100))"
   ]
  },
  {
   "cell_type": "markdown",
   "metadata": {},
   "source": [
    "## Parte 2. Sacamos las veces que aparecen los personajes"
   ]
  },
  {
   "cell_type": "code",
   "execution_count": 11,
   "metadata": {},
   "outputs": [],
   "source": [
    "personajes_quijote = [\"quijote\",\"sancho\",\"dulcinea\",\"rocinante\",\"rucio\",\"nicolás\",\"Palomeque\",\"maritornes\",\"quijana\", \"sansón\", \"galgo\"]"
   ]
  },
  {
   "cell_type": "code",
   "execution_count": 27,
   "metadata": {},
   "outputs": [],
   "source": [
    "words_lower = words.map(lambda word: word.lower())\n",
    "filter_personajes = words_lower.filter(lambda word: word in personajes_quijote)\n",
    "word_map_personajes = filter_personajes.map(lambda palabra: (palabra, 1))\n",
    "reduce_personajes = word_map_personajes.reduceByKey(lambda c, b: c + b)"
   ]
  },
  {
   "cell_type": "code",
   "execution_count": 29,
   "metadata": {},
   "outputs": [
    {
     "name": "stdout",
     "output_type": "stream",
     "text": [
      "defaultdict(<class 'int'>, {'quijote': 907, 'sancho': 953, 'dulcinea': 167, 'rocinante': 73, 'galgo': 2, 'quijana': 1, 'nicolás': 9, 'maritornes': 11, 'rucio': 45, 'sansón': 46})\n"
     ]
    }
   ],
   "source": [
    "print(filter_personajes.countByValue())"
   ]
  },
  {
   "cell_type": "code",
   "execution_count": 28,
   "metadata": {},
   "outputs": [
    {
     "name": "stdout",
     "output_type": "stream",
     "text": [
      "[('dulcinea', 167), ('quijana', 1), ('sansón', 46), ('quijote', 907), ('sancho', 953), ('rocinante', 73), ('galgo', 2), ('nicolás', 9), ('maritornes', 11), ('rucio', 45)]\n"
     ]
    }
   ],
   "source": [
    "#print(words_lower.take(10))\n",
    "print(reduce_personajes.collect())"
   ]
  },
  {
   "cell_type": "markdown",
   "metadata": {},
   "source": [
    "## Parte 3. Los tres personajes que más aparecen"
   ]
  },
  {
   "cell_type": "code",
   "execution_count": 44,
   "metadata": {},
   "outputs": [
    {
     "name": "stdout",
     "output_type": "stream",
     "text": [
      "[('sancho', 953), ('quijote', 907), ('dulcinea', 167)]\n"
     ]
    }
   ],
   "source": [
    "reduce_ordered = reduce_personajes.sortBy(lambda tupla: tupla[1], ascending=False)\n",
    "reduce_ordered_limit3 = reduce_ordered.take(3)\n",
    "\n",
    "print(reduce_ordered_limit3)"
   ]
  },
  {
   "cell_type": "code",
   "execution_count": 41,
   "metadata": {},
   "outputs": [
    {
     "name": "stdout",
     "output_type": "stream",
     "text": [
      "[('sancho', 953), ('quijote', 907), ('dulcinea', 167)]\n"
     ]
    }
   ],
   "source": [
    "#reduce_ordered_limited = reduce.sortBy(lambda x: x, ascending=False).take(10)\n",
    "output = reduce_personajes.takeOrdered(3, key = lambda tupla: -tupla[1])\n",
    "print(output)"
   ]
  },
  {
   "cell_type": "markdown",
   "metadata": {},
   "source": [
    "### Guardamos en HDFS"
   ]
  },
  {
   "cell_type": "code",
   "execution_count": 43,
   "metadata": {},
   "outputs": [],
   "source": [
    "rdd = sc.parallelize(output,1)\n",
    "rdd.saveAsTextFile(\"alumno/resultSpark2\")"
   ]
  },
  {
   "cell_type": "code",
   "execution_count": 45,
   "metadata": {},
   "outputs": [],
   "source": [
    "reduce_ordered.saveAsTextFile(\"alumno/resultSpark3\")"
   ]
  }
 ],
 "metadata": {
  "kernelspec": {
   "display_name": "Python 3",
   "language": "python",
   "name": "python3"
  },
  "language_info": {
   "codemirror_mode": {
    "name": "ipython",
    "version": 3
   },
   "file_extension": ".py",
   "mimetype": "text/x-python",
   "name": "python",
   "nbconvert_exporter": "python",
   "pygments_lexer": "ipython3",
   "version": "3.7.3"
  }
 },
 "nbformat": 4,
 "nbformat_minor": 2
}
