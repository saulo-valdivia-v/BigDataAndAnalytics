{
 "cells": [
  {
   "cell_type": "markdown",
   "metadata": {},
   "source": [
    "# Ejercicio 1\n",
    "\n",
    "1. Leer el fichero Quijote.txt de HDFS del directorio books\n",
    "2. Contar cuantas veces aparece cada palabra dentro del libro quitando los signos de punturacion. Guardar el resultado en HDFS en un directorio con el nombre del alumno dentro del directorio home del usuario ubuntu\n",
    "3. Obtener cuantas veces aparecen los siguientes personajes: \"Quijote\",\"Sancho\",\"Dulcinea\",\"Rocinante\",\"Rucio\",\"Nicolás\",\"Palomeque\",\"Maritornes\",\"Quijana\", \"Sansón\", \"Galgo\"\n",
    "4. Sacar los tres personajes que más se "
   ]
  },
  {
   "cell_type": "raw",
   "metadata": {},
   "source": [
    "import findspark\n",
    "findspark.init(\"/home/ubuntu/bigdata/apps/spark-3.0.1\")\n",
    "import pyspark"
   ]
  }
 ],
 "metadata": {
  "kernelspec": {
   "display_name": "Python 3",
   "language": "python",
   "name": "python3"
  },
  "language_info": {
   "codemirror_mode": {
    "name": "ipython",
    "version": 3
   },
   "file_extension": ".py",
   "mimetype": "text/x-python",
   "name": "python",
   "nbconvert_exporter": "python",
   "pygments_lexer": "ipython3",
   "version": "3.7.3"
  }
 },
 "nbformat": 4,
 "nbformat_minor": 2
}
