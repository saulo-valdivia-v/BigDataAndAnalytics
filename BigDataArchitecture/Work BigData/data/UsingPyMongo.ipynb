{
 "cells": [
  {
   "cell_type": "markdown",
   "metadata": {},
   "source": [
    "# Documentación de pymongo\n",
    "\n",
    "La documentación está en la url <https://pymongo.readthedocs.io/en/stable/api/pymongo/index.html>\n",
    "\n",
    "# First steps with MongoDB and PyMongo\n",
    "\n",
    "\n",
    "*   Connection to Mongo\n",
    "*   Basic database, collection management\n",
    "*   CRUD  one document\n",
    "*   CRUD  many documents"
   ]
  },
  {
   "cell_type": "markdown",
   "metadata": {},
   "source": [
    "# 1. Import PyMongo and establish connection\n",
    "\n",
    "Tenemos que asegurarnos de que tenemos instalados los módulos necesarios\n",
    "\n",
    "`conda install pymongo`\n",
    "\n",
    "Habitualmente se crean diferentes environments para diferentes herramientas o proyectos, aunque no es objetivo de este curso.\n",
    "\n",
    "Antes de arrancar jupyter nos podemos crear un environment para mongo con las siguientes instrucciones:\n",
    "\n",
    "`conda create -n mongo --clone base\n",
    "conda activate mongo\n",
    "conda install pymongo\n",
    "`\n",
    "\n",
    "Una vez instalado podemos ejecutar `jupyter-lab` para arrancarlo\n",
    "\n",
    "Con la siguiente instrucción nos aseguramos de estar utilizando el environment creado para mongo, esta instrucción lista todos los environments y nos indica con un `*` cuál está activo"
   ]
  },
  {
   "cell_type": "code",
   "execution_count": 1,
   "metadata": {},
   "outputs": [
    {
     "name": "stdout",
     "output_type": "stream",
     "text": [
      "# conda environments:\n",
      "#\n",
      "base                     /home/template/miniconda3\n",
      "mongo                 *  /home/template/miniconda3/envs/mongo\n",
      "\n"
     ]
    }
   ],
   "source": [
    "!conda env list"
   ]
  },
  {
   "cell_type": "code",
   "execution_count": 2,
   "metadata": {},
   "outputs": [],
   "source": [
    "from pymongo import MongoClient\n",
    "\n",
    "client = MongoClient('mongodb://localhost:27017/')"
   ]
  },
  {
   "cell_type": "code",
   "execution_count": 3,
   "metadata": {},
   "outputs": [
    {
     "name": "stdout",
     "output_type": "stream",
     "text": [
      "['admin', 'config', 'curso', 'local', 'test']\n"
     ]
    }
   ],
   "source": [
    "print(client.list_database_names())"
   ]
  },
  {
   "cell_type": "code",
   "execution_count": 36,
   "metadata": {},
   "outputs": [
    {
     "data": {
      "text/plain": [
       "<pymongo.results.InsertManyResult at 0x7f1d1fe508c0>"
      ]
     },
     "execution_count": 36,
     "metadata": {},
     "output_type": "execute_result"
    }
   ],
   "source": [
    "cars = [ {'name': 'Audi', 'price': 52642},\n",
    "    {'name': 'Mercedes', 'price': 57127},\n",
    "    {'name': 'Skoda', 'price': 9000},\n",
    "    {'name': 'Volvo', 'price': 29000},\n",
    "    {'name': 'Bentley', 'price': 350000},\n",
    "    {'name': 'Citroen', 'price': 21000},\n",
    "    {'name': 'Hummer', 'price': 41400},\n",
    "    {'name': 'Volkswagen', 'price': 21600} ]\n",
    "\n",
    "db = client.curso\n",
    "db.cars.drop()\n",
    "db.cars.insert_many(cars)"
   ]
  },
  {
   "cell_type": "code",
   "execution_count": 37,
   "metadata": {},
   "outputs": [
    {
     "data": {
      "text/plain": [
       "[{'name': 'lecturer',\n",
       "  'type': 'collection',\n",
       "  'options': {},\n",
       "  'info': {'readOnly': False,\n",
       "   'uuid': UUID('03790849-6935-4cf7-a028-4cdc97926fde')},\n",
       "  'idIndex': {'v': 2, 'key': {'_id': 1}, 'name': '_id_'}},\n",
       " {'name': 'alumnos2',\n",
       "  'type': 'collection',\n",
       "  'options': {},\n",
       "  'info': {'readOnly': False,\n",
       "   'uuid': UUID('42e3f21f-6c7f-4599-8daa-6c0a4ee6922b')},\n",
       "  'idIndex': {'v': 2, 'key': {'_id': 1}, 'name': '_id_'}},\n",
       " {'name': 'test',\n",
       "  'type': 'collection',\n",
       "  'options': {},\n",
       "  'info': {'readOnly': False,\n",
       "   'uuid': UUID('7c49d6b8-7e06-4da7-9566-13a290b2846e')},\n",
       "  'idIndex': {'v': 2, 'key': {'_id': 1}, 'name': '_id_'}},\n",
       " {'name': 'cars',\n",
       "  'type': 'collection',\n",
       "  'options': {},\n",
       "  'info': {'readOnly': False,\n",
       "   'uuid': UUID('9ae5d4ae-97b6-4437-b608-5b4106f74f4e')},\n",
       "  'idIndex': {'v': 2, 'key': {'_id': 1}, 'name': '_id_'}},\n",
       " {'name': 'ciudades_abandonadas',\n",
       "  'type': 'collection',\n",
       "  'options': {},\n",
       "  'info': {'readOnly': False,\n",
       "   'uuid': UUID('a0e6b2c7-2b13-481b-85ce-28cbaf3e4d47')},\n",
       "  'idIndex': {'v': 2, 'key': {'_id': 1}, 'name': '_id_'}},\n",
       " {'name': 'zips',\n",
       "  'type': 'collection',\n",
       "  'options': {},\n",
       "  'info': {'readOnly': False,\n",
       "   'uuid': UUID('a48b4a8d-f4e0-43e3-87bf-c3d8f9f68b55')},\n",
       "  'idIndex': {'v': 2, 'key': {'_id': 1}, 'name': '_id_'}}]"
      ]
     },
     "execution_count": 37,
     "metadata": {},
     "output_type": "execute_result"
    }
   ],
   "source": [
    "db = client.curso\n",
    "list (db.list_collections())"
   ]
  },
  {
   "cell_type": "markdown",
   "metadata": {},
   "source": [
    "### Statistics"
   ]
  },
  {
   "cell_type": "code",
   "execution_count": 38,
   "metadata": {},
   "outputs": [
    {
     "name": "stdout",
     "output_type": "stream",
     "text": [
      "{'db': 'curso', 'collections': 6, 'views': 0, 'objects': 29482, 'avgObjSize': 94.34672003256225, 'dataSize': 2781530.0, 'storageSize': 1421312.0, 'indexes': 6, 'indexSize': 425984.0, 'totalSize': 1847296.0, 'scaleFactor': 1.0, 'fsUsedSize': 9278976000.0, 'fsTotalSize': 53660876800.0, 'ok': 1.0}\n"
     ]
    }
   ],
   "source": [
    "status = db.command(\"dbstats\")\n",
    "print(status)"
   ]
  },
  {
   "cell_type": "code",
   "execution_count": 53,
   "metadata": {},
   "outputs": [
    {
     "name": "stdout",
     "output_type": "stream",
     "text": [
      "There are 8 cars\n",
      "{'_id': ObjectId('603e2d33b0a78acf46b94c75'), 'name': 'Audi', 'price': 52642}\n",
      "====================\n",
      "{'_id': ObjectId('603e2d33b0a78acf46b94c76'), 'name': 'Mercedes', 'price': 57127}\n",
      "====================\n",
      "{'_id': ObjectId('603e2d33b0a78acf46b94c77'), 'name': 'Skoda', 'price': 9000}\n",
      "====================\n",
      "====================\n",
      "{'_id': ObjectId('603e2d33b0a78acf46b94c75'), 'name': 'Audi', 'price': 52642}\n",
      "{'_id': ObjectId('603e2d33b0a78acf46b94c76'), 'name': 'Mercedes', 'price': 57127}\n",
      "{'_id': ObjectId('603e2d33b0a78acf46b94c77'), 'name': 'Skoda', 'price': 9000}\n",
      "[{'_id': ObjectId('603e2d33b0a78acf46b94c78'), 'name': 'Volvo', 'price': 29000}, {'_id': ObjectId('603e2d33b0a78acf46b94c79'), 'name': 'Bentley', 'price': 350000}, {'_id': ObjectId('603e2d33b0a78acf46b94c7a'), 'name': 'Citroen', 'price': 21000}, {'_id': ObjectId('603e2d33b0a78acf46b94c7b'), 'name': 'Hummer', 'price': 41400}, {'_id': ObjectId('603e2d33b0a78acf46b94c7c'), 'name': 'Volkswagen', 'price': 21600}]\n"
     ]
    }
   ],
   "source": [
    "cars = db.cars.find()\n",
    "#print(\"There are {} cars\".format(num_cars))\n",
    "n_cars = db.cars.estimated_document_count()\n",
    "#n_cars = db.cars.count_documents({})\n",
    "#n_cars = cars.count()\n",
    "print(\"There are {} cars\".format(n_cars))\n",
    "\n",
    "print(cars.next())\n",
    "print(\"====================\")\n",
    "print(cars.next())\n",
    "print(\"====================\")\n",
    "print(cars.next())\n",
    "\n",
    "print(\"====================\")\n",
    "print(\"====================\")\n",
    "cars.rewind()\n",
    "\n",
    "print(cars.next())\n",
    "print(cars.next())\n",
    "print(cars.next())    \n",
    "\n",
    "print(list(cars))"
   ]
  },
  {
   "cell_type": "markdown",
   "metadata": {},
   "source": [
    "### Access fields"
   ]
  },
  {
   "cell_type": "code",
   "execution_count": 41,
   "metadata": {},
   "outputs": [
    {
     "name": "stdout",
     "output_type": "stream",
     "text": [
      "<class 'pymongo.cursor.Cursor'>\n",
      "Audi 52642\n",
      "Mercedes 57127\n",
      "Skoda 9000\n",
      "Volvo 29000\n",
      "Bentley 350000\n",
      "Citroen 21000\n",
      "Hummer 41400\n",
      "Volkswagen 21600\n"
     ]
    }
   ],
   "source": [
    "cars = db.cars.find()\n",
    "print(type(cars))\n",
    "\n",
    "for car in cars:\n",
    "    print('{0} {1}'.format(car['name'], car['price']))"
   ]
  },
  {
   "cell_type": "code",
   "execution_count": 54,
   "metadata": {},
   "outputs": [
    {
     "name": "stdout",
     "output_type": "stream",
     "text": [
      "{'name': 'Audi', 'price': 52642}\n",
      "{'name': 'Mercedes', 'price': 57127}\n",
      "{'name': 'Skoda', 'price': 9000}\n",
      "{'name': 'Volvo', 'price': 29000}\n",
      "{'name': 'Bentley', 'price': 350000}\n",
      "{'name': 'Citroen', 'price': 21000}\n",
      "{'name': 'Hummer', 'price': 41400}\n",
      "{'name': 'Volkswagen', 'price': 21600}\n"
     ]
    }
   ],
   "source": [
    "cars = db.cars.find( {} , {'name':True,'price':True, '_id': False})\n",
    "for car in cars:\n",
    "    print(car)"
   ]
  },
  {
   "cell_type": "markdown",
   "metadata": {},
   "source": [
    "### Find one"
   ]
  },
  {
   "cell_type": "code",
   "execution_count": 55,
   "metadata": {},
   "outputs": [
    {
     "name": "stdout",
     "output_type": "stream",
     "text": [
      "<class 'dict'>\n",
      "{'_id': ObjectId('603e2d33b0a78acf46b94c75'), 'name': 'Audi', 'price': 52642}\n",
      "Audi\n",
      "{'_id': ObjectId('603e2d33b0a78acf46b94c78'), 'name': 'Volvo', 'price': 29000}\n"
     ]
    }
   ],
   "source": [
    "car = db.cars.find_one()\n",
    "print(type(car))\n",
    "print(car)\n",
    "print (car[\"name\"])\n",
    "\n",
    "car = db.cars.find_one({'name': 'Volvo'})\n",
    "print(car)\n"
   ]
  },
  {
   "cell_type": "markdown",
   "metadata": {},
   "source": [
    "### Filter"
   ]
  },
  {
   "cell_type": "code",
   "execution_count": 47,
   "metadata": {},
   "outputs": [
    {
     "name": "stdout",
     "output_type": "stream",
     "text": [
      "Audi\n",
      "Mercedes\n",
      "Bentley\n"
     ]
    }
   ],
   "source": [
    "expensive_cars = db.cars.find({'price': {'$gt': 50000}})\n",
    "\n",
    "for ecar in expensive_cars:\n",
    "    print(ecar['name'])\n"
   ]
  },
  {
   "cell_type": "code",
   "execution_count": 59,
   "metadata": {},
   "outputs": [
    {
     "name": "stdout",
     "output_type": "stream",
     "text": [
      "Adds a `$where`_ clause to this query.\n",
      "\n",
      "        The `code` argument must be an instance of :class:`basestring`\n",
      "        (:class:`str` in python 3) or :class:`~bson.code.Code`\n",
      "        containing a JavaScript expression. This expression will be\n",
      "        evaluated for each document scanned. Only those documents\n",
      "        for which the expression evaluates to *true* will be returned\n",
      "        as results. The keyword *this* refers to the object currently\n",
      "        being scanned. For example::\n",
      "\n",
      "            # Find all documents where field \"a\" is less than \"b\" plus \"c\".\n",
      "            for doc in db.test.find().where('this.a < (this.b + this.c)'):\n",
      "                print(doc)\n",
      "\n",
      "        Raises :class:`TypeError` if `code` is not an instance of\n",
      "        :class:`basestring` (:class:`str` in python 3). Raises\n",
      "        :class:`~pymongo.errors.InvalidOperation` if this\n",
      "        :class:`Cursor` has already been used. Only the last call to\n",
      "        :meth:`where` applied to a :class:`Cursor` has any effect.\n",
      "\n",
      "        .. note:: MongoDB 4.4 drops support for :class:`~bson.code.Code`\n",
      "          with scope variables. Consider using `$expr`_ instead.\n",
      "\n",
      "        :Parameters:\n",
      "          - `code`: JavaScript expression to use as a filter\n",
      "\n",
      "        .. _$expr: https://docs.mongodb.com/manual/reference/operator/query/expr/\n",
      "        .. _$where: https://docs.mongodb.com/manual/reference/operator/query/where/\n",
      "        \n",
      "[{'_id': ObjectId('603e2d33b0a78acf46b94c77'), 'name': 'Skoda', 'price': 9000}]\n"
     ]
    }
   ],
   "source": [
    "\n",
    "cars = db.cars.find().where('this.price<15000 && this.name == \"Skoda\"')\n",
    "#print(db.cars.find().where.__doc__)\n",
    "\n",
    "print(list(cars))"
   ]
  },
  {
   "cell_type": "code",
   "execution_count": 21,
   "metadata": {},
   "outputs": [
    {
     "name": "stdout",
     "output_type": "stream",
     "text": [
      "Skoda: 9000\n",
      "Volvo: 29000\n",
      "Bentley: 350000\n"
     ]
    }
   ],
   "source": [
    "cars = db.cars.find().skip(2).limit(3)\n",
    "\n",
    "for car in cars:\n",
    "    print('{0}: {1}'.format(car['name'], car['price']))"
   ]
  },
  {
   "cell_type": "code",
   "execution_count": 63,
   "metadata": {},
   "outputs": [
    {
     "name": "stdout",
     "output_type": "stream",
     "text": [
      "ASCENDING=1, DESCENDING=-1\n",
      "Bentley 350000\n",
      "Mercedes 57127\n",
      "Audi 52642\n",
      "Hummer 41400\n",
      "Volvo 29000\n",
      "Volkswagen 21600\n",
      "Citroen 21000\n",
      "Skoda 9000\n"
     ]
    }
   ],
   "source": [
    "from pymongo import DESCENDING, ASCENDING\n",
    "print (f'ASCENDING={ASCENDING}, DESCENDING={DESCENDING}')\n",
    "cars = db.cars.find().sort(\"price\", DESCENDING)\n",
    "\n",
    "for car in cars:\n",
    "    print('{0} {1}'.format(car['name'], car['price']))"
   ]
  },
  {
   "cell_type": "markdown",
   "metadata": {},
   "source": [
    "### Update"
   ]
  },
  {
   "cell_type": "code",
   "execution_count": 64,
   "metadata": {},
   "outputs": [
    {
     "name": "stdout",
     "output_type": "stream",
     "text": [
      "[{'_id': ObjectId('603e2d33b0a78acf46b94c75'), 'name': 'Audi', 'price': 52642, 'luxury_car': True}, {'_id': ObjectId('603e2d33b0a78acf46b94c76'), 'name': 'Mercedes', 'price': 57127, 'luxury_car': True}, {'_id': ObjectId('603e2d33b0a78acf46b94c77'), 'name': 'Skoda', 'price': 9000}, {'_id': ObjectId('603e2d33b0a78acf46b94c78'), 'name': 'Volvo', 'price': 29000}, {'_id': ObjectId('603e2d33b0a78acf46b94c79'), 'name': 'Bentley', 'price': 350000, 'luxury_car': True}, {'_id': ObjectId('603e2d33b0a78acf46b94c7a'), 'name': 'Citroen', 'price': 21000}, {'_id': ObjectId('603e2d33b0a78acf46b94c7b'), 'name': 'Hummer', 'price': 41400}, {'_id': ObjectId('603e2d33b0a78acf46b94c7c'), 'name': 'Volkswagen', 'price': 21600}]\n"
     ]
    }
   ],
   "source": [
    "car_collection = db.cars \n",
    "car_collection.update_many( {'price': {'$gt': 50000}}, {\"$set\" : { \"luxury_car\" : True }})\n",
    "\n",
    "cars = db.cars.find()\n",
    "print(list(cars))"
   ]
  },
  {
   "cell_type": "markdown",
   "metadata": {},
   "source": [
    "### Delete"
   ]
  },
  {
   "cell_type": "code",
   "execution_count": 65,
   "metadata": {},
   "outputs": [
    {
     "name": "stdout",
     "output_type": "stream",
     "text": [
      "[{'_id': ObjectId('603e2d33b0a78acf46b94c75'), 'name': 'Audi', 'price': 52642, 'luxury_car': True}, {'_id': ObjectId('603e2d33b0a78acf46b94c76'), 'name': 'Mercedes', 'price': 57127, 'luxury_car': True}, {'_id': ObjectId('603e2d33b0a78acf46b94c79'), 'name': 'Bentley', 'price': 350000, 'luxury_car': True}]\n"
     ]
    }
   ],
   "source": [
    "car_collection = db.cars \n",
    "car_collection.delete_many( {\"luxury_car\": {\"$exists\": False}})\n",
    "\n",
    "cars = db.cars.find()\n",
    "print(list(cars))"
   ]
  }
 ],
 "metadata": {
  "kernelspec": {
   "display_name": "Python 3",
   "language": "python",
   "name": "python3"
  },
  "language_info": {
   "codemirror_mode": {
    "name": "ipython",
    "version": 3
   },
   "file_extension": ".py",
   "mimetype": "text/x-python",
   "name": "python",
   "nbconvert_exporter": "python",
   "pygments_lexer": "ipython3",
   "version": "3.8.5"
  }
 },
 "nbformat": 4,
 "nbformat_minor": 4
}
