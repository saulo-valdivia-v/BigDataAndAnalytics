{
 "cells": [
  {
   "cell_type": "markdown",
   "metadata": {},
   "source": [
    "# Visualización 4: grafos con Networkx."
   ]
  },
  {
   "cell_type": "markdown",
   "metadata": {},
   "source": [
    "## Introducción a teoría de grafos"
   ]
  },
  {
   "cell_type": "code",
   "execution_count": 11,
   "metadata": {},
   "outputs": [],
   "source": [
    "import networkx as nx\n",
    "import matplotlib.pyplot as plt"
   ]
  },
  {
   "cell_type": "code",
   "execution_count": 12,
   "metadata": {},
   "outputs": [],
   "source": [
    "G = nx.Graph()"
   ]
  },
  {
   "cell_type": "code",
   "execution_count": 13,
   "metadata": {},
   "outputs": [
    {
     "data": {
      "image/png": "[encoded data removed]",
      "text/plain": [
       "<Figure size 432x288 with 1 Axes>"
      ]
     },
     "metadata": {},
     "output_type": "display_data"
    }
   ],
   "source": [
    "G = nx.Graph()\n",
    "\n",
    "G.add_nodes_from(['A', 'B'])\n",
    "\n",
    "G.add_edge('A', 'B')\n",
    "\n",
    "nx.draw(G)"
   ]
  },
  {
   "cell_type": "code",
   "execution_count": 14,
   "metadata": {},
   "outputs": [
    {
     "data": {
      "image/png": "[encoded data removed]",
      "text/plain": [
       "<Figure size 432x288 with 1 Axes>"
      ]
     },
     "metadata": {},
     "output_type": "display_data"
    }
   ],
   "source": [
    "K = nx.Graph()\n",
    "K.add_nodes_from(['N', 'B', 'M', 'P', 'D'])\n",
    "K.add_edge('N', 'B')\n",
    "K.add_edge('B', 'M')\n",
    "K.add_edge('M', 'P')\n",
    "K.add_edge('P', 'D')\n",
    "\n",
    "\n",
    "nx.draw(K)"
   ]
  },
  {
   "cell_type": "code",
   "execution_count": 15,
   "metadata": {},
   "outputs": [
    {
     "data": {
      "image/png": "[encoded data removed]",
      "text/plain": [
       "<Figure size 432x288 with 1 Axes>"
      ]
     },
     "metadata": {},
     "output_type": "display_data"
    }
   ],
   "source": [
    "F = nx.compose(G, K)\n",
    "nx.draw(F)"
   ]
  },
  {
   "cell_type": "code",
   "execution_count": 20,
   "metadata": {},
   "outputs": [
    {
     "data": {
      "image/png": "[encoded data removed]",
      "text/plain": [
       "<Figure size 432x288 with 1 Axes>"
      ]
     },
     "metadata": {},
     "output_type": "display_data"
    }
   ],
   "source": [
    "pos = nx.spring_layout(G)\n",
    "#plt.figure()\n",
    "\n",
    "nx.draw_networkx_edge_labels(G,\n",
    "                             pos,\n",
    "                             edge_labels={('A','B'):'Pablo'},\n",
    "                             font_color='darkblue')\n",
    "\n",
    "nx.draw(G,\n",
    "        edge_color='black',\n",
    "        width=1,\n",
    "        linewidths=1,\n",
    "        node_size=500,\n",
    "        node_color='lightblue',\n",
    "        alpha=0.9,\n",
    "        with_labels=True,\n",
    "        labels={node:node for node in G.nodes()})"
   ]
  },
  {
   "cell_type": "markdown",
   "metadata": {},
   "source": [
    "## Partes de un grafo"
   ]
  },
  {
   "cell_type": "code",
   "execution_count": 20,
   "metadata": {},
   "outputs": [
    {
     "data": {
      "text/plain": [
       "NodeView(('A', 'B'))"
      ]
     },
     "execution_count": 20,
     "metadata": {},
     "output_type": "execute_result"
    }
   ],
   "source": [
    "# Lista de nodos\n",
    "G.nodes()"
   ]
  },
  {
   "cell_type": "code",
   "execution_count": 21,
   "metadata": {},
   "outputs": [
    {
     "data": {
      "text/plain": [
       "NodeDataView({'A': {}, 'B': {}})"
      ]
     },
     "execution_count": 21,
     "metadata": {},
     "output_type": "execute_result"
    }
   ],
   "source": [
    "# Lista de nodos con atributos\n",
    "G.nodes(data=True)"
   ]
  },
  {
   "cell_type": "code",
   "execution_count": 23,
   "metadata": {},
   "outputs": [
    {
     "data": {
      "text/plain": [
       "EdgeView([('A', 'B')])"
      ]
     },
     "execution_count": 23,
     "metadata": {},
     "output_type": "execute_result"
    }
   ],
   "source": [
    "# Lista de conexiones\n",
    "G.edges()"
   ]
  },
  {
   "cell_type": "code",
   "execution_count": 24,
   "metadata": {},
   "outputs": [
    {
     "data": {
      "text/plain": [
       "EdgeDataView([('A', 'B', {})])"
      ]
     },
     "execution_count": 24,
     "metadata": {},
     "output_type": "execute_result"
    }
   ],
   "source": [
    "# Lista de conexiones con atributos\n",
    "G.edges(data=True)"
   ]
  },
  {
   "cell_type": "markdown",
   "metadata": {},
   "source": [
    "## Tipos de grafos"
   ]
  },
  {
   "cell_type": "markdown",
   "metadata": {},
   "source": [
    "**Grafo simple.** O simplemente grafo es aquel que acepta una sola una arista uniendo dos vértices cualesquiera. Esto es equivalente a decir que una arista cualquiera es la única que une dos vértices específicos. Es la definición estándar de un grafo.\n",
    "\n",
    "**Multigrafo.** O pseudografo son grafos que aceptan más de una arista entre dos vértices. Estas aristas se llaman múltiples o lazos (loops en inglés). Los grafos simples son una subclase de esta categoría de grafos. También se les llama grafos no-dirigido.\n",
    "\n",
    "**Grafo dirigido.** Son grafos en los cuales se ha añadido una orientación a las aristas, representada gráficamente por una flecha\n",
    "\n",
    "**Grafo etiquetado.** Grafos en los cuales se ha añadido un peso a las aristas (número entero generalmente) o un etiquetado a los vértices.\n",
    "\n",
    "**Grafo aleatorio.** Grafo cuyas aristas están asociadas a una probabilidad.\n",
    "\n",
    "**Hipergrafo.** Grafos en los cuales las aristas tienen más de dos extremos, es decir, las aristas son incidentes a 3 o más vértices.\n",
    "\n",
    "**Grafo infinito.** Grafos con conjunto de vértices y aristas de cardinal infinito."
   ]
  },
  {
   "cell_type": "markdown",
   "metadata": {},
   "source": [
    "## Centralidad"
   ]
  },
  {
   "cell_type": "code",
   "execution_count": 25,
   "metadata": {},
   "outputs": [
    {
     "data": {
      "image/png": "[encoded data removed]",
      "text/plain": [
       "<Figure size 432x288 with 1 Axes>"
      ]
     },
     "metadata": {},
     "output_type": "display_data"
    }
   ],
   "source": [
    "conexiones = [(1,2), (1,3), (1,4), (1,5), (1,6), (1,7), (1,8)]\n",
    "H = nx.Graph(conexiones)\n",
    "nx.draw(H, with_labels=True)"
   ]
  },
  {
   "cell_type": "markdown",
   "metadata": {},
   "source": [
    "La métrica más importante utilizada para medir la importancia de un Nodo."
   ]
  },
  {
   "cell_type": "markdown",
   "metadata": {},
   "source": [
    "**Número de vecinos que tengo / Número de vecinos que podría tener**"
   ]
  },
  {
   "cell_type": "code",
   "execution_count": 26,
   "metadata": {},
   "outputs": [
    {
     "data": {
      "text/plain": [
       "[2, 3, 4, 5, 6, 7, 8]"
      ]
     },
     "execution_count": 26,
     "metadata": {},
     "output_type": "execute_result"
    }
   ],
   "source": [
    "[n for n in H.neighbors(1)]"
   ]
  },
  {
   "cell_type": "code",
   "execution_count": 27,
   "metadata": {},
   "outputs": [
    {
     "data": {
      "text/plain": [
       "{1: 1.0,\n",
       " 2: 0.14285714285714285,\n",
       " 3: 0.14285714285714285,\n",
       " 4: 0.14285714285714285,\n",
       " 5: 0.14285714285714285,\n",
       " 6: 0.14285714285714285,\n",
       " 7: 0.14285714285714285,\n",
       " 8: 0.14285714285714285}"
      ]
     },
     "execution_count": 27,
     "metadata": {},
     "output_type": "execute_result"
    }
   ],
   "source": [
    "nx.degree_centrality(H)"
   ]
  },
  {
   "cell_type": "markdown",
   "metadata": {},
   "source": [
    "## Centralidad de intermediación"
   ]
  },
  {
   "cell_type": "markdown",
   "metadata": {},
   "source": [
    "Cuántas veces un nodo está en el camino (ruta geodésica) que conecta los otros nodos."
   ]
  },
  {
   "cell_type": "markdown",
   "metadata": {},
   "source": [
    "**Número de caminos cortos a través de un nodo / Todos los posibles caminos cortos**"
   ]
  },
  {
   "cell_type": "code",
   "execution_count": 29,
   "metadata": {},
   "outputs": [
    {
     "data": {
      "text/plain": [
       "{1: 1.0, 2: 0.0, 3: 0.0, 4: 0.0, 5: 0.0, 6: 0.0, 7: 0.0, 8: 0.0}"
      ]
     },
     "execution_count": 29,
     "metadata": {},
     "output_type": "execute_result"
    }
   ],
   "source": [
    "nx.betweenness_centrality(H)"
   ]
  },
  {
   "cell_type": "markdown",
   "metadata": {},
   "source": [
    "Ejemplo práctico: plano de metro de una ciudad."
   ]
  },
  {
   "cell_type": "markdown",
   "metadata": {},
   "source": [
    "## Caso de uso: Popularidad"
   ]
  },
  {
   "cell_type": "code",
   "execution_count": 4,
   "metadata": {},
   "outputs": [],
   "source": [
    "import csv\n",
    "\n",
    "in_file=csv.reader(open('amigos.txt','r'))\n",
    "\n",
    "I=nx.Graph()\n",
    "\n",
    "for line in in_file:\n",
    "    I.add_edge(line[0],line[1])"
   ]
  },
  {
   "cell_type": "code",
   "execution_count": 5,
   "metadata": {},
   "outputs": [
    {
     "data": {
      "text/plain": [
       "NodeDataView({'Alvaro': {}, 'Ana': {}, 'Manuela': {}, 'Beatriz': {}, 'Teresa': {}, 'Paula': {}, 'Marta': {}, 'Rocio': {}, 'Paco': {}, 'Juan': {}, 'Jose': {}, 'Pedro': {}, 'Alberto': {}, 'Miguel': {}})"
      ]
     },
     "execution_count": 5,
     "metadata": {},
     "output_type": "execute_result"
    }
   ],
   "source": [
    "I.nodes(data=True)"
   ]
  },
  {
   "cell_type": "code",
   "execution_count": 6,
   "metadata": {},
   "outputs": [
    {
     "data": {
      "text/plain": [
       "EdgeDataView([('Alvaro', 'Ana', {}), ('Alvaro', 'Manuela', {}), ('Alvaro', 'Beatriz', {}), ('Alvaro', 'Teresa', {}), ('Alvaro', 'Paula', {}), ('Alvaro', 'Marta', {}), ('Alvaro', 'Rocio', {}), ('Alvaro', 'Paco', {}), ('Alvaro', 'Juan', {}), ('Alvaro', 'Jose', {}), ('Alvaro', 'Pedro', {}), ('Alvaro', 'Alberto', {}), ('Ana', 'Miguel', {}), ('Ana', 'Manuela', {}), ('Ana', 'Beatriz', {}), ('Manuela', 'Teresa', {}), ('Manuela', 'Paula', {}), ('Manuela', 'Rocio', {}), ('Manuela', 'Paco', {}), ('Manuela', 'Juan', {}), ('Manuela', 'Alberto', {}), ('Manuela', 'Pedro', {}), ('Manuela', 'Marta', {}), ('Beatriz', 'Teresa', {}), ('Beatriz', 'Rocio', {}), ('Beatriz', 'Alberto', {}), ('Teresa', 'Miguel', {}), ('Teresa', 'Paco', {}), ('Rocio', 'Paco', {}), ('Juan', 'Miguel', {})])"
      ]
     },
     "execution_count": 6,
     "metadata": {},
     "output_type": "execute_result"
    }
   ],
   "source": [
    "I.edges(data=True)"
   ]
  },
  {
   "cell_type": "code",
   "execution_count": 7,
   "metadata": {},
   "outputs": [],
   "source": [
    "# Define find_nodes_with_highest_deg_cent()\n",
    "def find_nodes_with_highest_deg_cent(G):\n",
    "\n",
    "    # Compute the degree centrality of G: deg_cent\n",
    "    deg_cent = nx.degree_centrality(G)\n",
    "    # Compute the maximum degree centrality: max_dc\n",
    "    max_1_dc = max(list(deg_cent.values()))\n",
    "    max_2_dc = list(sorted(deg_cent.values()))[-2]\n",
    "\n",
    "    maxnode1 = set()\n",
    "    maxnode2 = set()\n",
    "\n",
    "    # Iterate over the degree centrality dictionary\n",
    "    for k, v in deg_cent.items():\n",
    "\n",
    "        # Check if the current value has the maximum degree centrality\n",
    "        if v == max_1_dc:\n",
    "\n",
    "            # Add the current node to the set of nodes\n",
    "            maxnode1.add(k)\n",
    "        if v == max_2_dc:\n",
    "\n",
    "            # Add the current node to the set of nodes\n",
    "            maxnode2.add(k)\n",
    "\n",
    "    return maxnode1,maxnode2"
   ]
  },
  {
   "cell_type": "code",
   "execution_count": 8,
   "metadata": {},
   "outputs": [],
   "source": [
    "top_deg_dc,top2_deg_dc = find_nodes_with_highest_deg_cent(I)"
   ]
  },
  {
   "cell_type": "code",
   "execution_count": 9,
   "metadata": {},
   "outputs": [
    {
     "data": {
      "image/png": "[encoded data removed]",
      "text/plain": [
       "<Figure size 432x288 with 1 Axes>"
      ]
     },
     "metadata": {},
     "output_type": "display_data"
    }
   ],
   "source": [
    "nx.draw(I, with_labels=True)"
   ]
  },
  {
   "cell_type": "code",
   "execution_count": 22,
   "metadata": {},
   "outputs": [
    {
     "name": "stdout",
     "output_type": "stream",
     "text": [
      "{'Alvaro'} {'Manuela'}\n"
     ]
    }
   ],
   "source": [
    "print(top_deg_dc,top2_deg_dc)"
   ]
  },
  {
   "cell_type": "code",
   "execution_count": 37,
   "metadata": {},
   "outputs": [
    {
     "data": {
      "text/plain": [
       "{'Alvaro': 0.9230769230769231,\n",
       " 'Ana': 0.3076923076923077,\n",
       " 'Manuela': 0.7692307692307693,\n",
       " 'Beatriz': 0.38461538461538464,\n",
       " 'Teresa': 0.38461538461538464,\n",
       " 'Paula': 0.15384615384615385,\n",
       " 'Marta': 0.15384615384615385,\n",
       " 'Rocio': 0.3076923076923077,\n",
       " 'Paco': 0.3076923076923077,\n",
       " 'Juan': 0.23076923076923078,\n",
       " 'Jose': 0.07692307692307693,\n",
       " 'Pedro': 0.15384615384615385,\n",
       " 'Alberto': 0.23076923076923078,\n",
       " 'Miguel': 0.23076923076923078}"
      ]
     },
     "execution_count": 37,
     "metadata": {},
     "output_type": "execute_result"
    }
   ],
   "source": [
    "nx.degree_centrality(I)"
   ]
  }
 ],
 "metadata": {
  "kernelspec": {
   "display_name": "Python 3",
   "language": "python",
   "name": "python3"
  },
  "language_info": {
   "codemirror_mode": {
    "name": "ipython",
    "version": 3
   },
   "file_extension": ".py",
   "mimetype": "text/x-python",
   "name": "python",
   "nbconvert_exporter": "python",
   "pygments_lexer": "ipython3",
   "version": "3.9.1"
  },
  "latex_envs": {
   "LaTeX_envs_menu_present": true,
   "autoclose": false,
   "autocomplete": true,
   "bibliofile": "biblio.bib",
   "cite_by": "apalike",
   "current_citInitial": 1,
   "eqLabelWithNumbers": true,
   "eqNumInitial": 1,
   "hotkeys": {
    "equation": "Ctrl-E",
    "itemize": "Ctrl-I"
   },
   "labels_anchors": false,
   "latex_user_defs": false,
   "report_style_numbering": false,
   "user_envs_cfg": false
  },
  "toc": {
   "base_numbering": 1,
   "nav_menu": {},
   "number_sections": true,
   "sideBar": true,
   "skip_h1_title": false,
   "title_cell": "Table of Contents",
   "title_sidebar": "Contents",
   "toc_cell": false,
   "toc_position": {},
   "toc_section_display": true,
   "toc_window_display": false
  }
 },
 "nbformat": 4,
 "nbformat_minor": 2
}
