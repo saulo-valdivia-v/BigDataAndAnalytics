{
 "cells": [
  {
   "cell_type": "markdown",
   "metadata": {},
   "source": [
    "# Spanish Electricity Pool Forecasting: Import Finacial Data from Quandl"
   ]
  },
  {
   "cell_type": "code",
   "execution_count": 2,
   "metadata": {},
   "outputs": [],
   "source": [
    "import pandas as pd\n",
    "import numpy as np\n",
    "import datetime as dt\n",
    "import os \n",
    "%matplotlib inline\n",
    "import matplotlib.pyplot as plt\n",
    "import seaborn as sns\n",
    "from datetime import timedelta\n",
    "\n",
    "import quandl as qua\n",
    "#https://unstats.un.org/unsd/envstats/qindicators.cshtml\n",
    "\n",
    "#https://data.worldbank.org/indicator/NY.GDP.PCAP.PP.KD\n",
    "#https://www.gapminder.org/data/documentation/gd001/\n",
    "#https://github.com/libora6/Investigating-GDP-and-Carbon-Emissions/blob/master/Project%202%20-%20Investigate%20a%20Dataset%20-%20Andr%C3%A9%20Neiva%20Liboreiro.ipynb\n",
    "#https://www.ine.es/"
   ]
  },
  {
   "cell_type": "code",
   "execution_count": 3,
   "metadata": {},
   "outputs": [],
   "source": [
    "PATH = \"./data/\""
   ]
  },
  {
   "cell_type": "code",
   "execution_count": 5,
   "metadata": {},
   "outputs": [],
   "source": [
    "START_DATE=\"2014-01-01\"\n",
    "END_DATE = dt.datetime.now().date().strftime(\"%Y-%m-%d\")\n",
    "\n",
    "start_date_suffix = START_DATE.replace(\"-\",\"_\")\n",
    "end_date_suffix = END_DATE.replace(\"-\",\"_\")"
   ]
  },
  {
   "cell_type": "code",
   "execution_count": 6,
   "metadata": {},
   "outputs": [
    {
     "data": {
      "text/plain": [
       "'2021-01-27'"
      ]
     },
     "execution_count": 6,
     "metadata": {},
     "output_type": "execute_result"
    }
   ],
   "source": [
    "END_DATE"
   ]
  },
  {
   "cell_type": "markdown",
   "metadata": {},
   "source": [
    "## IMPORT DATA"
   ]
  },
  {
   "cell_type": "markdown",
   "metadata": {},
   "source": [
    "### Download finantial data from Quandl API:\n",
    "\n",
    "https://www.quandl.com/tools/api"
   ]
  },
  {
   "cell_type": "markdown",
   "metadata": {},
   "source": [
    "**Download Brent**"
   ]
  },
  {
   "cell_type": "code",
   "execution_count": 7,
   "metadata": {},
   "outputs": [
    {
     "name": "stdout",
     "output_type": "stream",
     "text": [
      "<class 'pandas.core.frame.DataFrame'>\n",
      "DatetimeIndex: 1812 entries, 2014-01-02 to 2021-01-21\n",
      "Data columns (total 1 columns):\n",
      " #   Column  Non-Null Count  Dtype  \n",
      "---  ------  --------------  -----  \n",
      " 0   Value   1812 non-null   float64\n",
      "dtypes: float64(1)\n",
      "memory usage: 28.3 KB\n"
     ]
    }
   ],
   "source": [
    "q_api_key='1JVFsqLQ2ygdFFwCx19g'\n",
    "TICKER = \"EIA/PET_RBRTE_D\"\n",
    "brent_raw = qua.get(TICKER, start_date=START_DATE, end_date=END_DATE, authtoken=q_api_key)\n",
    "brent_raw.info()"
   ]
  },
  {
   "cell_type": "code",
   "execution_count": 8,
   "metadata": {},
   "outputs": [],
   "source": [
    "brent_raw.to_csv('brent_raw.csv')"
   ]
  },
  {
   "cell_type": "markdown",
   "metadata": {},
   "source": [
    "**Download EUR/USD**"
   ]
  },
  {
   "cell_type": "code",
   "execution_count": 9,
   "metadata": {},
   "outputs": [
    {
     "name": "stdout",
     "output_type": "stream",
     "text": [
      "<class 'pandas.core.frame.DataFrame'>\n",
      "DatetimeIndex: 1762 entries, 2014-01-02 to 2021-01-22\n",
      "Data columns (total 1 columns):\n",
      " #   Column  Non-Null Count  Dtype  \n",
      "---  ------  --------------  -----  \n",
      " 0   Value   1762 non-null   float64\n",
      "dtypes: float64(1)\n",
      "memory usage: 27.5 KB\n"
     ]
    }
   ],
   "source": [
    "q_api_key='1JVFsqLQ2ygdFFwCx19g'\n",
    "TICKER = \"FRED/DEXUSEU\"\n",
    "eurusd_raw = qua.get(TICKER, start_date=START_DATE, end_date=END_DATE, authtoken=q_api_key)\n",
    "eurusd_raw.info()"
   ]
  },
  {
   "cell_type": "code",
   "execution_count": 11,
   "metadata": {},
   "outputs": [
    {
     "data": {
      "text/html": [
       "<div>\n",
       "<style scoped>\n",
       "    .dataframe tbody tr th:only-of-type {\n",
       "        vertical-align: middle;\n",
       "    }\n",
       "\n",
       "    .dataframe tbody tr th {\n",
       "        vertical-align: top;\n",
       "    }\n",
       "\n",
       "    .dataframe thead th {\n",
       "        text-align: right;\n",
       "    }\n",
       "</style>\n",
       "<table border=\"1\" class=\"dataframe\">\n",
       "  <thead>\n",
       "    <tr style=\"text-align: right;\">\n",
       "      <th></th>\n",
       "      <th>Value</th>\n",
       "    </tr>\n",
       "    <tr>\n",
       "      <th>Date</th>\n",
       "      <th></th>\n",
       "    </tr>\n",
       "  </thead>\n",
       "  <tbody>\n",
       "    <tr>\n",
       "      <th>2014-01-02</th>\n",
       "      <td>1.3670</td>\n",
       "    </tr>\n",
       "    <tr>\n",
       "      <th>2014-01-03</th>\n",
       "      <td>1.3606</td>\n",
       "    </tr>\n",
       "    <tr>\n",
       "      <th>2014-01-06</th>\n",
       "      <td>1.3636</td>\n",
       "    </tr>\n",
       "    <tr>\n",
       "      <th>2014-01-07</th>\n",
       "      <td>1.3618</td>\n",
       "    </tr>\n",
       "    <tr>\n",
       "      <th>2014-01-08</th>\n",
       "      <td>1.3586</td>\n",
       "    </tr>\n",
       "    <tr>\n",
       "      <th>...</th>\n",
       "      <td>...</td>\n",
       "    </tr>\n",
       "    <tr>\n",
       "      <th>2021-01-14</th>\n",
       "      <td>1.2156</td>\n",
       "    </tr>\n",
       "    <tr>\n",
       "      <th>2021-01-15</th>\n",
       "      <td>1.2099</td>\n",
       "    </tr>\n",
       "    <tr>\n",
       "      <th>2021-01-19</th>\n",
       "      <td>1.2126</td>\n",
       "    </tr>\n",
       "    <tr>\n",
       "      <th>2021-01-21</th>\n",
       "      <td>1.2143</td>\n",
       "    </tr>\n",
       "    <tr>\n",
       "      <th>2021-01-22</th>\n",
       "      <td>1.2179</td>\n",
       "    </tr>\n",
       "  </tbody>\n",
       "</table>\n",
       "<p>1762 rows × 1 columns</p>\n",
       "</div>"
      ],
      "text/plain": [
       "             Value\n",
       "Date              \n",
       "2014-01-02  1.3670\n",
       "2014-01-03  1.3606\n",
       "2014-01-06  1.3636\n",
       "2014-01-07  1.3618\n",
       "2014-01-08  1.3586\n",
       "...            ...\n",
       "2021-01-14  1.2156\n",
       "2021-01-15  1.2099\n",
       "2021-01-19  1.2126\n",
       "2021-01-21  1.2143\n",
       "2021-01-22  1.2179\n",
       "\n",
       "[1762 rows x 1 columns]"
      ]
     },
     "execution_count": 11,
     "metadata": {},
     "output_type": "execute_result"
    }
   ],
   "source": [
    "#eurusd_raw.to_csv('eurusd_raw.csv')\n",
    "eurusd_raw"
   ]
  },
  {
   "cell_type": "markdown",
   "metadata": {},
   "source": [
    "**Download CO2 Emissions Allowances prices**\n",
    "\n",
    "https://www.quandl.com/data/CHRIS/ICE_C1-ECX-EUA-Futures-Continuous-Contract"
   ]
  },
  {
   "cell_type": "code",
   "execution_count": 8,
   "metadata": {},
   "outputs": [
    {
     "name": "stdout",
     "output_type": "stream",
     "text": [
      "<class 'pandas.core.frame.DataFrame'>\n",
      "DatetimeIndex: 1839 entries, 2014-01-02 to 2021-01-22\n",
      "Data columns (total 11 columns):\n",
      "Open                       1570 non-null float64\n",
      "High                       1570 non-null float64\n",
      "Low                        1570 non-null float64\n",
      "Settle                     1839 non-null float64\n",
      "Change                     1818 non-null float64\n",
      "Wave                       1317 non-null float64\n",
      "Volume                     1421 non-null float64\n",
      "Prev. Day Open Interest    1838 non-null float64\n",
      "EFP Volume                 387 non-null float64\n",
      "EFS Volume                 60 non-null float64\n",
      "Block Volume               704 non-null float64\n",
      "dtypes: float64(11)\n",
      "memory usage: 172.4 KB\n"
     ]
    }
   ],
   "source": [
    "q_api_key='1JVFsqLQ2ygdFFwCx19g'\n",
    "TICKER = \"CHRIS/ICE_C1\"\n",
    "co2_raw = qua.get(TICKER, start_date=START_DATE, end_date=END_DATE, authtoken=q_api_key)\n",
    "co2_raw.info()"
   ]
  },
  {
   "cell_type": "code",
   "execution_count": 14,
   "metadata": {},
   "outputs": [],
   "source": [
    "co2_raw.to_csv('co2_raw.csv')"
   ]
  },
  {
   "cell_type": "markdown",
   "metadata": {},
   "source": [
    "**Download Coal API2 prices**\n",
    "\n",
    "The API 2 price assessment is the benchmark price reference for coal imported to northwest Europe. It is calculated as an average of the Argus cif ARA price assessment and the IHS McCloskey NW Europe Steam Coal marker.\n",
    "\n",
    "\n",
    "https://www.quandl.com/data/CHRIS/CME_MTF2-Coal-API2-CIF-ARA-ARGUS-McCloskey-Futures-Continuous-Contract-2-MTF2"
   ]
  },
  {
   "cell_type": "code",
   "execution_count": 9,
   "metadata": {},
   "outputs": [
    {
     "name": "stdout",
     "output_type": "stream",
     "text": [
      "<class 'pandas.core.frame.DataFrame'>\n",
      "DatetimeIndex: 1736 entries, 2014-02-18 to 2021-01-22\n",
      "Data columns (total 1 columns):\n",
      "Settle    1736 non-null float64\n",
      "dtypes: float64(1)\n",
      "memory usage: 27.1 KB\n"
     ]
    }
   ],
   "source": [
    "TICKER = \"CHRIS/CME_MTF2.6\"\n",
    "coal_raw = qua.get(TICKER, start_date=START_DATE, end_date=END_DATE, authtoken=q_api_key)\n",
    "coal_raw.info()"
   ]
  },
  {
   "cell_type": "code",
   "execution_count": null,
   "metadata": {},
   "outputs": [],
   "source": [
    "coal_raw.to_csv('coal_raw.csv')"
   ]
  },
  {
   "cell_type": "markdown",
   "metadata": {},
   "source": [
    "**Download Natural Gas at TTF prices**\n",
    "\n",
    "The Title Transfer Facility, more commonly known as TTF, is a virtual trading point for natural gas in the Netherlands\n",
    "\n",
    "https://www.quandl.com/data/CHRIS/ICE_TFM1-Endex-Dutch-TTF-Gas-Base-Load-Futures-Continuous-Contract"
   ]
  },
  {
   "cell_type": "code",
   "execution_count": 10,
   "metadata": {},
   "outputs": [
    {
     "name": "stdout",
     "output_type": "stream",
     "text": [
      "<class 'pandas.core.frame.DataFrame'>\n",
      "DatetimeIndex: 1817 entries, 2014-01-02 to 2021-01-22\n",
      "Data columns (total 1 columns):\n",
      "Settle    1817 non-null float64\n",
      "dtypes: float64(1)\n",
      "memory usage: 28.4 KB\n"
     ]
    }
   ],
   "source": [
    "#data_gas_henryhub=quandl.get(\"EIA/NG_RNGWHHD_D\", authtoken=\"uVzDf-SwCbsjAGvKiY5Y\")\n",
    "\n",
    "TICKER = \"CHRIS/ICE_TFM1.4\"\n",
    "ng_raw = qua.get(TICKER, start_date=START_DATE, end_date=END_DATE, authtoken=q_api_key, collapse='')\n",
    "ng_raw.info()"
   ]
  },
  {
   "cell_type": "code",
   "execution_count": null,
   "metadata": {},
   "outputs": [],
   "source": [
    "ngas_raw.to_csv('ngas_raw.csv')"
   ]
  }
 ],
 "metadata": {
  "kernelspec": {
   "display_name": "Python 3",
   "language": "python",
   "name": "python3"
  },
  "language_info": {
   "codemirror_mode": {
    "name": "ipython",
    "version": 3
   },
   "file_extension": ".py",
   "mimetype": "text/x-python",
   "name": "python",
   "nbconvert_exporter": "python",
   "pygments_lexer": "ipython3",
   "version": "3.9.1"
  },
  "latex_envs": {
   "LaTeX_envs_menu_present": true,
   "autoclose": false,
   "autocomplete": true,
   "bibliofile": "biblio.bib",
   "cite_by": "apalike",
   "current_citInitial": 1,
   "eqLabelWithNumbers": true,
   "eqNumInitial": 1,
   "hotkeys": {
    "equation": "Ctrl-E",
    "itemize": "Ctrl-I"
   },
   "labels_anchors": false,
   "latex_user_defs": false,
   "report_style_numbering": false,
   "user_envs_cfg": false
  },
  "toc": {
   "base_numbering": 1,
   "nav_menu": {},
   "number_sections": true,
   "sideBar": true,
   "skip_h1_title": false,
   "title_cell": "Table of Contents",
   "title_sidebar": "Contents",
   "toc_cell": false,
   "toc_position": {},
   "toc_section_display": true,
   "toc_window_display": false
  }
 },
 "nbformat": 4,
 "nbformat_minor": 2
}
