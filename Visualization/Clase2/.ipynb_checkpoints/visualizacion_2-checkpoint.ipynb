{
 "cells": [
  {
   "cell_type": "markdown",
   "metadata": {},
   "source": [
    "# Visualización de datos 2: Bokeh, Folium."
   ]
  },
  {
   "cell_type": "markdown",
   "metadata": {},
   "source": [
    "## Bokeh"
   ]
  },
  {
   "cell_type": "code",
   "execution_count": 2,
   "metadata": {},
   "outputs": [],
   "source": [
    "from bokeh.plotting import figure, output_file, save, gridplot, show"
   ]
  },
  {
   "cell_type": "code",
   "execution_count": 3,
   "metadata": {},
   "outputs": [
    {
     "name": "stderr",
     "output_type": "stream",
     "text": [
      "BokehDeprecationWarning: 'legend' keyword is deprecated, use explicit 'legend_label', 'legend_field', or 'legend_group' keywords instead\n"
     ]
    },
    {
     "data": {
      "text/plain": [
       "'C:\\\\Users\\\\saule\\\\Documents\\\\ml\\\\Visualization\\\\Clase2\\\\bokeh_sample_1.html'"
      ]
     },
     "execution_count": 3,
     "metadata": {},
     "output_type": "execute_result"
    }
   ],
   "source": [
    "# Preparamos los datos\n",
    "x = [1, 2, 3, 4, 5]\n",
    "y = [6, 7, 2, 4, 5]\n",
    "\n",
    "# Salida estática HTML\n",
    "output_file(\"bokeh_sample_1.html\")\n",
    "\n",
    "# Creamos un nuevo gráfico con un titulo y dos ejes (x e y)\n",
    "p = figure(title=\"simple line example\", x_axis_label='x', y_axis_label='y')\n",
    "\n",
    "# Agregamos la linea con los datos\n",
    "p.line(x, y, legend=\"Temp.\", line_width=2)\n",
    "\n",
    "# Mostramos el resultado\n",
    "show(p)\n",
    "save(p)"
   ]
  },
  {
   "cell_type": "code",
   "execution_count": 13,
   "metadata": {},
   "outputs": [
    {
     "data": {
      "text/plain": [
       "'/Users/miguel/Documents/MIGUEL/EAE/Temario/Data Visualization - MBDBA/Parte A - python y BI/Documentación/python_notebooks/bokeh_sample_2.html'"
      ]
     },
     "execution_count": 13,
     "metadata": {},
     "output_type": "execute_result"
    }
   ],
   "source": [
    "output_file('bokeh_sample_2.html')\n",
    "\n",
    "x = [1, 2, 3, 4, 5]\n",
    "y = [6, 7, 2, 4, 5]\n",
    "\n",
    "i = [6, 7, 8, 9, 10]\n",
    "j = [12, 14, 4, 8, 10]\n",
    "\n",
    "w = [12, 14, 16, 18, 20]\n",
    "z = [24, 28, 8, 16, 20]\n",
    "\n",
    "s1 = figure(width=250, plot_height=250, title='X - Y')\n",
    "s1.circle(x, y, size=10, color='navy', alpha=0.5)\n",
    "\n",
    "s2 = figure(width=250, height=250, x_range=s1.x_range, y_range=s1.y_range, title='I - J') #share both axis range\n",
    "s2.triangle(i, j, size=10, color='red', alpha=0.5)\n",
    "\n",
    "s3 = figure(width=250, height=250, x_range=s1.x_range, title='W - Z') #share only one axis range\n",
    "s3.square(w, z, size=5, color='green', alpha=0.5)\n",
    "\n",
    "p = gridplot([[s1, s2, s3]])\n",
    "show(p)\n",
    "save(p)"
   ]
  },
  {
   "cell_type": "markdown",
   "metadata": {},
   "source": [
    "## Folium"
   ]
  },
  {
   "cell_type": "code",
   "execution_count": 4,
   "metadata": {},
   "outputs": [],
   "source": [
    "import folium\n",
    "\n",
    "m1 = folium.Map(location=[40.448351050331894, -3.677494096911744], tiles='openstreetmap', zoom_start=18)\n",
    "m1.save('mapa1.html')"
   ]
  },
  {
   "cell_type": "code",
   "execution_count": 5,
   "metadata": {},
   "outputs": [],
   "source": [
    "from folium import FeatureGroup \n",
    "\n",
    "loc = 'EAE Business School'\n",
    "subj = 'Data Visualization'\n",
    "name = 'Miguel Sempere'\n",
    "\n",
    "title_html = '''\n",
    "             <h3 align=\"center\" style=\"font-size:16px\"><b>{}</b></h3>\n",
    "             '''.format(loc)\n",
    "\n",
    "title_html_2 = '''\n",
    "               <h2 align=\"right\" style=\"font-size:14px\"><b>{}</b></h2>\n",
    "               '''.format(subj)   \n",
    "\n",
    "title_html_3 = '''\n",
    "               <h1 align=\"left\" style=\"font-size:12px\"><b>{}</b></h1>\n",
    "               '''.format(name)   \n",
    "\n",
    "m = folium.Map(location=[40.448351050331894, -3.677494096911744],\n",
    "               zoom_start=18)\n",
    "\n",
    "m.get_root().html.add_child(folium.Element(title_html))\n",
    "m.get_root().html.add_child(folium.Element(title_html_2))\n",
    "m.get_root().html.add_child(folium.Element(title_html_3))\n",
    "\n",
    "feature_group = FeatureGroup(name='Layer1')\n",
    "feature_group2 = FeatureGroup(name='Layer2')\n",
    "\n",
    "folium.Marker(location=[40.448351050331894, -3.677494096911744]).add_to(feature_group)\n",
    "folium.Marker(location=[40.4523667, -3.6907254]).add_to(feature_group2)\n",
    "\n",
    "m.add_child(feature_group)\n",
    "m.add_child(feature_group2)\n",
    "\n",
    "m.save('mapa2.html')"
   ]
  }
 ],
 "metadata": {
  "kernelspec": {
   "display_name": "Python 3",
   "language": "python",
   "name": "python3"
  },
  "language_info": {
   "codemirror_mode": {
    "name": "ipython",
    "version": 3
   },
   "file_extension": ".py",
   "mimetype": "text/x-python",
   "name": "python",
   "nbconvert_exporter": "python",
   "pygments_lexer": "ipython3",
   "version": "3.9.1"
  },
  "latex_envs": {
   "LaTeX_envs_menu_present": true,
   "autoclose": false,
   "autocomplete": true,
   "bibliofile": "biblio.bib",
   "cite_by": "apalike",
   "current_citInitial": 1,
   "eqLabelWithNumbers": true,
   "eqNumInitial": 1,
   "hotkeys": {
    "equation": "Ctrl-E",
    "itemize": "Ctrl-I"
   },
   "labels_anchors": false,
   "latex_user_defs": false,
   "report_style_numbering": false,
   "user_envs_cfg": false
  },
  "toc": {
   "base_numbering": 1,
   "nav_menu": {},
   "number_sections": true,
   "sideBar": true,
   "skip_h1_title": false,
   "title_cell": "Table of Contents",
   "title_sidebar": "Contents",
   "toc_cell": false,
   "toc_position": {},
   "toc_section_display": true,
   "toc_window_display": false
  }
 },
 "nbformat": 4,
 "nbformat_minor": 2
}
