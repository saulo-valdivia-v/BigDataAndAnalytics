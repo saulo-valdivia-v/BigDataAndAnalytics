{
 "cells": [
  {
   "cell_type": "code",
   "execution_count": 6,
   "metadata": {},
   "outputs": [],
   "source": [
    "import pandas as pd"
   ]
  },
  {
   "cell_type": "code",
   "execution_count": 2,
   "metadata": {},
   "outputs": [
    {
     "data": {
      "text/plain": [
       "'1.0.1'"
      ]
     },
     "execution_count": 2,
     "metadata": {},
     "output_type": "execute_result"
    }
   ],
   "source": [
    "pd.__version__"
   ]
  },
  {
   "cell_type": "code",
   "execution_count": 11,
   "metadata": {
    "scrolled": true
   },
   "outputs": [
    {
     "name": "stdout",
     "output_type": "stream",
     "text": [
      "0    4\n",
      "1    7\n",
      "2   -5\n",
      "3    3\n",
      "dtype: int64\n",
      "d    4\n",
      "b    7\n",
      "a   -5\n",
      "c    3\n",
      "dtype: int64\n",
      "1    4\n",
      "2    7\n",
      "3   -5\n",
      "4    3\n",
      "dtype: int64\n",
      "4\n",
      "1    4\n",
      "2    7\n",
      "3   -5\n",
      "dtype: int64\n"
     ]
    }
   ],
   "source": [
    "# Series\n",
    "obj = pd.Series([4,7,-5,3])\n",
    "print(obj)\n",
    "\n",
    "obj2 = pd.Series([4,7,-5,3], index=['d', 'b', 'a', 'c'])\n",
    "print(obj2)\n",
    "\n",
    "obj2 = pd.Series([4,7,-5,3], index=[1, 2, 3, 4])\n",
    "print(obj2)\n",
    "\n",
    "print(obj2[1])\n",
    "\n",
    "# acceso a varios datos de manera simultanea\n",
    "print(obj2[[1, 2, 3]])"
   ]
  },
  {
   "cell_type": "code",
   "execution_count": 18,
   "metadata": {},
   "outputs": [
    {
     "name": "stdout",
     "output_type": "stream",
     "text": [
      "1    4\n",
      "2    7\n",
      "4    3\n",
      "dtype: int64\n",
      "1     8\n",
      "2    14\n",
      "3   -10\n",
      "4     6\n",
      "dtype: int64\n",
      "1    16\n",
      "2    49\n",
      "3    25\n",
      "4     9\n",
      "dtype: int64\n",
      "1    16\n",
      "2    49\n",
      "3    25\n",
      "4     9\n",
      "dtype: int64\n",
      "1    16\n",
      "2    49\n",
      "3    25\n",
      "4     9\n",
      "dtype: int64\n"
     ]
    }
   ],
   "source": [
    "#Filtrado de datos\n",
    "\n",
    "print(obj2[obj2 > 2])\n",
    "\n",
    "#Operaciones con Series\n",
    "print(obj2 * 2)\n",
    "\n",
    "# Exponente al cuadrado\n",
    "print(obj2.pow(2))\n",
    "\n",
    "# Relleno de valores inexistentes NaN con ceros\n",
    "print(obj2.pow(2, fill_value=0))\n",
    "\n",
    "print(obj2.pow(2, axis=0))"
   ]
  },
  {
   "cell_type": "code",
   "execution_count": 28,
   "metadata": {},
   "outputs": [
    {
     "name": "stdout",
     "output_type": "stream",
     "text": [
      "False\n",
      "True\n",
      "{'Ohio': 35000, 'Texas': 71000, 'Oregon': 16000, 'Utah': 5000}\n",
      "Ohio      35000\n",
      "Texas     71000\n",
      "Oregon    16000\n",
      "Utah       5000\n",
      "dtype: int64\n",
      "Utah       5000\n",
      "Ohio      35000\n",
      "Oregon    16000\n",
      "Texas     71000\n",
      "dtype: int64\n",
      "Utah           5000.0\n",
      "Ohio          35000.0\n",
      "Oregon        16000.0\n",
      "California        NaN\n",
      "dtype: float64\n"
     ]
    }
   ],
   "source": [
    "#COmprobar indices\n",
    "print('b' in obj2)\n",
    "\n",
    "print(2 in obj2)\n",
    "\n",
    "# Creacion de series a partir de diccionario\n",
    "sdata = {'Ohio': 35000, 'Texas': 71000, 'Oregon': 16000, 'Utah': 5000}\n",
    "print(sdata)\n",
    "\n",
    "obj3 = pd.Series(sdata)\n",
    "print(obj3)\n",
    "\n",
    "## Creando serie usando un orden propio de indices\n",
    "states = ['Utah', 'Ohio', 'Oregon', 'Texas']\n",
    "obj4 = pd.Series(sdata, index=states)\n",
    "print(obj4)\n",
    "\n",
    "states_A = ['Utah', 'Ohio', 'Oregon', 'California']\n",
    "obj4_A = pd.Series(sdata, index=states_A)\n",
    "print(obj4_A)"
   ]
  },
  {
   "cell_type": "code",
   "execution_count": 32,
   "metadata": {},
   "outputs": [
    {
     "name": "stdout",
     "output_type": "stream",
     "text": [
      "Utah      False\n",
      "Ohio      False\n",
      "Oregon    False\n",
      "Texas     False\n",
      "dtype: bool\n",
      "Utah          False\n",
      "Ohio          False\n",
      "Oregon        False\n",
      "California     True\n",
      "dtype: bool\n",
      "Utah      True\n",
      "Ohio      True\n",
      "Oregon    True\n",
      "Texas     True\n",
      "dtype: bool\n"
     ]
    }
   ],
   "source": [
    "# Revisar si contienen nulls\n",
    "print(pd.isnull(obj4))\n",
    "\n",
    "print(pd.isnull(obj4_A))\n",
    "\n",
    "print(pd.notnull(obj4))"
   ]
  },
  {
   "cell_type": "code",
   "execution_count": 36,
   "metadata": {},
   "outputs": [
    {
     "name": "stdout",
     "output_type": "stream",
     "text": [
      "Ohio       70000\n",
      "Oregon     32000\n",
      "Texas     142000\n",
      "Utah       10000\n",
      "dtype: int64\n",
      "California        NaN\n",
      "Ohio          70000.0\n",
      "Oregon        32000.0\n",
      "Texas             NaN\n",
      "Utah          10000.0\n",
      "dtype: float64\n",
      "state\n",
      "Utah       5000\n",
      "Ohio      35000\n",
      "Oregon    16000\n",
      "Texas     71000\n",
      "Name: population, dtype: int64\n"
     ]
    }
   ],
   "source": [
    "# suma de Seies\n",
    "print(obj3 + obj4)\n",
    "print(obj4 + obj4_A)\n",
    "\n",
    "# Asignar nombre a la serie y su indice\n",
    "obj4.name = 'population'\n",
    "obj4.index.name = 'state'\n",
    "print(obj4)"
   ]
  },
  {
   "cell_type": "code",
   "execution_count": 38,
   "metadata": {},
   "outputs": [
    {
     "name": "stdout",
     "output_type": "stream",
     "text": [
      "0    4\n",
      "1    7\n",
      "2   -5\n",
      "3    3\n",
      "dtype: int64\n",
      "Bob      4\n",
      "Steve    7\n",
      "Jeff    -5\n",
      "Ryan     3\n",
      "dtype: int64\n"
     ]
    }
   ],
   "source": [
    "# Modificar indice\n",
    "print(obj)\n",
    "\n",
    "obj.index = ['Bob', 'Steve', 'Jeff', 'Ryan']\n",
    "print(obj)"
   ]
  },
  {
   "cell_type": "code",
   "execution_count": 7,
   "metadata": {},
   "outputs": [
    {
     "name": "stdout",
     "output_type": "stream",
     "text": [
      "    state  year  pop\n",
      "0    Ohio  2000  1.5\n",
      "1    Ohio  2001  1.7\n",
      "2    Ohio  2002  3.6\n",
      "3  Nevada  2001  2.4\n",
      "4  Nevada  2002  2.9\n",
      "5  Nevada  2003  3.2\n",
      "  state  year  pop\n",
      "0  Ohio  2000  1.5\n",
      "1  Ohio  2001  1.7\n",
      "    state  year  pop\n",
      "4  Nevada  2002  2.9\n",
      "5  Nevada  2003  3.2\n"
     ]
    }
   ],
   "source": [
    "# DATAFRAMES\n",
    "# Array bidimensional, es como una hoja de excel\n",
    "\n",
    "data = {'state': ['Ohio', 'Ohio', 'Ohio', 'Nevada','Nevada','Nevada'],\n",
    "       'year': [2000, 2001, 2002, 2001, 2002, 2003],\n",
    "       'pop': [1.5, 1.7, 3.6, 2.4, 2.9, 3.2]}\n",
    "\n",
    "frame = pd.DataFrame(data)\n",
    "print(frame)\n",
    "\n",
    "print(frame.head(2))\n",
    "\n",
    "print(frame.tail(2))"
   ]
  },
  {
   "cell_type": "code",
   "execution_count": null,
   "metadata": {},
   "outputs": [],
   "source": []
  },
  {
   "cell_type": "code",
   "execution_count": 8,
   "metadata": {},
   "outputs": [
    {
     "name": "stdout",
     "output_type": "stream",
     "text": [
      "    state  year  pop\n",
      "0    Ohio  2000  1.5\n",
      "1    Ohio  2001  1.7\n",
      "2    Ohio  2002  3.6\n",
      "3  Nevada  2001  2.4\n",
      "4  Nevada  2002  2.9\n",
      "    state  year\n",
      "0    Ohio  2000\n",
      "1    Ohio  2001\n",
      "2    Ohio  2002\n",
      "3  Nevada  2001\n",
      "4  Nevada  2002\n",
      "5  Nevada  2003\n",
      "    state year1\n",
      "0    Ohio   NaN\n",
      "1    Ohio   NaN\n",
      "2    Ohio   NaN\n",
      "3  Nevada   NaN\n",
      "4  Nevada   NaN\n",
      "5  Nevada   NaN\n"
     ]
    }
   ],
   "source": [
    "print(frame.head())\n",
    "\n",
    "# Usar el constructor para customizar el dataframe que vamos a construir\n",
    "print(pd.DataFrame(data, columns = ['state', 'year']))\n",
    "\n",
    "print(pd.DataFrame(data, columns = ['state', 'year1']))"
   ]
  },
  {
   "cell_type": "code",
   "execution_count": 9,
   "metadata": {},
   "outputs": [
    {
     "name": "stdout",
     "output_type": "stream",
     "text": [
      "       year   state  pop\n",
      "one    2000    Ohio  1.5\n",
      "two    2001    Ohio  1.7\n",
      "three  2002    Ohio  3.6\n",
      "four   2001  Nevada  2.4\n",
      "five   2002  Nevada  2.9\n",
      "six    2003  Nevada  3.2\n",
      "one        Ohio\n",
      "two        Ohio\n",
      "three      Ohio\n",
      "four     Nevada\n",
      "five     Nevada\n",
      "six      Nevada\n",
      "Name: state, dtype: object\n",
      "one        Ohio\n",
      "two        Ohio\n",
      "three      Ohio\n",
      "four     Nevada\n",
      "five     Nevada\n",
      "six      Nevada\n",
      "Name: state, dtype: object\n"
     ]
    }
   ],
   "source": [
    "# Recuperar columns especificas\n",
    "frame2 = pd.DataFrame(data, columns=['year', 'state', 'pop'], index=['one', 'two', 'three', 'four', 'five', 'six'])\n",
    "print(frame2)\n",
    "\n",
    "# Recuperar datos en formatio de serie\n",
    "print(frame2['state'])\n",
    "\n",
    "# Recuperar en formato diccionario\n",
    "print(frame2.state)"
   ]
  },
  {
   "cell_type": "code",
   "execution_count": 10,
   "metadata": {},
   "outputs": [
    {
     "name": "stdout",
     "output_type": "stream",
     "text": [
      "    state  1year  pop\n",
      "0    Ohio   2000  1.5\n",
      "1    Ohio   2001  1.7\n",
      "2    Ohio   2002  3.6\n",
      "3  Nevada   2001  2.4\n",
      "4  Nevada   2002  2.9\n",
      "5  Nevada   2003  3.2\n",
      "0    2000\n",
      "1    2001\n",
      "2    2002\n",
      "3    2001\n",
      "4    2002\n",
      "5    2003\n",
      "Name: 1year, dtype: int64\n"
     ]
    }
   ],
   "source": [
    "data2 = {'state': ['Ohio', 'Ohio', 'Ohio', 'Nevada','Nevada','Nevada'],\n",
    "       '1year': [2000, 2001, 2002, 2001, 2002, 2003],\n",
    "       'pop': [1.5, 1.7, 3.6, 2.4, 2.9, 3.2]}\n",
    "\n",
    "frameB = pd.DataFrame(data2)\n",
    "print(frameB)\n",
    "\n",
    "print(frameB['1year'])\n",
    "\n",
    "# Error nombre de columna invalido\n",
    "#print(frameB.1year)"
   ]
  },
  {
   "cell_type": "code",
   "execution_count": 11,
   "metadata": {},
   "outputs": [
    {
     "name": "stdout",
     "output_type": "stream",
     "text": [
      "year     2002\n",
      "state    Ohio\n",
      "pop       3.6\n",
      "Name: three, dtype: object\n",
      "       year   state  pop  debt\n",
      "one    2000    Ohio  1.5  16.5\n",
      "two    2001    Ohio  1.7  16.5\n",
      "three  2002    Ohio  3.6  16.5\n",
      "four   2001  Nevada  2.4  16.5\n",
      "five   2002  Nevada  2.9  16.5\n",
      "six    2003  Nevada  3.2  16.5\n"
     ]
    }
   ],
   "source": [
    "print(frame2.loc['three'])\n",
    "frame2['debt'] = 16.5\n",
    "\n",
    "print(frame2)"
   ]
  },
  {
   "cell_type": "code",
   "execution_count": 12,
   "metadata": {},
   "outputs": [
    {
     "name": "stdout",
     "output_type": "stream",
     "text": [
      "       year   state  pop  debt\n",
      "one    2000    Ohio  1.5   NaN\n",
      "two    2001    Ohio  1.7  -1.2\n",
      "three  2002    Ohio  3.6   NaN\n",
      "four   2001  Nevada  2.4  -1.5\n",
      "five   2002  Nevada  2.9  -1.7\n",
      "six    2003  Nevada  3.2   NaN\n",
      "       year   state  pop  debt eastern\n",
      "one    2000    Ohio  1.5   NaN    Ohio\n",
      "two    2001    Ohio  1.7  -1.2    Ohio\n",
      "three  2002    Ohio  3.6   NaN    Ohio\n",
      "four   2001  Nevada  2.4  -1.5    Ohio\n",
      "five   2002  Nevada  2.9  -1.7    Ohio\n",
      "six    2003  Nevada  3.2   NaN    Ohio\n",
      "       year   state  pop  debt eastern     western\n",
      "one    2000    Ohio  1.5   NaN    Ohio  California\n",
      "two    2001    Ohio  1.7  -1.2    Ohio  California\n",
      "three  2002    Ohio  3.6   NaN    Ohio  California\n",
      "four   2001  Nevada  2.4  -1.5    Ohio  California\n",
      "five   2002  Nevada  2.9  -1.7    Ohio  California\n",
      "six    2003  Nevada  3.2   NaN    Ohio  California\n",
      "       year   state  pop  debt     western\n",
      "one    2000    Ohio  1.5   NaN  California\n",
      "two    2001    Ohio  1.7  -1.2  California\n",
      "three  2002    Ohio  3.6   NaN  California\n",
      "four   2001  Nevada  2.4  -1.5  California\n",
      "five   2002  Nevada  2.9  -1.7  California\n",
      "six    2003  Nevada  3.2   NaN  California\n",
      "       year   state  pop  debt\n",
      "one    2000    Ohio  1.5   NaN\n",
      "two    2001    Ohio  1.7  -1.2\n",
      "three  2002    Ohio  3.6   NaN\n",
      "four   2001  Nevada  2.4  -1.5\n",
      "five   2002  Nevada  2.9  -1.7\n",
      "six    2003  Nevada  3.2   NaN\n"
     ]
    }
   ],
   "source": [
    "# Cambiar una serie de un dataframe\n",
    "val = pd.Series([-1.2, -1.5, -1.7], index=['two', 'four', 'five'])\n",
    "frame2['debt'] = val\n",
    "print(frame2)\n",
    "\n",
    "frame2['eastern'] = 'Ohio'\n",
    "print(frame2)\n",
    "\n",
    "frame2['western'] = 'California'\n",
    "print(frame2)\n",
    "\n",
    "# borrar\n",
    "del frame2['eastern']\n",
    "print(frame2)\n",
    "\n",
    "del frame2['western']\n",
    "print(frame2)"
   ]
  },
  {
   "cell_type": "code",
   "execution_count": 13,
   "metadata": {},
   "outputs": [
    {
     "name": "stdout",
     "output_type": "stream",
     "text": [
      "       year   state  pop  debt\n",
      "one    2000    Ohio  1.5   NaN\n",
      "two    2001    Ohio  1.7  -1.2\n",
      "three  2002    Ohio  3.6   NaN\n",
      "four   2001  Nevada  2.4  -1.5\n",
      "five   2002  Nevada  2.9  -1.7\n",
      "six    2003  Nevada  3.2   NaN\n",
      "{'Nevada': {2001: 2.4, 2002: 2.9}, 'Ohio': {2000: 1.5, 2001: 1.7, 2002: 3.6}}\n",
      "      Nevada  Ohio\n",
      "2001     2.4   1.7\n",
      "2002     2.9   3.6\n",
      "2000     NaN   1.5\n"
     ]
    }
   ],
   "source": [
    "# Copiar dataframes\n",
    "fcopy = frame2.copy()\n",
    "print(fcopy)\n",
    "\n",
    "# Crear dataframe a partir de un diccionario de diccionarios\n",
    "pop1 = {'Nevada': {2001: 2.4, 2002: 2.9},\n",
    "       'Ohio': {2000: 1.5, 2001: 1.7, 2002: 3.6}}\n",
    "\n",
    "print(pop1)\n",
    "\n",
    "frame3 = pd.DataFrame(pop1)\n",
    "print(frame3)"
   ]
  },
  {
   "cell_type": "code",
   "execution_count": 14,
   "metadata": {},
   "outputs": [
    {
     "name": "stdout",
     "output_type": "stream",
     "text": [
      "        2001  2002  2000\n",
      "Nevada   2.4   2.9   NaN\n",
      "Ohio     1.7   3.6   1.5\n",
      "      Nevada  Ohio\n",
      "2001     2.4   1.7\n",
      "2002     2.9   3.6\n",
      "2000     NaN   1.5\n",
      "      Nevada  Ohio\n",
      "year              \n",
      "2001     2.4   1.7\n",
      "2002     2.9   3.6\n",
      "2000     NaN   1.5\n",
      "state  Nevada  Ohio\n",
      "year               \n",
      "2001      2.4   1.7\n",
      "2002      2.9   3.6\n",
      "2000      NaN   1.5\n",
      "[[2.4 1.7]\n",
      " [2.9 3.6]\n",
      " [nan 1.5]]\n",
      "[[2000 'Ohio' 1.5 nan]\n",
      " [2001 'Ohio' 1.7 -1.2]\n",
      " [2002 'Ohio' 3.6 nan]\n",
      " [2001 'Nevada' 2.4 -1.5]\n",
      " [2002 'Nevada' 2.9 -1.7]\n",
      " [2003 'Nevada' 3.2 nan]]\n"
     ]
    }
   ],
   "source": [
    "# Transposicion\n",
    "print(frame3.T)\n",
    "\n",
    "print(frame3.T.T)\n",
    "\n",
    "# Nombres del indice y columnas del dataframe\n",
    "frame3.index.name = 'year'\n",
    "print(frame3)\n",
    "\n",
    "frame3.columns.name = 'state'\n",
    "print(frame3)\n",
    "\n",
    "# mostrar en formato array o matricial\n",
    "print(frame3.values)\n",
    "\n",
    "print(frame2.values)"
   ]
  },
  {
   "cell_type": "code",
   "execution_count": 28,
   "metadata": {},
   "outputs": [
    {
     "name": "stdout",
     "output_type": "stream",
     "text": [
      "d    4.5\n",
      "b    7.2\n",
      "a   -5.3\n",
      "c    3.6\n",
      "dtype: float64\n",
      "a   -5.3\n",
      "b    7.2\n",
      "c    3.6\n",
      "d    4.5\n",
      "e    NaN\n",
      "dtype: float64\n",
      "0      blue\n",
      "2    purple\n",
      "4    yellow\n",
      "dtype: object\n",
      "   Ohio  Texas  California\n",
      "a   4.5    7.2        -5.3\n",
      "b   5.5    8.2        -6.3\n",
      "c   6.5    9.2        -7.3\n",
      "   Texas  Utah  California\n",
      "a    7.2   NaN        -5.3\n",
      "b    8.2   NaN        -6.3\n",
      "c    9.2   NaN        -7.3\n"
     ]
    }
   ],
   "source": [
    "# Reindexado\n",
    "\n",
    "obj = pd.Series([4.5, 7.2, -5.3, 3.6], index=['d', 'b', 'a', 'c'])\n",
    "\n",
    "print(obj)\n",
    "\n",
    "\n",
    "obj2 = obj.reindex(['a', 'b', 'c', 'd', 'e'])\n",
    "print(obj2)\n",
    "\n",
    "obj3 = pd.Series(['blue', 'purple', 'yellow'], index=[0, 2, 4])\n",
    "print(obj3)\n",
    "\n",
    "#Reindexacion de columnas\n",
    "data = [[4.5, 7.2, -5.3], [5.5, 8.2, -6.3], [6.5, 9.2, -7.3]]\n",
    "frame = pd.DataFrame(data, index=['a', 'b', 'c'], columns=['Ohio', 'Texas', 'California'])\n",
    "\n",
    "print(frame)\n",
    "\n",
    "states = ['Texas', 'Utah', 'California']\n",
    "\n",
    "print(frame.reindex(columns=states))"
   ]
  },
  {
   "cell_type": "code",
   "execution_count": 29,
   "metadata": {},
   "outputs": [
    {
     "ename": "AttributeError",
     "evalue": "'list' object has no attribute 'loc'",
     "output_type": "error",
     "traceback": [
      "\u001b[1;31m---------------------------------------------------------------------------\u001b[0m",
      "\u001b[1;31mAttributeError\u001b[0m                            Traceback (most recent call last)",
      "\u001b[1;32m<ipython-input-29-a278a33da03b>\u001b[0m in \u001b[0;36m<module>\u001b[1;34m\u001b[0m\n\u001b[1;32m----> 1\u001b[1;33m \u001b[0mdata\u001b[0m\u001b[1;33m.\u001b[0m\u001b[0mloc\u001b[0m\u001b[1;33m[\u001b[0m\u001b[1;34m'Colorado'\u001b[0m\u001b[1;33m,\u001b[0m \u001b[1;33m[\u001b[0m\u001b[1;34m'two'\u001b[0m\u001b[1;33m,\u001b[0m \u001b[1;34m'trhee'\u001b[0m\u001b[1;33m]\u001b[0m\u001b[1;33m]\u001b[0m\u001b[1;33m\u001b[0m\u001b[1;33m\u001b[0m\u001b[0m\n\u001b[0m",
      "\u001b[1;31mAttributeError\u001b[0m: 'list' object has no attribute 'loc'"
     ]
    }
   ],
   "source": []
  }
 ],
 "metadata": {
  "kernelspec": {
   "display_name": "Python 3",
   "language": "python",
   "name": "python3"
  },
  "language_info": {
   "codemirror_mode": {
    "name": "ipython",
    "version": 3
   },
   "file_extension": ".py",
   "mimetype": "text/x-python",
   "name": "python",
   "nbconvert_exporter": "python",
   "pygments_lexer": "ipython3",
   "version": "3.7.6"
  }
 },
 "nbformat": 4,
 "nbformat_minor": 4
}
