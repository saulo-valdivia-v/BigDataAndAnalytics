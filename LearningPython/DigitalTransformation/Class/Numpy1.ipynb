{
 "cells": [
  {
   "cell_type": "code",
   "execution_count": 1,
   "metadata": {},
   "outputs": [],
   "source": [
    "import numpy as np"
   ]
  },
  {
   "cell_type": "code",
   "execution_count": 2,
   "metadata": {},
   "outputs": [
    {
     "name": "stdout",
     "output_type": "stream",
     "text": [
      "[[1 2 3]\n",
      " [4 5 6]]\n",
      "range(0, 3)\n",
      "[[ 1  2  9]\n",
      " [ 1  5 36]]\n"
     ]
    }
   ],
   "source": [
    "## Potencia operador ** o power\n",
    "data = np.array([[1, 2, 3], [4, 5, 6]])\n",
    "\n",
    "data2 = range(3)\n",
    "\n",
    "print(data)\n",
    "print(data2)\n",
    "\n",
    "# Opciones de array con dimensiones compatibles\n",
    "print(np.power(data, data2))"
   ]
  },
  {
   "cell_type": "code",
   "execution_count": 3,
   "metadata": {},
   "outputs": [
    {
     "name": "stdout",
     "output_type": "stream",
     "text": [
      "[[-1.17716415 -0.84984265]\n",
      " [ 0.28851169  1.03829199]\n",
      " [-1.89819129 -0.38698098]]\n",
      "[[ 1  4  9]\n",
      " [16 25 36]]\n",
      "[[-4.57653477 -6.60354157 -8.63054838]\n",
      " [ 4.44167964  5.76848331  7.09528699]\n",
      " [-3.4461152  -5.73128746 -8.01645973]]\n"
     ]
    }
   ],
   "source": [
    "data_A = np.random.randn(3,2)\n",
    "print(data_A)\n",
    "\n",
    "# Multiplicacion de Arrays\n",
    "print(data * data)\n",
    "\n",
    "#print(data * data_A) error\n",
    "\n",
    "# Multiplicar el array(*) no es lo mismo que la multiplicacion de matrices(dot)\n",
    "print(data_A.dot(data))"
   ]
  },
  {
   "cell_type": "code",
   "execution_count": 4,
   "metadata": {},
   "outputs": [
    {
     "name": "stdout",
     "output_type": "stream",
     "text": [
      "[False  True False  True]\n",
      "[False False  True False]\n",
      "False\n",
      "True\n"
     ]
    }
   ],
   "source": [
    "# Operaciones binarias con arrays\n",
    "a = np.array([1,2,3,4])\n",
    "b = np.array([4,2,2,4])\n",
    "\n",
    "print(a == b)\n",
    "print(a > b)\n",
    "\n",
    "c = np.array([1,2,3,4])\n",
    "print(np.array_equal(a, b))\n",
    "print(np.array_equal(a, c))"
   ]
  },
  {
   "cell_type": "code",
   "execution_count": 5,
   "metadata": {},
   "outputs": [
    {
     "name": "stdout",
     "output_type": "stream",
     "text": [
      "[ True  True  True False]\n",
      "[ True False False False]\n"
     ]
    }
   ],
   "source": [
    "#Operaciones Logicas\n",
    "a = np.array([1,1,0,0], dtype=bool)\n",
    "b = np.array([1,0,1,0], dtype=bool)\n",
    "\n",
    "print(np.logical_or(a,b))\n",
    "print(np.logical_and(a,b))"
   ]
  },
  {
   "cell_type": "code",
   "execution_count": 6,
   "metadata": {},
   "outputs": [
    {
     "name": "stdout",
     "output_type": "stream",
     "text": [
      "[[1 2 3]\n",
      " [4 5 6]]\n",
      "[[1 4]\n",
      " [2 5]\n",
      " [3 6]]\n",
      "[[0 1 2]\n",
      " [3 4 5]\n",
      " [6 7 8]]\n",
      "[[  0   1   2]\n",
      " [  3   4   5]\n",
      " [999   7   8]]\n",
      "[[  0   3 999]\n",
      " [  1   4   7]\n",
      " [  2   5   8]]\n",
      "[[  0   1   2]\n",
      " [  3   4   5]\n",
      " [999   7   8]]\n"
     ]
    }
   ],
   "source": [
    "# Transposicion de Arrays\n",
    "print(data)\n",
    "print(data.T)\n",
    "\n",
    "a = np.arange(9).reshape(3,3)\n",
    "print(a)\n",
    "\n",
    "a.T[0,2] = 999\n",
    "print(a)\n",
    "\n",
    "print(a.T)\n",
    "\n",
    "print(a)"
   ]
  },
  {
   "cell_type": "code",
   "execution_count": 7,
   "metadata": {},
   "outputs": [
    {
     "name": "stdout",
     "output_type": "stream",
     "text": [
      "[[ 1  2  3]\n",
      " [ 4  5  6]\n",
      " [ 0  8  9]\n",
      " [ 0  0 12]]\n",
      "[[ 0  0  0]\n",
      " [ 4  0  0]\n",
      " [ 7  8  0]\n",
      " [10 11 12]]\n"
     ]
    }
   ],
   "source": [
    "# Triangular superior\n",
    "print(np.triu([[1,2,3],[4,5,6],[7,8,9], [10,11,12]], -1))\n",
    "\n",
    "print(np.tril([[1,2,3],[4,5,6],[7,8,9], [10,11,12]], -1))"
   ]
  },
  {
   "cell_type": "code",
   "execution_count": 8,
   "metadata": {},
   "outputs": [
    {
     "name": "stdout",
     "output_type": "stream",
     "text": [
      "(2, 3)\n",
      "int32\n",
      "[6, 7.5, 8, 0, 1]\n",
      "[6.  7.5 8.  0.  1. ]\n"
     ]
    }
   ],
   "source": [
    "# Visualizacion de estructura y tipo de datos de un objeto\n",
    "print(data.shape)\n",
    "\n",
    "print(data.dtype)\n",
    "\n",
    "# Arrays a partir de objetos\n",
    "data1 = [6, 7.5, 8, 0, 1] # Lista\n",
    "print(data1)\n",
    "arr1 = np.array(data1)\n",
    "print(arr1)"
   ]
  },
  {
   "cell_type": "code",
   "execution_count": 9,
   "metadata": {},
   "outputs": [
    {
     "name": "stdout",
     "output_type": "stream",
     "text": [
      "[[1, 2, 3, 4], [5, 6, 7, 8]]\n",
      "[[1 2 3 4]\n",
      " [5 6 7 8]]\n",
      "[[1, 2, 3, 4], [5, 6, 7]]\n",
      "[list([1, 2, 3, 4]) list([5, 6, 7])]\n"
     ]
    }
   ],
   "source": [
    "# Listas de Listas\n",
    "data2 = [[1,2,3,4], [5,6,7,8]]\n",
    "print(data2)\n",
    "arr2 = np.array(data2)\n",
    "print(arr2)\n",
    "\n",
    "data2_A = [[1,2,3,4], [5,6,7]]\n",
    "print(data2_A)\n",
    "arr2A = np.array(data2_A)\n",
    "print(arr2A)"
   ]
  },
  {
   "cell_type": "code",
   "execution_count": 10,
   "metadata": {},
   "outputs": [
    {
     "name": "stdout",
     "output_type": "stream",
     "text": [
      "[0. 0. 0. 0. 0. 0. 0. 0. 0. 0.]\n",
      "[[0. 0. 0. 0. 0. 0.]\n",
      " [0. 0. 0. 0. 0. 0.]\n",
      " [0. 0. 0. 0. 0. 0.]]\n",
      "[[1. 1. 1. 1. 1. 1.]\n",
      " [1. 1. 1. 1. 1. 1.]\n",
      " [1. 1. 1. 1. 1. 1.]]\n",
      "[[[9.83453330e-312 2.47032823e-322]\n",
      "  [0.00000000e+000 0.00000000e+000]\n",
      "  [0.00000000e+000 1.61590357e+184]]\n",
      "\n",
      " [[4.97407142e-091 1.10587272e+165]\n",
      "  [2.32597275e-057 4.66442089e-062]\n",
      "  [3.99910963e+252 1.46030983e-319]]]\n",
      "[ 0  1  2  3  4  5  6  7  8  9 10 11 12 13 14]\n"
     ]
    }
   ],
   "source": [
    "# Inicializar con ceros\n",
    "print(np.zeros(10))\n",
    "print(np.zeros((3,6)))\n",
    "\n",
    "print(np.ones((3,6)))\n",
    "\n",
    "# Creacion de un array con ceros o basura numerica\n",
    "print(np.empty((2,3,2)))\n",
    "\n",
    "print(np.arange(15))"
   ]
  },
  {
   "cell_type": "code",
   "execution_count": 11,
   "metadata": {},
   "outputs": [
    {
     "name": "stdout",
     "output_type": "stream",
     "text": [
      "[1. 2. 3.]\n",
      "[1 2 3]\n",
      "float64\n",
      "int32\n",
      "[1.+0.j 2.+0.j 3.+0.j]\n",
      "complex128\n"
     ]
    }
   ],
   "source": [
    "# Crear arrays de un tipo de dato especifico\n",
    "arr1 = np.array([1,2,3], dtype=np.float64)\n",
    "arr2 = np.array([1,2,3], dtype=np.int32)\n",
    "\n",
    "print(arr1)\n",
    "print(arr2)\n",
    "\n",
    "print(arr1.dtype)\n",
    "print(arr2.dtype)\n",
    "\n",
    "arr2_ABC = np.array([1,2,3], dtype=np.complex128)\n",
    "print(arr2_ABC)\n",
    "\n",
    "print(arr2_ABC.dtype)"
   ]
  },
  {
   "cell_type": "code",
   "execution_count": 12,
   "metadata": {},
   "outputs": [
    {
     "name": "stdout",
     "output_type": "stream",
     "text": [
      "int32\n",
      "[1. 2. 3. 4. 5.]\n",
      "[b'1.0' b'2.0' b'3.0' b'4.0' b'5.0']\n"
     ]
    }
   ],
   "source": [
    "# Convertir a tipo de datos\n",
    "arr = np.array([1,2,3,4,5])\n",
    "print(arr.dtype)\n",
    "\n",
    "float_arr = arr.astype(np.float64)\n",
    "print(float_arr)\n",
    "\n",
    "char  = float_arr.astype(np.string_)\n",
    "print(char)"
   ]
  },
  {
   "cell_type": "code",
   "execution_count": 13,
   "metadata": {},
   "outputs": [
    {
     "name": "stdout",
     "output_type": "stream",
     "text": [
      "[b'1' b'2' b'3' b'4' b'5']\n",
      "|S11\n",
      "[ 3.7 -1.2 -2.6  0.5 12.9 10.1]\n",
      "[ 3 -1 -2  0 12 10]\n"
     ]
    }
   ],
   "source": [
    "arr_A = np.array([1,2,3,4,5])\n",
    "\n",
    "string_arr_A = arr_A.astype(np.string_)\n",
    "print(string_arr_A)\n",
    "print(string_arr_A.dtype)\n",
    "\n",
    "arr = np.array([3.7, -1.2, -2.6, 0.5, 12.9, 10.1])\n",
    "print(arr)\n",
    "print(arr.astype(np.int32))"
   ]
  },
  {
   "cell_type": "code",
   "execution_count": 14,
   "metadata": {},
   "outputs": [
    {
     "name": "stdout",
     "output_type": "stream",
     "text": [
      "[b'1.25' b'-9.6' b'42']\n",
      "[ 1.25 -9.6  42.  ]\n",
      "[  2.5 -19.2  84. ]\n"
     ]
    }
   ],
   "source": [
    "# importacion desde ficheros o como cadenas de string\n",
    "numeric_strings = np.array(['1.25', '-9.6', '42'], dtype=np.string_)\n",
    "print(numeric_strings)\n",
    "\n",
    "print(numeric_strings.astype(float))\n",
    "\n",
    "numeric_strings_A = np.array(['1.25', '-9.6', '42'], dtype=np.string_)\n",
    "numeric_strings_A = numeric_strings_A.astype(float)\n",
    "array_A = numeric_strings_A * 2\n",
    "print(array_A)"
   ]
  },
  {
   "cell_type": "code",
   "execution_count": 15,
   "metadata": {},
   "outputs": [
    {
     "name": "stdout",
     "output_type": "stream",
     "text": [
      "[  0   1   2   3   4 120  12  12   8   9]\n",
      "120\n",
      "[24 24 24]\n",
      "[24 24 24]\n"
     ]
    }
   ],
   "source": [
    "# Extraer datos\n",
    "arr = np.array([0,1,2,3,4,120,12,12,8,9])\n",
    "print(arr)\n",
    "\n",
    "print(arr[5])\n",
    "\n",
    "arr[5:8] = 12\n",
    "arr[5:8] = arr[5:8] * 2\n",
    "print(arr[5:8])\n",
    "\n",
    "arr_slice = arr[5:8]\n",
    "print(arr_slice)"
   ]
  },
  {
   "cell_type": "code",
   "execution_count": 16,
   "metadata": {},
   "outputs": [
    {
     "name": "stdout",
     "output_type": "stream",
     "text": [
      "[0 1 2 3 4 5 6 7 8 9]\n",
      "[0 1 2 3 4 5 6 7 8 9]\n",
      "[ 0  1  2  3  4 12 12 12  8  9]\n",
      "[0 1 2 3 4 5 6 7 8 9]\n"
     ]
    }
   ],
   "source": [
    "# Copias\n",
    "arr = np.arange(10)\n",
    "print(arr)\n",
    "arr_AB = np.copy(arr)\n",
    "print(arr_AB)\n",
    "arr[5:8] = 12\n",
    "\n",
    "print(arr)\n",
    "print(arr_AB)"
   ]
  },
  {
   "cell_type": "code",
   "execution_count": 17,
   "metadata": {},
   "outputs": [
    {
     "name": "stdout",
     "output_type": "stream",
     "text": [
      "[1 'm' list([2, 3, 4])]\n",
      "[1 'm' list([2, 3, 4])]\n",
      "[1 'm' list([10, 3, 4])]\n"
     ]
    }
   ],
   "source": [
    "# Shallow y Deep copy\n",
    "\n",
    "a = np.array([1, 'm', [2,3,4]], dtype=object)\n",
    "import copy\n",
    "c = copy.deepcopy(a)\n",
    "\n",
    "print(a)\n",
    "print(c)\n",
    "\n",
    "c[2][0] = 10\n",
    "print(c)\n",
    "\n",
    "# Otros metodos (ndarray.copy)"
   ]
  },
  {
   "cell_type": "code",
   "execution_count": 26,
   "metadata": {
    "scrolled": true
   },
   "outputs": [
    {
     "name": "stdout",
     "output_type": "stream",
     "text": [
      "[[1 2 3]\n",
      " [4 5 6]\n",
      " [7 8 9]]\n",
      "[1 2 3]\n",
      "3\n",
      "[[[ 1  2  3]\n",
      "  [ 4  5  6]]\n",
      "\n",
      " [[ 7  8  9]\n",
      "  [10 11 12]]]\n",
      "[[1 2 3]\n",
      " [4 5 6]]\n",
      "[1 2 3]\n",
      "1\n",
      "4\n",
      "[[1 2 3]\n",
      " [4 5 6]\n",
      " [7 8 9]]\n",
      "[[4 5 6]\n",
      " [7 8 9]]\n",
      "[[1 2 3]\n",
      " [4 5 6]]\n",
      "[[2 3]\n",
      " [5 6]]\n",
      "[4 7]\n"
     ]
    }
   ],
   "source": [
    "# Arrays Multidimensionales\n",
    "arr2d = np.array([[1,2,3], [4,5,6], [7,8,9]])\n",
    "print(arr2d)\n",
    "\n",
    "print(arr2d[0])\n",
    "\n",
    "print(arr2d[0][2])\n",
    "\n",
    "arr3d = np.array([[[1,2,3], [4,5,6]], [[7,8,9], [10,11,12]]])\n",
    "\n",
    "print(arr3d)\n",
    "\n",
    "print(arr3d[0])\n",
    "print(arr3d[0][0])\n",
    "print(arr3d[0][0][0])\n",
    "print(arr3d[0,1,0])\n",
    "\n",
    "print(arr2d)\n",
    "print(arr2d[1:3])\n",
    "print(arr2d[:2])\n",
    "print(arr2d[:2,1:])"
   ]
  },
  {
   "cell_type": "code",
   "execution_count": 38,
   "metadata": {},
   "outputs": [
    {
     "name": "stdout",
     "output_type": "stream",
     "text": [
      "[4 0]\n",
      "[1 4 7]\n",
      "[[1 0 0]\n",
      " [4 0 0]\n",
      " [7 0 0]]\n",
      "[[1 0 0]\n",
      " [4 0 0]\n",
      " [7 0 0]]\n"
     ]
    }
   ],
   "source": [
    "print(arr2d[1,0:2])\n",
    "print(arr2d[0:3,0])\n",
    "\n",
    "# colocar a cero las columnas 1 y 2\n",
    "print(arr2d)\n",
    "arr2d[0:3,1:3] = 0\n",
    "print(arr2d)\n",
    "arr2d[:,1:] = 0"
   ]
  },
  {
   "cell_type": "code",
   "execution_count": 48,
   "metadata": {
    "scrolled": true
   },
   "outputs": [
    {
     "name": "stdout",
     "output_type": "stream",
     "text": [
      "[[ 1.04951988 -0.37172305 -0.32986856  1.55294063]\n",
      " [-1.62900752  0.53713367 -0.31999848  0.4784137 ]\n",
      " [ 0.77879952  2.05823226  1.73528109  0.98444733]\n",
      " [ 0.48085448 -0.96498566  0.50450375  0.73833786]\n",
      " [-0.5039244  -0.3458607  -0.13001611 -0.4376352 ]]\n",
      "0.29327222563817756\n",
      "0.29327222563817756\n",
      "[ 0.47521723 -0.23336465  1.38919005  0.18967761 -0.3543591 ]\n",
      "[0.03524839 0.18255931 0.29198034 0.66330087]\n",
      "----\n",
      "[[ 1.04951988 -0.37172305 -0.32986856  1.55294063]\n",
      " [-1.62900752  0.53713367 -0.31999848  0.4784137 ]\n",
      " [ 0.77879952  2.05823226  1.73528109  0.98444733]\n",
      " [ 0.48085448 -0.96498566  0.50450375  0.73833786]\n",
      " [-0.5039244  -0.3458607  -0.13001611 -0.4376352 ]]\n",
      "[ 1.9008689  -0.93345862  5.5567602   0.75871043 -1.4174364 ]\n",
      "[0.17624197 0.91279653 1.45990169 3.31650433]\n"
     ]
    }
   ],
   "source": [
    "# Metodos matematicos y Financieros\n",
    "arr = np.random.randn(5,4)\n",
    "print(arr)\n",
    "\n",
    "print(np.mean(arr))\n",
    "print(arr.mean())\n",
    "\n",
    "# media de cada fila\n",
    "print(arr.mean(axis=1))\n",
    "\n",
    "# media de cada columna\n",
    "print(arr.mean(axis=0))\n",
    "\n",
    "print('----')\n",
    "print(arr)\n",
    "print(arr.sum(axis=1))\n",
    "print(arr.sum(axis=0))"
   ]
  },
  {
   "cell_type": "code",
   "execution_count": 53,
   "metadata": {},
   "outputs": [
    {
     "name": "stdout",
     "output_type": "stream",
     "text": [
      "[ 0  1  3  6 10 15 21 28]\n",
      "[0 0 0 0 0 0 0 0]\n",
      "[[0 1 2]\n",
      " [3 4 5]\n",
      " [6 7 8]]\n",
      "[[ 0  1  3]\n",
      " [ 3  7 12]\n",
      " [ 6 13 21]]\n",
      "[[ 0  1  2]\n",
      " [ 3  5  7]\n",
      " [ 9 12 15]]\n"
     ]
    }
   ],
   "source": [
    "arr = np.array([0,1,2,3,4,5,6,7])\n",
    "\n",
    "print(arr.cumsum())\n",
    "print(arr.cumprod())\n",
    "\n",
    "arr = np.array([[0,1,2],[3,4,5],[6,7,8]])\n",
    "print(arr)\n",
    "\n",
    "# suma acumulada por filas\n",
    "print(arr.cumsum(axis=1))\n",
    "# suma acumulada por columnas\n",
    "print(arr.cumsum(axis=0))"
   ]
  },
  {
   "cell_type": "code",
   "execution_count": 64,
   "metadata": {},
   "outputs": [
    {
     "name": "stdout",
     "output_type": "stream",
     "text": [
      "[-0.80963058 -0.11399405 -1.17695271 -0.19360559  0.49792649  0.45235395]\n",
      "None\n",
      "[-1.17695271 -0.80963058 -0.19360559 -0.11399405  0.45235395  0.49792649]\n",
      "[[-1.9189775  -0.28681102  0.61974544]\n",
      " [ 0.70171941 -0.04114765 -0.04242052]\n",
      " [ 1.55137065  1.53509883  0.88450423]\n",
      " [ 1.2492539   0.14527521  1.61248735]\n",
      " [-1.79012744 -0.23574844  0.23092195]]\n",
      "[[-1.9189775  -0.28681102  0.61974544]\n",
      " [-0.04242052 -0.04114765  0.70171941]\n",
      " [ 0.88450423  1.53509883  1.55137065]\n",
      " [ 0.14527521  1.2492539   1.61248735]\n",
      " [-1.79012744 -0.23574844  0.23092195]]\n",
      "None\n"
     ]
    }
   ],
   "source": [
    "# Ordenacion de arrays\n",
    "arr = np.random.randn(6)\n",
    "print(arr)\n",
    "\n",
    "print(arr.sort())\n",
    "print(arr)\n",
    "\n",
    "arr = np.random.randn(5,3)\n",
    "print(arr)\n",
    "arr.sort(1)\n",
    "print(arr)\n",
    "\n",
    "arr[::-1].sort()\n",
    "print(arr[::-1].sort())"
   ]
  }
 ],
 "metadata": {
  "kernelspec": {
   "display_name": "Python 3",
   "language": "python",
   "name": "python3"
  },
  "language_info": {
   "codemirror_mode": {
    "name": "ipython",
    "version": 3
   },
   "file_extension": ".py",
   "mimetype": "text/x-python",
   "name": "python",
   "nbconvert_exporter": "python",
   "pygments_lexer": "ipython3",
   "version": "3.7.6"
  }
 },
 "nbformat": 4,
 "nbformat_minor": 4
}
