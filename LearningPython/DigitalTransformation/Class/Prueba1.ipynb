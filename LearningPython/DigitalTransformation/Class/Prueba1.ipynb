{
 "cells": [
  {
   "cell_type": "markdown",
   "metadata": {},
   "source": [
    "# Prueba 1\n",
    "### Nombre: Saulo Valdivia\n",
    "### Programa: 201025930\n",
    "### Grupo: A"
   ]
  },
  {
   "cell_type": "code",
   "execution_count": 16,
   "metadata": {},
   "outputs": [
    {
     "name": "stdout",
     "output_type": "stream",
     "text": [
      "2.0\n"
     ]
    }
   ],
   "source": [
    "# Pregunta 1\n",
    "\n",
    "type(5)\n",
    "print(3.0 - 1)\n",
    "\n",
    "# Respuesta:\n",
    "# 2. 2\n",
    "#\n",
    "# Explicación:\n",
    "# La ejecución del código solo produce un 2 o 2.0 puesto que la primera línea con el comando type()\n",
    "# no se imprime.\n",
    "#\n",
    "# Al realizar operaciones aritméticas, Python convierte automáticamente los tipos de los operadores\n",
    "# del tipo de operador más pequeño (int) al tipo de operador más grande (float).\n",
    "# Es por eso que el resultado es de tipo float.\n"
   ]
  },
  {
   "cell_type": "code",
   "execution_count": 23,
   "metadata": {},
   "outputs": [
    {
     "name": "stdout",
     "output_type": "stream",
     "text": [
      "2\n"
     ]
    }
   ],
   "source": [
    "# Pregunta 2\n",
    "\n",
    "xy = 2\n",
    "\n",
    "# Respuesta:\n",
    "# 4. xy = 2\n",
    "#\n",
    "# Explicación:\n",
    "# En operaciones de asignación usando el operador = se debe respetar un orden. Python espera una variable\n",
    "# del lado izquierdo del operador y un valor a asignar del lado derecho. Es por esto que el resto de \n",
    "# las opciones producen un error debido a que no siguen ese orden."
   ]
  },
  {
   "cell_type": "code",
   "execution_count": 26,
   "metadata": {},
   "outputs": [
    {
     "name": "stdout",
     "output_type": "stream",
     "text": [
      "74\n",
      "74\n"
     ]
    }
   ],
   "source": [
    "# Pregunta 3\n",
    "\n",
    "usa_oro = 46\n",
    "uk_oro = 27\n",
    "rumania_oro = 1\n",
    "\n",
    "total_oro = usa_oro + uk_oro + rumania_oro\n",
    "print(total_oro)\n",
    "\n",
    "rumania_oro += 1\n",
    "print(total_oro)\n",
    "\n",
    "# Respuesta:\n",
    "# 1. 74 y 74\n",
    "#\n",
    "# Explicación:\n",
    "# La actualización del valor para la variable rumania_oro no tiene efecto sobre la variable total_oro debido a que\n",
    "# total_oro no se calculo nuevamente con el valor actualizado de rumania_oro."
   ]
  },
  {
   "cell_type": "code",
   "execution_count": 33,
   "metadata": {},
   "outputs": [
    {
     "name": "stdout",
     "output_type": "stream",
     "text": [
      "paraguas aguas aguas aguas \n",
      "holaana\n"
     ]
    }
   ],
   "source": [
    "# Pregunta 4.1\n",
    "\n",
    "comienzo = \"par\"\n",
    "repetir = \"aguas\"\n",
    "u = comienzo + (repetir + \" \") * 4\n",
    "\n",
    "print(u)\n",
    "\n",
    "# Respuesta:\n",
    "# 1.paraguas aguas aguas aguas \n",
    "#\n",
    "# Explicación:\n",
    "# La variable u contiene la concatenacion de dos cadenas de texto. La primera que contiene el valor 'par'\n",
    "# y la segunda cadena 'aguas aguas aguas aguas ' que es el resultado de concatenar 'aguas', ' ' y luego\n",
    "# usar el operador * que realiza la repetición de esta cadena por 4.\n",
    "\n",
    "# Pregunta 4.2\n",
    "\n",
    "# Se asigna el valor 'hola' a la variable hi\n",
    "hi = \"hola\" \n",
    "\n",
    "# Se asigna el valor 'ana' a la variable name\n",
    "name = \"ana\"\n",
    "\n",
    "# Se realiza una concatenación entre las variables hi y name. El resultado se asigna a la variable saludo\n",
    "saludo = hi + name \n",
    "\n",
    "# Se imprime el valor de la variable saludo.\n",
    "print(saludo)\n",
    "\n",
    "# El resto de comandos no tienen efecto o relevancia ya que son comentarios y Python los ignora.\n",
    "#saludo = hi + \" \" + name\n",
    "#print(saludo)\n",
    "#mucho = hi + (\" \" + name)*3\n",
    "#print(mucho)"
   ]
  },
  {
   "cell_type": "code",
   "execution_count": 34,
   "metadata": {},
   "outputs": [
    {
     "name": "stdout",
     "output_type": "stream",
     "text": [
      "False\n",
      "False\n"
     ]
    }
   ],
   "source": [
    "# Pregunta 5\n",
    "\n",
    "tiempo_trabajo = 15\n",
    "tiempo_descanso = 8\n",
    "print(tiempo_descanso > tiempo_trabajo)\n",
    "conducir = True\n",
    "beber = False\n",
    "ambos = conducir and beber\n",
    "print(ambos) \n",
    "\n",
    "# Respuesta:\n",
    "# False y False\n",
    "# \n",
    "# Explicación:\n",
    "# Se imprime False en ambos casos. \n",
    "# El primer caso se da al imprimir la operación 'tiempo_descanso > tiempo_trabajo'.\n",
    "# Esto se debe a que tiempo_descanso(8) es menor que tiempo_trabajo(15).\n",
    "#\n",
    "# El segundo caso se da al imprimir el resultado de lo operación 'conducir and beber'.\n",
    "# Esto se debe a que la operacion lógica 'True and False' resulta en False."
   ]
  },
  {
   "cell_type": "code",
   "execution_count": 36,
   "metadata": {},
   "outputs": [
    {
     "name": "stdout",
     "output_type": "stream",
     "text": [
      "Introduce un número para x: 0\n",
      "Introduce un número para y: 5\n",
      "x es pequeño\n"
     ]
    }
   ],
   "source": [
    "# Pregunta 6\n",
    "\n",
    "x = float(input(\"Introduce un número para x: \"))\n",
    "y = float(input(\"Introduce un número para y: \"))\n",
    "if x == y:\n",
    "    if y != 0:\n",
    "        print(\"x / y es\", x/y)\n",
    "elif x < y:\n",
    "    print(\"x es pequeño\")\n",
    "else:\n",
    "    print(\"y es pequeño\")\n",
    "\n",
    "# Respuesta:\n",
    "# 1. x es pequeño\n",
    "# \n",
    "# Explicación:\n",
    "# El resultado de introducir los valores de: x=0 e y=5 en el código imprime 'x es pequeño'.\n",
    "# Esto se debe a que la condición que se aplica para estos valores en las variables x e y es 'elif x<y'\n",
    "# puesto que el valor x=0 es menor que y=5 y esto hace que se imprima 'x es pequeño'."
   ]
  },
  {
   "cell_type": "code",
   "execution_count": 41,
   "metadata": {},
   "outputs": [
    {
     "name": "stdout",
     "output_type": "stream",
     "text": [
      "15.205295600000001\n"
     ]
    }
   ],
   "source": [
    "# Pregunta 7\n",
    "\n",
    "pi = 3.14159\n",
    "radio = 2.2\n",
    "\n",
    "# escribir la ecuación del área del circulo y que se vea el resultado\n",
    "resultado = pi * (radio ** 2)\n",
    "print(resultado)"
   ]
  },
  {
   "cell_type": "code",
   "execution_count": 48,
   "metadata": {},
   "outputs": [
    {
     "name": "stdout",
     "output_type": "stream",
     "text": [
      "1\n",
      "mi número favorito es 1 . x= 1\n",
      "mi número favorito es  1.x=1\n",
      "mi número favorito es 1.x=1\n"
     ]
    }
   ],
   "source": [
    "# Pregunta 8\n",
    "\n",
    "x = 1\n",
    "\n",
    "# Se imprime el valor de la variable x. En este caso x=1\n",
    "print(x) \n",
    "x_str = str(x)\n",
    "\n",
    "# Se realiza la impresión de 5 argumentos o parametros que se mandan al operador print separados por un espacio en blanco.\n",
    "# Los argumentos incluyen cadenas de texto y el valor de la variable x.\n",
    "print(\"mi número favorito es\", x, \".\", \"x=\", x)\n",
    "\n",
    "# Se realiza la impresión de 2 argumentos que se mandan al operador print separados por un espacio en blanco.\n",
    "# Los argumentos son dos cadenas de texto. \"mi número favorito es \" y una cadena de texto que se concatena\n",
    "# usando el valor de x convertido a cadena de texto \"1.x=1\"\n",
    "print(\"mi número favorito es \", x_str + \".\" + \"x=\" + x_str)\n",
    "\n",
    "# Se realiza la impresión de 1 argumento que se manda al operador print.\n",
    "# El argumento se compone de una cadena de texto concatenada usando el operador + y \n",
    "# el valor de x convertido a cadena de texto.\n",
    "#\n",
    "# Las cadenas de texto que se concatenan son: \"mi número favorito es \", \"1\", \".\", \"x=\" y \"1\"\n",
    "print(\"mi número favorito es \" + x_str + \".\" + \"x=\" + x_str)"
   ]
  },
  {
   "cell_type": "code",
   "execution_count": 52,
   "metadata": {},
   "outputs": [
    {
     "name": "stdout",
     "output_type": "stream",
     "text": [
      "55555\n",
      "25\n"
     ]
    }
   ],
   "source": [
    "# Pregunta 9\n",
    "\n",
    "text = '5'\n",
    "print(5*text)\n",
    "num = 5\n",
    "print(5*num)\n",
    "\n",
    "# Respuesta:\n",
    "# 3. 55555 y 25\n",
    "# \n",
    "# Explicación:\n",
    "# El resultado del código es '55555 y 25'.\n",
    "# En el primer caso se usa el operador * sobre una cadena de texto, lo que hace que el operador \n",
    "# se comporte como un operador de repeticion. Resultando en la impresión de la cadena '55555'\n",
    "# El segundo caso utiliza el operador * sobre un número entero, lo que hace que se realice\n",
    "# una operación de multiplicación. Resultando en la impresión del numero 25."
   ]
  },
  {
   "cell_type": "code",
   "execution_count": 54,
   "metadata": {},
   "outputs": [
    {
     "name": "stdout",
     "output_type": "stream",
     "text": [
      "Un número, por favor: a\n"
     ]
    },
    {
     "ename": "ValueError",
     "evalue": "invalid literal for int() with base 10: 'a'",
     "output_type": "error",
     "traceback": [
      "\u001b[1;31m---------------------------------------------------------------------------\u001b[0m",
      "\u001b[1;31mValueError\u001b[0m                                Traceback (most recent call last)",
      "\u001b[1;32m<ipython-input-54-b08887ca0eee>\u001b[0m in \u001b[0;36m<module>\u001b[1;34m\u001b[0m\n\u001b[0;32m      1\u001b[0m \u001b[1;31m# Pregunta 10\u001b[0m\u001b[1;33m\u001b[0m\u001b[1;33m\u001b[0m\u001b[1;33m\u001b[0m\u001b[0m\n\u001b[0;32m      2\u001b[0m \u001b[1;33m\u001b[0m\u001b[0m\n\u001b[1;32m----> 3\u001b[1;33m \u001b[0mnum\u001b[0m \u001b[1;33m=\u001b[0m \u001b[0mint\u001b[0m\u001b[1;33m(\u001b[0m\u001b[0minput\u001b[0m\u001b[1;33m(\u001b[0m\u001b[1;34m\"Un número, por favor: \"\u001b[0m\u001b[1;33m)\u001b[0m\u001b[1;33m)\u001b[0m\u001b[1;33m\u001b[0m\u001b[1;33m\u001b[0m\u001b[0m\n\u001b[0m\u001b[0;32m      4\u001b[0m \u001b[1;32mif\u001b[0m \u001b[0mnum\u001b[0m \u001b[1;33m%\u001b[0m \u001b[1;36m2\u001b[0m \u001b[1;33m==\u001b[0m \u001b[1;36m0\u001b[0m\u001b[1;33m:\u001b[0m\u001b[1;33m\u001b[0m\u001b[1;33m\u001b[0m\u001b[0m\n\u001b[0;32m      5\u001b[0m     \u001b[0mprint\u001b[0m\u001b[1;33m(\u001b[0m\u001b[1;34m\"par\"\u001b[0m\u001b[1;33m)\u001b[0m\u001b[1;33m\u001b[0m\u001b[1;33m\u001b[0m\u001b[0m\n",
      "\u001b[1;31mValueError\u001b[0m: invalid literal for int() with base 10: 'a'"
     ]
    }
   ],
   "source": [
    "# Pregunta 10\n",
    "\n",
    "num = int(input(\"Un número, por favor: \"))\n",
    "if num % 2 == 0:\n",
    "    print(\"par\")\n",
    "else:\n",
    "    print(\"impar\")\n",
    "\n",
    "# Respuesta:\n",
    "# 4. Par y error\n",
    "# \n",
    "# Explicación:\n",
    "# El resultado luego de introducir 12314588134 y 'a' es 'Par y error'.\n",
    "# En el primer caso introducimos un número que se puede convertir a tipo int y posteriormente\n",
    "# evaluar si es par o impar. Resultando par en nuestro caso.\n",
    "# En el segundo caso introducimos un valor de texto 'a' que no es posible convertir a tipo int\n",
    "# resultando en un error de conversión."
   ]
  }
 ],
 "metadata": {
  "kernelspec": {
   "display_name": "Python 3",
   "language": "python",
   "name": "python3"
  },
  "language_info": {
   "codemirror_mode": {
    "name": "ipython",
    "version": 3
   },
   "file_extension": ".py",
   "mimetype": "text/x-python",
   "name": "python",
   "nbconvert_exporter": "python",
   "pygments_lexer": "ipython3",
   "version": "3.7.6"
  }
 },
 "nbformat": 4,
 "nbformat_minor": 4
}
