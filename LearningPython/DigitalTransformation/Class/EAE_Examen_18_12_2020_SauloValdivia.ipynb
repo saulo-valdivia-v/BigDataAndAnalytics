{
 "cells": [
  {
   "cell_type": "markdown",
   "metadata": {
    "id": "12fvmsBIwzer"
   },
   "source": [
    "### **Instrucciones**\n",
    " \n",
    "* Dispones de 60 minutos para realizar el examen\n",
    "* Lee atentamente las instrucciones\n",
    "* Contesta a cada pregunta siguiendo las instrucciones que se indican para su realización"
   ]
  },
  {
   "cell_type": "markdown",
   "metadata": {
    "id": "kZGTaR0vEcmL"
   },
   "source": [
    "### Ejercicio 1 (puntuación 0.5)\n",
    " \n",
    "Mediante un bucle **`for`** suma los dos primeros elementos de la lista y por otro lado los dos últimos.\n",
    " \n",
    "---- Respuesta ---------\n",
    "* (1+2=3)\n",
    "* (4+5=9)"
   ]
  },
  {
   "cell_type": "code",
   "execution_count": 34,
   "metadata": {
    "colab": {
     "base_uri": "https://localhost:8080/"
    },
    "id": "Ctt6y-DlEw-e",
    "outputId": "ec9c460d-9166-47ba-c330-1fdb32ee15da"
   },
   "outputs": [
    {
     "name": "stdout",
     "output_type": "stream",
     "text": [
      "3\n",
      "9\n"
     ]
    }
   ],
   "source": [
    "intLista =[1, 2, 3, 4, 5]\n",
    "\n",
    "# Respuesta\n",
    "suma = 0\n",
    "for x in intLista:\n",
    "    suma = suma + x\n",
    "    if x == 3:\n",
    "        print(suma - x)\n",
    "        suma = 0\n",
    "    continue\n",
    "\n",
    "print(suma)"
   ]
  },
  {
   "cell_type": "markdown",
   "metadata": {
    "id": "n-25-w7DN4lk"
   },
   "source": [
    "### Ejercicio 2 (puntuación 1)\n",
    " \n",
    "Por medio de un bucle, cuenta:\n",
    " \n",
    "* El número de letras de la frase\n",
    "* El número de palabras de la frase\n",
    "* El número de los espacios en blanco de la frase\n",
    " \n",
    "----- Respuesta -------\n",
    "* Letras:  19\n",
    "* Palabras:  5\n",
    "* Espacios en blanco:  4"
   ]
  },
  {
   "cell_type": "code",
   "execution_count": 41,
   "metadata": {
    "colab": {
     "base_uri": "https://localhost:8080/"
    },
    "id": "UyxRmb6GN2Eg",
    "outputId": "f68c13c6-03f0-4702-93f3-e6c11581d9dc"
   },
   "outputs": [
    {
     "name": "stdout",
     "output_type": "stream",
     "text": [
      "Letras: 19\n",
      "Palabras: 5\n",
      "Espacios en blanco: 4\n"
     ]
    }
   ],
   "source": [
    "Frase = 'Esto es sólo una prueba'\n",
    "\n",
    "# Respuesta\n",
    "letras = 0\n",
    "espacios = 0\n",
    "palabras = 0\n",
    "\n",
    "for x in Frase:\n",
    "    if(x != ' '):\n",
    "        letras += 1\n",
    "    elif(x == ' '):\n",
    "        espacios += 1\n",
    "\n",
    "for p in Frase.split(' '):\n",
    "    palabras += 1\n",
    "\n",
    "print('Letras:', letras)\n",
    "print('Palabras:', palabras)\n",
    "print('Espacios en blanco:', espacios)"
   ]
  },
  {
   "cell_type": "markdown",
   "metadata": {
    "id": "dmfZ1571QNmq"
   },
   "source": [
    "### Ejercicio 3 (puntuación 1)\n",
    " \n",
    "Por medio de un bucle, cuenta:\n",
    " \n",
    "* Las letras de la frase\n",
    "* Las palabras de la frase\n",
    "* Los espacios en blanco de la frase\n",
    " \n",
    "-------- Respuesta ------------\n",
    "* Letras:  19\n",
    "* Palabras:  5\n",
    "* Espacios en blanco:  6"
   ]
  },
  {
   "cell_type": "code",
   "execution_count": 87,
   "metadata": {
    "colab": {
     "base_uri": "https://localhost:8080/"
    },
    "id": "TEJh9hGqOW4c",
    "outputId": "b753851b-2dd5-4d86-f4a4-7d4e4a14066d"
   },
   "outputs": [
    {
     "name": "stdout",
     "output_type": "stream",
     "text": [
      "Letras: 19\n",
      "Palabras: 5\n",
      "Espacios en blanco: 6\n"
     ]
    }
   ],
   "source": [
    "Frase = 'Esto es sólo  una  prueba'\n",
    "\n",
    "# Respuesta\n",
    "letras = 0\n",
    "espacios = 0\n",
    "palabras = 0\n",
    "\n",
    "for x in Frase:\n",
    "    if(x != ' '):\n",
    "        letras += 1\n",
    "    elif(x == ' '):\n",
    "        espacios += 1\n",
    "\n",
    "frase1 = Frase.split(' ')\n",
    "while '' in frase1: frase1.remove('')\n",
    "for p in frase1:\n",
    "    palabras += 1\n",
    "\n",
    "print('Letras:', letras)\n",
    "print('Palabras:', palabras)\n",
    "print('Espacios en blanco:', espacios)"
   ]
  },
  {
   "cell_type": "markdown",
   "metadata": {
    "id": "FiU4DUnYTLCH"
   },
   "source": [
    "### Ejercicio 4 (puntuación 1)\n",
    " \n",
    "Por medio de un bucle **`while`** imprime la frase en orden inverso."
   ]
  },
  {
   "cell_type": "code",
   "execution_count": 33,
   "metadata": {
    "colab": {
     "base_uri": "https://localhost:8080/"
    },
    "id": "cS0Hh7x7OqIo",
    "outputId": "6e04314f-171b-4e6c-b7d7-fce51f0e2f69"
   },
   "outputs": [
    {
     "name": "stdout",
     "output_type": "stream",
     "text": [
      "a\n",
      "b\n",
      "e\n",
      "u\n",
      "r\n",
      "p\n",
      " \n",
      "a\n",
      "n\n",
      "u\n",
      " \n",
      "o\n",
      "l\n",
      "ó\n",
      "s\n",
      " \n",
      "s\n",
      "e\n",
      " \n",
      "o\n",
      "t\n",
      "s\n",
      "E\n"
     ]
    }
   ],
   "source": [
    "Frase = 'Esto es sólo una prueba'\n",
    "\n",
    "# Respuesta\n",
    "i = len(Frase) -1\n",
    "while i > -1:\n",
    "    print(Frase[i])\n",
    "    i = i - 1"
   ]
  },
  {
   "cell_type": "markdown",
   "metadata": {
    "id": "fyhCLzPTpwfO"
   },
   "source": [
    "### Ejercicio 5 (puntuación 1)\n",
    " \n",
    "Mediante bucles `while` genera la siguiente lista de palabras:\n",
    " \n",
    "adj = [\"red\", \"big\", \"tasty\"]\n",
    " \n",
    "fruits = [\"apple\", \"banana\", \"cherry\"]\n",
    " \n",
    "------- Respuesta ----------\n",
    "* tasty : cherry\n",
    "* tasty : banana\n",
    "* tasty : apple\n",
    "* big : cherry\n",
    "* big : banana\n",
    "* big : apple\n",
    "* red : cherry\n",
    "* red : banana\n",
    "* red : apple"
   ]
  },
  {
   "cell_type": "code",
   "execution_count": 45,
   "metadata": {
    "colab": {
     "base_uri": "https://localhost:8080/"
    },
    "id": "XooQhhOnTnTo",
    "outputId": "ae0403e4-c162-45e4-bf09-87447e3f7b11"
   },
   "outputs": [
    {
     "name": "stdout",
     "output_type": "stream",
     "text": [
      "tasty : cherry\n",
      "tasty : banana\n",
      "tasty : apple\n",
      "big : cherry\n",
      "big : banana\n",
      "big : apple\n",
      "red : cherry\n",
      "red : banana\n",
      "red : apple\n"
     ]
    }
   ],
   "source": [
    "adj = [\"red\", \"big\", \"tasty\"]\n",
    "fruits = [\"apple\", \"banana\", \"cherry\"]\n",
    "\n",
    "# Respuesta\n",
    "i = len(adj) -1\n",
    "j = len(fruits) -1\n",
    "\n",
    "while i > -1:\n",
    "    while j > -1:\n",
    "        print(adj[i], ':', fruits[j])\n",
    "        j -= 1\n",
    "    j = len(fruits) -1\n",
    "    i -= 1"
   ]
  },
  {
   "cell_type": "markdown",
   "metadata": {
    "id": "MaIUFtk68AI_"
   },
   "source": [
    "### Ejercicio 6 (puntuación: 0,5)\n",
    " \n",
    "Mediante bucles `for` genera la siguiente lista de palabras:\n",
    " \n",
    "adj = [\"red\", \"big\", \"tasty\"]\n",
    " \n",
    "fruits = [\"apple\", \"banana\", \"cherry\"]\n",
    " \n",
    "------- Respuesta ----------\n",
    "* tasty : cherry\n",
    "* tasty : banana\n",
    "* tasty : apple\n",
    "* big : cherry\n",
    "* big : banana\n",
    "* big : apple\n",
    "* red : cherry\n",
    "* red : banana\n",
    "* red : apple"
   ]
  },
  {
   "cell_type": "code",
   "execution_count": 62,
   "metadata": {
    "colab": {
     "base_uri": "https://localhost:8080/"
    },
    "id": "dj5VSP-gRlJg",
    "outputId": "02befbbe-f1d1-4665-dc38-6b47749e8224"
   },
   "outputs": [
    {
     "name": "stdout",
     "output_type": "stream",
     "text": [
      "tasty : cherry\n",
      "tasty : banana\n",
      "tasty : apple\n",
      "big : cherry\n",
      "big : banana\n",
      "big : apple\n",
      "red : cherry\n",
      "red : banana\n",
      "red : apple\n"
     ]
    }
   ],
   "source": [
    "adj = [\"red\", \"big\", \"tasty\"]\n",
    "fruits = [\"apple\", \"banana\", \"cherry\"]\n",
    "\n",
    "# Respuesta\n",
    "for x in adj[::-1]:\n",
    "    for y in fruits[::-1]:\n",
    "        print(x, ':', y)"
   ]
  },
  {
   "cell_type": "markdown",
   "metadata": {
    "id": "VdA5WS8wyb69"
   },
   "source": [
    "### Ejercicio 7 (puntuación: 1)\n",
    " \n",
    "Mediante un bucle `for in-line` calcula el cuadrado de los números 2 al 10. Ambos inclusive\n",
    " \n",
    "--------- Respuesta -----------\n",
    " \n",
    "[4, 9, 16, 25, 36, 49, 64, 81, 100]"
   ]
  },
  {
   "cell_type": "code",
   "execution_count": 57,
   "metadata": {
    "colab": {
     "base_uri": "https://localhost:8080/"
    },
    "id": "ZeMWzo0VrKUp",
    "outputId": "8593db10-2595-4d5e-b9f2-405c0695a501"
   },
   "outputs": [
    {
     "name": "stdout",
     "output_type": "stream",
     "text": [
      "[4, 9, 16, 25, 36, 49, 64, 81, 100]\n"
     ]
    }
   ],
   "source": [
    "# Respuesta\n",
    "cuadrados = [ x*x for x in range(2, 11) ]\n",
    "print(cuadrados)"
   ]
  },
  {
   "cell_type": "markdown",
   "metadata": {
    "id": "Ig48rl4TtmZJ"
   },
   "source": [
    "### Ejercicio 8 (puntuación 1)\n",
    " \n",
    "Para el mismo conjunto de datos del ejercicio anterior, mediante **bucles for in-line**, genera una lista de tuplas tal como este:\n",
    "* [('red', 'apple'),\n",
    "* ('red', 'banana'),\n",
    "* ('red', 'cherry'),\n",
    "* ('big', 'apple'),\n",
    "* ('big', 'banana'),\n",
    "* ('big', 'cherry'),\n",
    "* ('tasty', 'apple'),\n",
    "* ('tasty', 'banana'),\n",
    "* ('tasty', 'cherry')]"
   ]
  },
  {
   "cell_type": "code",
   "execution_count": 80,
   "metadata": {
    "colab": {
     "base_uri": "https://localhost:8080/"
    },
    "id": "jqWDXtOJYMeD",
    "outputId": "4e31cbe8-8380-49d3-8566-8874c07bc0b1"
   },
   "outputs": [
    {
     "name": "stdout",
     "output_type": "stream",
     "text": [
      "[['red', 'red', 'red', 'big', 'big', 'big', 'tasty', 'tasty', 'tasty']]\n"
     ]
    }
   ],
   "source": [
    "adj = [\"red\", \"big\", \"tasty\"]\n",
    "fruits = [\"apple\", \"banana\", \"cherry\"]\n",
    "\n",
    "# Respuesta\n",
    "lista = []\n",
    "#[print(adjetivo, fruta) for adjetivo in adj for fruta in fruits]\n",
    "lista.append([ adjetivo for adjetivo in adj for fruta in fruits])\n",
    "print(lista)"
   ]
  },
  {
   "cell_type": "markdown",
   "metadata": {
    "id": "wAYmOmDYA0Ky"
   },
   "source": [
    "### Ejercicio 9 (puntuación 1)\n",
    " \n",
    "Genera una lista con las letras individuales de la siguiente lista de palabras.\n",
    " \n",
    "**Puedes mostrar la lista en horizontal o vertical**, como te sea más fácil\n",
    " \n",
    "----------- Respuesta -----------------\n",
    " \n",
    "['a',\n",
    " 'p',\n",
    " 'p',\n",
    " 'l',\n",
    " 'e',\n",
    " 'b',\n",
    " 'a',\n",
    " 'n',\n",
    " 'a',\n",
    " 'n',\n",
    " 'a',\n",
    " 'p',\n",
    " 'e',\n",
    " 'a',\n",
    " 'r',\n",
    " 't',\n",
    " 'h',\n",
    " 'e',\n",
    " 'h',\n",
    " 'e',\n",
    " 'l',\n",
    " 'l',\n",
    " 'o']"
   ]
  },
  {
   "cell_type": "code",
   "execution_count": 68,
   "metadata": {
    "colab": {
     "base_uri": "https://localhost:8080/"
    },
    "id": "SgSyPagRvQS4",
    "outputId": "bd3d8396-0400-4d4c-81ec-9412b9d0015a"
   },
   "outputs": [
    {
     "name": "stdout",
     "output_type": "stream",
     "text": [
      "['a', 'p', 'p', 'l', 'e', 'b', 'a', 'n', 'a', 'n', 'a', 'p', 'e', 'a', 'r', 't', 'h', 'e', 'h', 'e', 'l', 'l', 'o']\n"
     ]
    }
   ],
   "source": [
    "listado = [\"apple\", \"banana\", \"pear\", \"the\", \"hello\"]\n",
    "\n",
    "# Respuesta\n",
    "letras = []\n",
    "for e in listado:\n",
    "    for p in e:\n",
    "        letras.append(p)\n",
    "print(letras)"
   ]
  },
  {
   "cell_type": "markdown",
   "metadata": {
    "id": "fplFBPbxCRDp"
   },
   "source": [
    "### Ejercicio 10 (puntuación 1)\n",
    " \n",
    "Programa una función que retorne una lista con el máximo y mínimo de la lista/array dado.\n",
    " \n",
    "----------- Respuesta ----------------\n",
    " \n",
    "[-20, 73]"
   ]
  },
  {
   "cell_type": "code",
   "execution_count": 76,
   "metadata": {
    "colab": {
     "base_uri": "https://localhost:8080/"
    },
    "id": "Y5tdL8XHAmVd",
    "outputId": "dd013e8b-4d7a-4dc9-ff60-82109d23cba0"
   },
   "outputs": [
    {
     "name": "stdout",
     "output_type": "stream",
     "text": [
      "[-20, 73]\n"
     ]
    }
   ],
   "source": [
    "def mayor(*args):\n",
    "    mayor = numeros[0]\n",
    "    for x in args[0]:\n",
    "        if(x>mayor):\n",
    "            mayor = x\n",
    "    return mayor\n",
    "\n",
    "def menor(*args):\n",
    "    menor = numeros[0]\n",
    "    for x in args[0]:\n",
    "        if(x<menor):\n",
    "            menor = x\n",
    "    return menor\n",
    "\n",
    "numeros = [7,-20,73,40,5,6,8,-3]\n",
    "\n",
    "# Respuesta\n",
    "lista = []\n",
    "lista.append(menor(numeros))\n",
    "lista.append(mayor(numeros))\n",
    "\n",
    "print(lista)"
   ]
  },
  {
   "cell_type": "markdown",
   "metadata": {
    "id": "wPDDGmCkDNwh"
   },
   "source": [
    "### Ejercicio 11 (puntuación 1)\n",
    " \n",
    "Programa una función que mediante bucles **`for`**\n",
    " \n",
    "retorne una lista con el máximo y mínimo de la lista/array dado.\n",
    " \n",
    "----------- Respuesta ----------------\n",
    " \n",
    "[-20, 73]"
   ]
  },
  {
   "cell_type": "code",
   "execution_count": 77,
   "metadata": {
    "colab": {
     "base_uri": "https://localhost:8080/"
    },
    "id": "y00SysykC6L6",
    "outputId": "90f117e2-ca95-4878-9e63-018c0e041414"
   },
   "outputs": [
    {
     "name": "stdout",
     "output_type": "stream",
     "text": [
      "[-20, 73]\n"
     ]
    }
   ],
   "source": [
    "numeros = [7,-20,73,40,5,6,8,-3]\n",
    "\n",
    "# Respuesta\n",
    "def mayor(*args):\n",
    "    mayor = numeros[0]\n",
    "    for x in args[0]:\n",
    "        if(x>mayor):\n",
    "            mayor = x\n",
    "    return mayor\n",
    "\n",
    "def menor(*args):\n",
    "    menor = numeros[0]\n",
    "    for x in args[0]:\n",
    "        if(x<menor):\n",
    "            menor = x\n",
    "    return menor\n",
    "\n",
    "numeros = [7,-20,73,40,5,6,8,-3]\n",
    "\n",
    "# Respuesta\n",
    "lista = []\n",
    "lista.append(menor(numeros))\n",
    "lista.append(mayor(numeros))\n",
    "\n",
    "print(lista)"
   ]
  },
  {
   "cell_type": "code",
   "execution_count": null,
   "metadata": {
    "id": "K7K2en5RDm3z"
   },
   "outputs": [],
   "source": []
  }
 ],
 "metadata": {
  "colab": {
   "name": "EAE_Examen_18_12_2020.ipynb",
   "provenance": []
  },
  "kernelspec": {
   "display_name": "Python 3",
   "language": "python",
   "name": "python3"
  },
  "language_info": {
   "codemirror_mode": {
    "name": "ipython",
    "version": 3
   },
   "file_extension": ".py",
   "mimetype": "text/x-python",
   "name": "python",
   "nbconvert_exporter": "python",
   "pygments_lexer": "ipython3",
   "version": "3.7.6"
  }
 },
 "nbformat": 4,
 "nbformat_minor": 1
}
