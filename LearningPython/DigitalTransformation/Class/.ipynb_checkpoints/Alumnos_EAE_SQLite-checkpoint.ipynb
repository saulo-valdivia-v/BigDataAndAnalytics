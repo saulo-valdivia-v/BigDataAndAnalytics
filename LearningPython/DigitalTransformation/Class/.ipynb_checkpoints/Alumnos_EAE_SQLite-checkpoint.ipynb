{
 "cells": [
  {
   "cell_type": "code",
   "execution_count": 1,
   "metadata": {
    "id": "blpwQb8iCWzT"
   },
   "outputs": [],
   "source": [
    "import sqlite3\n",
    "\n",
    "con = sqlite3.connect('EAEdatabase_2.db')"
  {
   "cell_type": "markdown",
   "metadata": {
    "id": "JiNlmxbeO428"
   },
   "source": [
    "### Crear base de datos\n",
    " \n",
    "Por defecto SQLite crea un fichero en directorio de trabajo con el nombre especificado"
   ]
  },
  {
   "cell_type": "code",
   "execution_count": 2,
   "metadata": {
    "id": "p7R64yItEiOH"
   },
   "outputs": [],
   "source": [
    "from sqlite3 import Error\n",
    "\n",
    "def sql_connection():\n",
    "\n",
    "    try:\n",
    "\n",
    "        con = sqlite3.connect('EAEdatabase_2.db') # 'con', contiene el puntero a la bbdd creada y abierta\n",
    "\n",
    "        return con\n",
    "\n",
    "    except Error:\n",
    "\n",
    "        print(Error)"
   ]
  },
  {
   "cell_type": "code",
   "execution_count": null,
   "metadata": {
    "id": "cHik5_OIPKS4"
   },
   "outputs": [],
   "source": [
    "def sql_connection():\n",
    "\n",
    "    try:\n",
    "\n",
    "        con = sqlite3.connect(':memory:')\n",
    "\n",
    "        print(\"Conexión con la BBDD: Base de datos creada en memoria\")\n",
    "\n",
    "    except Error:\n",
    "\n",
    "        print(Error)\n",
    "\n",
    "    finally:\n",
    "\n",
    "        con.close()\n",
    "\n",
    "sql_connection()"
   ]
  },
  {
   "cell_type": "code",
   "execution_count": 3,
   "metadata": {
    "id": "95EknljJCeMV"
   },
   "outputs": [],
   "source": [
    "def sql_table(con):\n",
    "\n",
    "    cursorObj = con.cursor()\n",
    "\n",
    "    cursorObj.execute(\"CREATE TABLE empleados(id integer PRIMARY KEY, nombre text, salario real, departamento text, posicion text, fechaDeAlta text)\")\n",
    "\n",
    "    con.commit()\n",
    "\n",
    "con = sql_connection()\n",
    "\n",
    "sql_table(con)"
   ]
  },
  {
   "cell_type": "code",
   "execution_count": 4,
   "metadata": {
    "id": "EWOEoJ_SC60w"
   },
   "outputs": [],
   "source": [
    "def sql_table(con):\n",
    "\n",
    "    cursorObj = con.cursor()\n",
    "\n",
    "    cursorObj.execute(\"INSERT INTO empleados VALUES(1, 'Juan', 600, 'RRHH', 'Director', '2016-01-04')\")\n",
    "\n",
    "    con.commit()\n",
    "\n",
    "con = sql_connection()\n",
    "\n",
    "sql_table(con)"
   ]
  },
  {
   "cell_type": "code",
   "execution_count": 5,
   "metadata": {
    "id": "NioXSnAHDvdY"
   },
   "outputs": [],
   "source": [
    "def sql_table(con):\n",
    "\n",
    "    cursorObj = con.cursor()\n",
    "\n",
    "    cursorObj.execute(\"INSERT INTO empleados VALUES(2, 'Saquira', 800, 'TU', 'Tecnico', '2018-04-09')\")\n",
    "\n",
    "    con.commit()\n",
    "\n",
    "con = sql_connection()\n",
    "\n",
    "sql_table(con)"
   ]
  },
  {
   "cell_type": "code",
   "execution_count": 25,
   "metadata": {},
   "outputs": [],
   "source": [
    "def sql_table(con):\n",
    "\n",
    "    cursorObj = con.cursor()\n",
    "\n",
    "    cursorObj.execute(\"INSERT INTO empleados VALUES(3, 'Valeria', 950, 'TU', 'Director', '2018-04-09')\")\n",
    "\n",
    "    con.commit()\n",
    "\n",
    "con = sql_connection()\n",
    "\n",
    "sql_table(con)"
   ]
  },
  {
   "cell_type": "code",
   "execution_count": 7,
   "metadata": {
    "id": "rKVRZ8vqEVgQ"
   },
   "outputs": [],
   "source": [
    "\n",
    "def sql_update(con):\n",
    "\n",
    "    cursorObj = con.cursor()\n",
    "\n",
    "    cursorObj.execute('UPDATE empleados SET nombre = \"Andres\" where id = 2')\n",
    "\n",
    "    con.commit()\n",
    "\n",
    "sql_update(con)"
   ]
  },
  {
   "cell_type": "code",
   "execution_count": 24,
   "metadata": {
    "colab": {
     "base_uri": "https://localhost:8080/"
    },
    "executionInfo": {
     "elapsed": 1124,
     "status": "ok",
     "timestamp": 1607954315539,
     "user": {
      "displayName": "Alfonso AAG",
      "photoUrl": "",
      "userId": "05855385902499719219"
     },
     "user_tz": -60
    },
    "id": "azT--35IEpKO",
    "outputId": "24b73b6e-d0fc-411a-f801-7e6729202c51"
   },
   "outputs": [
    {
     "name": "stdout",
     "output_type": "stream",
     "text": [
      "(1, 'Juan', 600.0, 'RRHH', 'Director', '2016-01-04')\n",
      "(2, 'Andres', 800.0, 'TU', 'Tecnico', '2018-04-09')\n"
     ]
    }
   ],
   "source": [
    "def sql_fetch(con):\n",
    "\n",
    "    cursorObj = con.cursor()\n",
    "\n",
    "    cursorObj.execute('SELECT * FROM empleados')\n",
    "\n",
    "    rows = cursorObj.fetchall()\n",
    "\n",
    "    for row in rows:\n",
    "\n",
    "        print(row)\n",
    "\n",
    "sql_fetch(con)"
   ]
  },
  {
   "cell_type": "code",
   "execution_count": 9,
   "metadata": {
    "colab": {
     "base_uri": "https://localhost:8080/"
    },
    "executionInfo": {
     "elapsed": 856,
     "status": "ok",
     "timestamp": 1607954326395,
     "user": {
      "displayName": "Alfonso AAG",
      "photoUrl": "",
      "userId": "05855385902499719219"
     },
     "user_tz": -60
    },
    "id": "DS1mWSwDEx-g",
    "outputId": "7bdf50c2-6365-432e-e2eb-ea357abbb1b9"
   },
   "outputs": [
    {
     "name": "stdout",
     "output_type": "stream",
     "text": [
      "(1, 'Juan', 600.0, 'RRHH', 'Director', '2016-01-04')\n",
      "(2, 'Andres', 800.0, 'TU', 'Tecnico', '2018-04-09')\n"
     ]
    }
   ],
   "source": [
    "def sql_fetch(con):\n",
    "\n",
    "    cursorObj = con.cursor()\n",
    "\n",
    "    cursorObj.execute('SELECT * FROM empleados')\n",
    "\n",
    "    [print(row) for row in cursorObj.fetchall()] # Con un bucle for in-line\n",
    "\n",
    "sql_fetch(con)"
   ]
  },
  {
   "cell_type": "markdown",
   "metadata": {
    "id": "VqbWkqglF6GZ"
   },
   "source": [
    "### Ejercicio\n",
    " \n",
    "Realiza una función que recupere **sólo** los campos `id, name y position` de todos los registros que contine la base de datos."
   ]
  },
  {
   "cell_type": "code",
   "execution_count": 10,
   "metadata": {
    "colab": {
     "base_uri": "https://localhost:8080/"
    },
    "executionInfo": {
     "elapsed": 1030,
     "status": "ok",
     "timestamp": 1607953573111,
     "user": {
      "displayName": "Alfonso AAG",
      "photoUrl": "",
      "userId": "05855385902499719219"
     },
     "user_tz": -60
    },
    "id": "3Fy1YkXhFWjV",
    "outputId": "e9a96b86-2c3d-4024-dae1-d724793fe9d8"
   },
   "outputs": [
    {
     "name": "stdout",
     "output_type": "stream",
     "text": [
      "(1, 'Juan', 'Director')\n",
      "(2, 'Andres', 'Tecnico')\n"
     ]
    }
   ],
   "source": [
    "# Respuesta\n",
    "def sql_fetch(con):\n",
    "\n",
    "    cursorObj = con.cursor()\n",
    "\n",
    "    cursorObj.execute('SELECT id, nombre, posicion FROM empleados')\n",
    "\n",
    "    [print(row) for row in cursorObj.fetchall()] # Con un bucle for in-line\n",
    "\n",
    "sql_fetch(con)\n"
   ]
  },
  {
   "cell_type": "code",
   "execution_count": 11,
   "metadata": {
    "colab": {
     "base_uri": "https://localhost:8080/"
    },
    "executionInfo": {
     "elapsed": 842,
     "status": "ok",
     "timestamp": 1607954337832,
     "user": {
      "displayName": "Alfonso AAG",
      "photoUrl": "",
      "userId": "05855385902499719219"
     },
     "user_tz": -60
    },
    "id": "fF5jxJJhGoH6",
    "outputId": "8a8159db-3f34-46ba-f56e-26fe83f5fb3b"
   },
   "outputs": [
    {
     "name": "stdout",
     "output_type": "stream",
     "text": [
      "2\n"
     ]
    }
   ],
   "source": [
    "def sql_fetch(con):\n",
    "\n",
    "    cursorObj = con.cursor()\n",
    "\n",
    "    cursorObj.execute('SELECT * FROM empleados')\n",
    "\n",
    "    print(len(cursorObj.fetchall())) # Contar las filas devueltas por la última consulta\n",
    "\n",
    "sql_fetch(con)"
   ]
  },
  {
   "cell_type": "markdown",
   "metadata": {
    "id": "FpbZ2zzTLZJ0"
   },
   "source": [
    "### Ejercicio\n",
    " \n",
    "Recupera las personas de la base de datos cuyo salario sea mayor de 800 dólares"
   ]
  },
  {
   "cell_type": "code",
   "execution_count": 26,
   "metadata": {
    "colab": {
     "base_uri": "https://localhost:8080/"
    },
    "executionInfo": {
     "elapsed": 995,
     "status": "ok",
     "timestamp": 1607954349463,
     "user": {
      "displayName": "Alfonso AAG",
      "photoUrl": "",
      "userId": "05855385902499719219"
     },
     "user_tz": -60
    },
    "id": "XSu2Y8ybHPVG",
    "outputId": "ba4d0098-84ab-4f71-950f-ba6a9b55f596"
   },
   "outputs": [
    {
     "name": "stdout",
     "output_type": "stream",
     "text": [
      "(3, 'Valeria', 950.0, 'TU', 'Director', '2018-04-09')\n"
     ]
    }
   ],
   "source": [
    "# Respuesta\n",
    "def sql_fetch(con):\n",
    "\n",
    "    cursorObj = con.cursor()\n",
    "\n",
    "    cursorObj.execute('SELECT * FROM empleados WHERE salario > 800')\n",
    "\n",
    "    [print(row) for row in cursorObj.fetchall()] # Con un bucle for in-line\n",
    "\n",
    "sql_fetch(con)"
   ]
  },
  {
   "cell_type": "code",
   "execution_count": 27,
   "metadata": {},
   "outputs": [
    {
     "name": "stdout",
     "output_type": "stream",
     "text": [
      "(3, 'Valeria', 950.0, 'Director')\n"
     ]
    }
   ],
   "source": [
    "# Respuesta\n",
    "def sql_fetch(con):\n",
    "\n",
    "    cursorObj = con.cursor()\n",
    "\n",
    "    cursorObj.execute('SELECT id, nombre, salario, posicion FROM empleados WHERE nombre = \\'Valeria\\'')\n",
    "\n",
    "    [print(row) for row in cursorObj.fetchall()] # Con un bucle for in-line\n",
    "\n",
    "sql_fetch(con)"
   ]
  },
  {
   "cell_type": "markdown",
   "metadata": {
    "id": "UE_1q7bCL7K5"
   },
   "source": [
    "### Borrar tablas de la base de datos"
   ]
  },
  {
   "cell_type": "code",
   "execution_count": null,
   "metadata": {
    "id": "yXwVh6Z2MAEJ"
   },
   "outputs": [],
   "source": [
    "def sql_fetch(con):\n",
    "\n",
    "    cursorObj = con.cursor()\n",
    "\n",
    "    cursorObj.execute('DROP table empleados')\n",
    "\n",
    "    con.commit()\n",
    "\n",
    "sql_fetch(con)"
   ]
  },
  {
   "cell_type": "markdown",
   "metadata": {
    "id": "4OR5ZsATNA1y"
   },
   "source": [
    "### Ejecución condicional de la consulta"
   ]
  },
  {
   "cell_type": "code",
   "execution_count": null,
   "metadata": {
    "id": "HGjxT43tMLcr"
   },
   "outputs": [],
   "source": [
    "def sql_fetch(con):\n",
    "\n",
    "    cursorObj = con.cursor()\n",
    "\n",
    "    cursorObj.execute('DROP table if exists empleados')\n",
    "\n",
    "    con.commit()\n",
    "\n",
    "sql_fetch(con)"
   ]
  },
  {
   "cell_type": "markdown",
   "metadata": {
    "id": "0CyejyIgOISF"
   },
   "source": [
    "### Comprobar si una tabla existe."
   ]
  },
  {
   "cell_type": "code",
   "execution_count": 28,
   "metadata": {
    "colab": {
     "base_uri": "https://localhost:8080/"
    },
    "executionInfo": {
     "elapsed": 892,
     "status": "ok",
     "timestamp": 1607954372609,
     "user": {
      "displayName": "Alfonso AAG",
      "photoUrl": "",
      "userId": "05855385902499719219"
     },
     "user_tz": -60
    },
    "id": "qgSGEiabNLni",
    "outputId": "f06e96d4-d88b-4648-980c-83961584eb37"
   },
   "outputs": [
    {
     "name": "stdout",
     "output_type": "stream",
     "text": [
      "[('empleados',)]\n"
     ]
    }
   ],
   "source": [
    "def sql_fetch(con):\n",
    "\n",
    "    cursorObj = con.cursor()\n",
    "\n",
    "    cursorObj.execute('SELECT name from sqlite_master WHERE type = \"table\" AND name = \"empleados\"')\n",
    "    print(cursorObj.fetchall())\n",
    "\n",
    "sql_fetch(con)\n",
    "\n",
    "# Si la tabla que especificamos no existe, se devolverá una array vacío:"
   ]
  },
  {
   "cell_type": "markdown",
   "metadata": {
    "id": "cwwoAgVYgPnl"
   },
   "source": [
    "### Ejercicio\n",
    " \n",
    "Crear una tabla de facturas. Incluye campos como: numero de factura, fecha, importe bruto, IVA, etc."
   ]
  },
  {
   "cell_type": "code",
   "execution_count": 14,
   "metadata": {
    "id": "dWCWveqnNgzV"
   },
   "outputs": [],
   "source": [
    "# Respuesta\n",
    "def sql_table(con):\n",
    "\n",
    "    cursorObj = con.cursor()\n",
    "\n",
    "    cursorObj.execute(\"CREATE TABLE facturas(numeroDeFactura integer PRIMARY KEY, fecha text, importe real)\")\n",
    "\n",
    "    con.commit()\n",
    "\n",
    "con = sql_connection()\n",
    "\n",
    "sql_table(con)"
   ]
  },
  {
   "cell_type": "markdown",
   "metadata": {
    "id": "41URXkfDkKca"
   },
   "source": [
    "### Ejercicio\n",
    " \n",
    "Comprobar que existe la tabla facturas"
   ]
  },
  {
   "cell_type": "code",
   "execution_count": 29,
   "metadata": {
    "colab": {
     "base_uri": "https://localhost:8080/"
    },
    "executionInfo": {
     "elapsed": 843,
     "status": "ok",
     "timestamp": 1607954474379,
     "user": {
      "displayName": "Alfonso AAG",
      "photoUrl": "",
      "userId": "05855385902499719219"
     },
     "user_tz": -60
    },
    "id": "dPh13cpAjgRm",
    "outputId": "8648a135-5680-4691-f5cf-dfc22db0a87c"
   },
   "outputs": [
    {
     "name": "stdout",
     "output_type": "stream",
     "text": [
      "[('facturas',)]\n"
     ]
    }
   ],
   "source": [
    "def sql_fetch(con):\n",
    "\n",
    "    cursorObj = con.cursor()\n",
    "\n",
    "    cursorObj.execute('SELECT name from sqlite_master WHERE type = \"table\" AND name = \"facturas\"')\n",
    "    print(cursorObj.fetchall())\n",
    "\n",
    "sql_fetch(con)\n",
    "\n",
    "# Si la tabla que especificamos no existe, se devolverá una array vacío:"
   ]
  },
  {
   "cell_type": "markdown",
   "metadata": {
    "id": "NIX7f_IPkUW9"
   },
   "source": [
    "### Ejercicio\n",
    " \n",
    "Inserta valores en la tabla facturas. Inserta los datos de 2 facturas"
   ]
  },
  {
   "cell_type": "code",
   "execution_count": 22,
   "metadata": {
    "id": "sI6cPACXNv3B"
   },
   "outputs": [],
   "source": [
    "# Respuesta\n",
    "def sql_table(con):\n",
    "\n",
    "    cursorObj = con.cursor()\n",
    "\n",
    "    cursorObj.execute(\"INSERT INTO facturas VALUES(1, '2018-04-09', 100)\")\n",
    "    \n",
    "    cursorObj.execute(\"INSERT INTO facturas VALUES(2, '2018-04-10', 250)\")\n",
    "\n",
    "    con.commit()\n",
    "\n",
    "con = sql_connection()\n",
    "\n",
    "sql_table(con)\n"
   ]
  },
  {
   "cell_type": "markdown",
   "metadata": {
    "id": "G4E44cxMkiPt"
   },
   "source": [
    "### Borramos la tabla creada"
   ]
  },
  {
   "cell_type": "code",
   "execution_count": null,
   "metadata": {
    "id": "rbbkPN8ojOAv"
   },
   "outputs": [],
   "source": [
    "def sql_fetch(con):\n",
    "\n",
    "    cursorObj = con.cursor()\n",
    "\n",
    "    cursorObj.execute('DROP table if exists facturas')\n",
    "\n",
    "    con.commit()\n",
    "\n",
    "sql_fetch(con)"
   ]
  },
  {
   "cell_type": "markdown",
   "metadata": {
    "id": "TwG1BI2FJpgu"
   },
   "source": [
    "### Cerrar la base de datos"
   ]
  },
  {
   "cell_type": "code",
   "execution_count": null,
   "metadata": {
    "id": "kVqnDPS-ImTa"
   },
   "outputs": [],
   "source": [
    "# Cerramos la conexión a la base de datos tras finalizar\n",
    "con.close()"
   ]
  },
  {
   "cell_type": "code",
   "execution_count": null,
   "metadata": {
    "id": "iNpxuAgKJtV7"
   },
   "outputs": [],
   "source": []
  }
 ],
 "metadata": {
  "colab": {
   "authorship_tag": "ABX9TyOD5qYPdYvCBapGPv9Zl3DK",
   "name": "Alumnos_EAE_SQLite.ipynb",
   "provenance": [
    {
     "file_id": "1njFgNnMNb0MtaMc3xFpzApn7xqbqvpkK",
     "timestamp": 1607954536236
    }
   ]
  },
  "kernelspec": {
   "display_name": "Python 3",
   "language": "python",
   "name": "python3"
  },
  "language_info": {
   "codemirror_mode": {
    "name": "ipython",
    "version": 3
   },
   "file_extension": ".py",
   "mimetype": "text/x-python",
   "name": "python",
   "nbconvert_exporter": "python",
   "pygments_lexer": "ipython3",
   "version": "3.7.6"
  }
 },
 "nbformat": 4,
 "nbformat_minor": 1
}
