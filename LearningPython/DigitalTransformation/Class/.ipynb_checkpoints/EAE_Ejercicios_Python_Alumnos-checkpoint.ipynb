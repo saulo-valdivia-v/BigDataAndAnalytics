{
 "cells": [
  {
   "cell_type": "markdown",
   "metadata": {
    "id": "P7SeCrbMNjoK"
   },
   "source": [
    "### Ejercicio 1\n",
    " \n",
    "Mediante el uso de bucle encuentra el elemento mayor de la lista\n",
    "[1,3,0,5,9,20,-30]"
   ]
  },
  {
   "cell_type": "code",
   "execution_count": 35,
   "metadata": {
    "colab": {
     "base_uri": "https://localhost:8080/"
    },
    "executionInfo": {
     "elapsed": 673,
     "status": "ok",
     "timestamp": 1608284730467,
     "user": {
      "displayName": "Alfonso AAG",
      "photoUrl": "",
      "userId": "05855385902499719219"
     },
     "user_tz": -60
    },
    "id": "1IvXnk-VNe4r",
    "outputId": "ad3a645b-8cbb-439d-fc95-f74313406cb6"
   },
   "outputs": [
    {
     "name": "stdout",
     "output_type": "stream",
     "text": [
      "20\n",
      "20\n"
     ]
    }
   ],
   "source": [
    "# Respuesta\n",
    "lista = [1,3,0,5,9,20,-30]\n",
    "\n",
    "i = 0\n",
    "n = 0\n",
    "for x in lista:\n",
    "    if (i > 0):\n",
    "        if(x>n):\n",
    "            n = x\n",
    "    else:\n",
    "        n = x\n",
    "    i+=1\n",
    "\n",
    "print(n)\n",
    "\n",
    "mayor = lista[0]\n",
    "for x in lista:\n",
    "    if(x>mayor):\n",
    "        mayor = x\n",
    "print(mayor)"
   ]
  },
  {
   "cell_type": "markdown",
   "metadata": {
    "id": "Rb6aRhtrN7Te"
   },
   "source": [
    "### Ejercicio 2\n",
    " \n",
    "Mediante el uso de bucle encuentra el elemento menor de la lista\n",
    "[1,3,0,5,9,20,-30]"
   ]
  },
  {
   "cell_type": "code",
   "execution_count": 7,
   "metadata": {
    "colab": {
     "base_uri": "https://localhost:8080/"
    },
    "executionInfo": {
     "elapsed": 649,
     "status": "ok",
     "timestamp": 1608284737133,
     "user": {
      "displayName": "Alfonso AAG",
      "photoUrl": "",
      "userId": "05855385902499719219"
     },
     "user_tz": -60
    },
    "id": "Q8PGdrawOALG",
    "outputId": "495ffdc5-d159-4d07-ad23-5e2e2857021c"
   },
   "outputs": [
    {
     "name": "stdout",
     "output_type": "stream",
     "text": [
      "-30\n"
     ]
    }
   ],
   "source": [
    "# Respuesta\n",
    "lista = [1,3,0,5,9,20,-30]\n",
    "\n",
    "i = 0\n",
    "n = 0\n",
    "for x in lista:\n",
    "    if (i > 0):\n",
    "        if(x<n):\n",
    "            n = x\n",
    "    else:\n",
    "        n = x\n",
    "    i+=1\n",
    "\n",
    "print(n)"
   ]
  },
  {
   "cell_type": "markdown",
   "metadata": {
    "id": "BZBNw9XCPfz1"
   },
   "source": [
    "### Ejercicio 3\n",
    " \n",
    "Mediante el uso de bucle **`while`** encuentra el elemento menor de la lista\n",
    "[-100,1,3,0,5,9,20,-30]"
   ]
  },
  {
   "cell_type": "code",
   "execution_count": 4,
   "metadata": {
    "colab": {
     "base_uri": "https://localhost:8080/"
    },
    "executionInfo": {
     "elapsed": 676,
     "status": "ok",
     "timestamp": 1608285811140,
     "user": {
      "displayName": "Alfonso AAG",
      "photoUrl": "",
      "userId": "05855385902499719219"
     },
     "user_tz": -60
    },
    "id": "2byFF_T0O7ya",
    "outputId": "def2e496-9303-423c-ae65-98bcd2136cd6"
   },
   "outputs": [
    {
     "name": "stdout",
     "output_type": "stream",
     "text": [
      "-100\n"
     ]
    }
   ],
   "source": [
    "lista = [-100,1,3,0,5,9,20,-30]\n",
    "\n",
    "# Respuesta\n",
    "x = 0\n",
    "n = 0\n",
    "while(x<len(lista)):\n",
    "    if(x > 0):\n",
    "        if(lista[x]<n):\n",
    "            n = lista[x]\n",
    "    else:\n",
    "        n = lista[x]\n",
    "    x += 1\n",
    "    \n",
    "print(n)"
   ]
  },
  {
   "cell_type": "markdown",
   "metadata": {
    "id": "bt1PjcBURF_U"
   },
   "source": [
    "### Ejercicio 4\n",
    " \n",
    "Mediante el uso de bucle **`while`** encuentra el elemento mayor de la lista\n",
    "[-100,1,3,0,5,9,20,-30]"
   ]
  },
  {
   "cell_type": "code",
   "execution_count": 9,
   "metadata": {
    "colab": {
     "base_uri": "https://localhost:8080/"
    },
    "executionInfo": {
     "elapsed": 667,
     "status": "ok",
     "timestamp": 1608285831624,
     "user": {
      "displayName": "Alfonso AAG",
      "photoUrl": "",
      "userId": "05855385902499719219"
     },
     "user_tz": -60
    },
    "id": "BmWMiVwdP9j_",
    "outputId": "0e7303c1-12af-4e76-9b8f-a39401f10b4b"
   },
   "outputs": [
    {
     "name": "stdout",
     "output_type": "stream",
     "text": [
      "20\n"
     ]
    }
   ],
   "source": [
    "lista = [-100,1,3,0,5,9,20,-30]\n",
    "\n",
    "# Respuesta\n",
    "x = 0\n",
    "n = 0\n",
    "while(x<len(lista)):\n",
    "    if(x > 0):\n",
    "        if(lista[x]>n):\n",
    "            n = lista[x]\n",
    "    else:\n",
    "        n = lista[x]\n",
    "    x += 1\n",
    "    \n",
    "print(n)"
   ]
  },
  {
   "cell_type": "markdown",
   "metadata": {
    "id": "mPCD11pnVlHg"
   },
   "source": [
    "### Ejercicio 5\n",
    " \n",
    "Mediante un bucle `for` `inline`, encuentra los elementos **pares**"
   ]
  },
  {
   "cell_type": "code",
   "execution_count": 12,
   "metadata": {
    "colab": {
     "base_uri": "https://localhost:8080/"
    },
    "executionInfo": {
     "elapsed": 720,
     "status": "ok",
     "timestamp": 1608286516996,
     "user": {
      "displayName": "Alfonso AAG",
      "photoUrl": "",
      "userId": "05855385902499719219"
     },
     "user_tz": -60
    },
    "id": "jc7rXyv8RREG",
    "outputId": "7b1694d2-b55d-4bcb-c4d6-60e9c5bfdb0f"
   },
   "outputs": [
    {
     "name": "stdout",
     "output_type": "stream",
     "text": [
      "[-100, 0, 20, -30]\n"
     ]
    }
   ],
   "source": [
    "lista = [-100,1,3,0,5,9,20,-30]\n",
    "\n",
    "# Respuesta\n",
    "#for x in lista:\n",
    "#    if(x%2 == 0):\n",
    "#        pares.append(x)\n",
    "pares = [ x for x in lista if x % 2 == 0]\n",
    "\n",
    "print(pares)"
   ]
  },
  {
   "cell_type": "markdown",
   "metadata": {
    "id": "sMvHB6U4WcpF"
   },
   "source": [
    "### Ejercicio 6\n",
    " \n",
    "Mediante un bucle `for` `inline`, encuentra los elementos **mayores de 4**"
   ]
  },
  {
   "cell_type": "code",
   "execution_count": 15,
   "metadata": {
    "colab": {
     "base_uri": "https://localhost:8080/"
    },
    "executionInfo": {
     "elapsed": 627,
     "status": "ok",
     "timestamp": 1608286630434,
     "user": {
      "displayName": "Alfonso AAG",
      "photoUrl": "",
      "userId": "05855385902499719219"
     },
     "user_tz": -60
    },
    "id": "9SLrPf7-UbjU",
    "outputId": "461a39a8-6f85-4c1a-bb27-2e3302932d13"
   },
   "outputs": [
    {
     "name": "stdout",
     "output_type": "stream",
     "text": [
      "[5, 9, 20]\n"
     ]
    }
   ],
   "source": [
    "lista = [-100,1,3,0,5,9,20,-30]\n",
    "\n",
    "# Respuesta\n",
    "numbers = [ x for x in lista if x > 4 ]\n",
    "\n",
    "print(numbers)"
   ]
  },
  {
   "cell_type": "markdown",
   "metadata": {
    "id": "yy4WU12wXFQx"
   },
   "source": [
    "### Ejercicio 5\n",
    " \n",
    "Mediante una función anónima `lambda`, encuentra los elementos **pares**"
   ]
  },
  {
   "cell_type": "code",
   "execution_count": 34,
   "metadata": {
    "colab": {
     "base_uri": "https://localhost:8080/"
    },
    "executionInfo": {
     "elapsed": 723,
     "status": "ok",
     "timestamp": 1608286845569,
     "user": {
      "displayName": "Alfonso AAG",
      "photoUrl": "",
      "userId": "05855385902499719219"
     },
     "user_tz": -60
    },
    "id": "YY-cO2ZdWm9k",
    "outputId": "7c77dad8-8f8f-4ea6-b82d-376011abaddb"
   },
   "outputs": [
    {
     "name": "stdout",
     "output_type": "stream",
     "text": [
      "[-100, 0, 20, -30]\n",
      "[-100, 0, 20, -30]\n"
     ]
    }
   ],
   "source": [
    "lista = [-100,1,3,0,5,9,20,-30]\n",
    "\n",
    "# Respuesta\n",
    "par = lambda x : True if (x%2 == 0) else False\n",
    "pares = [ x for x in lista if par(x)]\n",
    "\n",
    "print(pares)\n",
    "\n",
    "pares2 = list(filter(lambda x : (x%2==0), lista))\n",
    "print(pares2)"
   ]
  },
  {
   "cell_type": "markdown",
   "metadata": {
    "id": "A7P__Kt3XgIA"
   },
   "source": [
    "### Ejercicio 5\n",
    " \n",
    "Mediante una función , encuentra los elementos **pares**"
   ]
  },
  {
   "cell_type": "code",
   "execution_count": 17,
   "metadata": {
    "colab": {
     "base_uri": "https://localhost:8080/"
    },
    "executionInfo": {
     "elapsed": 680,
     "status": "ok",
     "timestamp": 1608287120321,
     "user": {
      "displayName": "Alfonso AAG",
      "photoUrl": "",
      "userId": "05855385902499719219"
     },
     "user_tz": -60
    },
    "id": "dBZteMMtXbWw",
    "outputId": "0d9ae4c9-3a86-4336-9fed-a2d05c15ee79"
   },
   "outputs": [
    {
     "name": "stdout",
     "output_type": "stream",
     "text": [
      "[-100, 0, 20, -30]\n"
     ]
    }
   ],
   "source": [
    "def par(x):\n",
    "    if(x%2 == 0):\n",
    "        return True\n",
    "    else:\n",
    "        return False\n",
    "\n",
    "lista = [-100,1,3,0,5,9,20,-30]\n",
    "\n",
    "#Respuesta\n",
    "pares = [ x for x in lista if par(x)]\n",
    "print(pares)\n"
   ]
  },
  {
   "cell_type": "markdown",
   "metadata": {
    "id": "zVwb9SaCaKla"
   },
   "source": [
    "### Ejercicio 6\n",
    " \n",
    "Mediante una función concatena los elementos de una lista para formar una frase.[\"Hola,\", \"esto\", \"es\", \"una\", \"prueba\"]\n",
    " \n",
    "`Hola, esto es una prueba `"
   ]
  },
  {
   "cell_type": "code",
   "execution_count": 33,
   "metadata": {
    "colab": {
     "base_uri": "https://localhost:8080/"
    },
    "executionInfo": {
     "elapsed": 719,
     "status": "ok",
     "timestamp": 1608288111127,
     "user": {
      "displayName": "Alfonso AAG",
      "photoUrl": "",
      "userId": "05855385902499719219"
     },
     "user_tz": -60
    },
    "id": "TzzxG0W5az19",
    "outputId": "11933783-93ac-476f-b0ed-783bb3b56efa"
   },
   "outputs": [
    {
     "name": "stdout",
     "output_type": "stream",
     "text": [
      "Hola, esto es una prueba "
     ]
    }
   ],
   "source": [
    "def concatenar(*args):\n",
    "    frase = \"\"\n",
    "    for x in args[0]:\n",
    "        print(x, end=' ')\n",
    "\n",
    "lista_cadenas = [\"Hola,\", \"esto\", \"es\", \"una\", \"prueba\"]\n",
    "\n",
    "# Respuesta\n",
    "concatenar(lista_cadenas)"
   ]
  },
  {
   "cell_type": "code",
   "execution_count": null,
   "metadata": {
    "colab": {
     "base_uri": "https://localhost:8080/"
    },
    "executionInfo": {
     "elapsed": 675,
     "status": "ok",
     "timestamp": 1608288053299,
     "user": {
      "displayName": "Alfonso AAG",
      "photoUrl": "",
      "userId": "05855385902499719219"
     },
     "user_tz": -60
    },
    "id": "jfYyh0WIXzCq",
    "outputId": "3d4c5dae-6396-4119-e165-91242650155f"
   },
   "outputs": [
    {
     "name": "stdout",
     "output_type": "stream",
     "text": [
      "Hola, esto es una prueba\n"
     ]
    }
   ],
   "source": [
    "lista_cadenas = [\"Hola,\", \"esto\", \"es\", \"una\", \"prueba\"]\n",
    "\n",
    "# Respuesta 2\n",
    "\n"
   ]
  }
 ],
 "metadata": {
  "colab": {
   "authorship_tag": "ABX9TyPpeoo68hzbz5WWlleBXZPY",
   "collapsed_sections": [],
   "name": "EAE_Ejercicios_Python_Alumnos.ipynb",
   "provenance": [
    {
     "file_id": "14eBEzSGynPM8FjW_puz7I887bagnzlye",
     "timestamp": 1608290760627
    }
   ]
  },
  "kernelspec": {
   "display_name": "Python 3",
   "language": "python",
   "name": "python3"
  },
  "language_info": {
   "codemirror_mode": {
    "name": "ipython",
    "version": 3
   },
   "file_extension": ".py",
   "mimetype": "text/x-python",
   "name": "python",
   "nbconvert_exporter": "python",
   "pygments_lexer": "ipython3",
   "version": "3.7.6"
  }
 },
 "nbformat": 4,
 "nbformat_minor": 1
}
